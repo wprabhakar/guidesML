{
 "cells": [
  {
   "cell_type": "markdown",
   "metadata": {},
   "source": [
    "## USER OF LINE ANGLE AND LENGTH PREDICTOR V1"
   ]
  },
  {
   "cell_type": "code",
   "execution_count": 25,
   "metadata": {},
   "outputs": [],
   "source": [
    "import math\n",
    "import scipy as sc\n",
    "import pickle\n",
    "import matplotlib.pyplot as plt\n",
    "import numpy as np\n",
    "from math import atan2,degrees\n",
    "from math import sqrt\n",
    "from math import fabs\n",
    "from scipy import misc as ms"
   ]
  },
  {
   "cell_type": "markdown",
   "metadata": {},
   "source": [
    "### Utility functions  for image feature extractions"
   ]
  },
  {
   "cell_type": "code",
   "execution_count": 26,
   "metadata": {},
   "outputs": [],
   "source": [
    "'''\n",
    "For rotating  image \n",
    "'''\n",
    "def RotateImage(image, dim):\n",
    "    \n",
    "    new_image = np.zeros((dim, dim), dtype=np.uint8)\n",
    "    new_image[:,:] = 255 \n",
    "     \n",
    "    # Rotate\n",
    "    for row in range(0,100): # Visit all collumns\n",
    "        for col in range(0,100): \n",
    "            new_image[ dim - row -1,col] = image[row,  col] \n",
    "\n",
    "    # Copy back \n",
    "    for row in range(0,100): # Visit all collumns\n",
    "        for col in range(0,100): \n",
    "             image[row,  col] = new_image[row, col]"
   ]
  },
  {
   "cell_type": "code",
   "execution_count": 27,
   "metadata": {},
   "outputs": [],
   "source": [
    "'''\n",
    "For projecting the image on the y axis\n",
    "'''\n",
    "def Get_Y_Shadow(image):\n",
    "    dim = 100  \n",
    "    #y_shadow =  np.zeros(dim, dtype=np.uint8) \n",
    "    y_shadow =  np.full(dim,  255) \n",
    "    index= 0\n",
    "    \n",
    "    # Start from left col (x=0) to last col (x= 99\n",
    "    for col in range(0,100): # Visit all collumns\n",
    "        for row in range(0,100): \n",
    "            gray = image[row,  col]\n",
    "            if  gray == 0 : # Look for non-white pixels\n",
    "                # Project on y-axis\n",
    "                if y_shadow[row]== 255: # Move if not was already plotted\n",
    "                    index = index + 1  \n",
    "                # Project on y-axis\n",
    "                y_shadow[row]= col # y_shadow[row] + 1 \n",
    "                 \n",
    "    # ADJUSTED index needs to be less one\n",
    "    index = index -1\n",
    "    \n",
    "    #print(index)\n",
    "    return y_shadow,index\n",
    "                    "
   ]
  },
  {
   "cell_type": "code",
   "execution_count": 28,
   "metadata": {},
   "outputs": [],
   "source": [
    "'''\n",
    "For projecting the image on the x axis\n",
    "'''\n",
    "def Get_X_Shadow(image):\n",
    "    dim = 100  \n",
    "    #x_shadow =  np.zeros(dim, dtype=np.uint8) \n",
    "    x_shadow =  np.full(dim,  255) \n",
    "        \n",
    "    index= 0\n",
    "    \n",
    "    # Start from top row (y=99) to last row (y= 99\n",
    "    for row in range(0,100): # Visit all collumns\n",
    "        for col in range(0,100): \n",
    "            gray = image[row,  col]\n",
    "            if  gray == 0 : # Look for non-white pixels\n",
    "                \n",
    "                if x_shadow[col]== 255: # Move if not was already plotted\n",
    "                    index = index + 1  \n",
    "                # Project on x-axis\n",
    "                x_shadow[col]= dim - 1- row #x_shadow[col] + 1 \n",
    "     \n",
    "    #print(index)\n",
    "    \n",
    "    #print(x_shadow)\n",
    "    # ADJUSTED index needs to be less one\n",
    "    index = index -1\n",
    "    return x_shadow,index\n",
    "                    "
   ]
  },
  {
   "cell_type": "code",
   "execution_count": 29,
   "metadata": {},
   "outputs": [],
   "source": [
    "def getFirstFromLeft(a, dim):\n",
    "    for i in range(0,dim):\n",
    "        if   a[i] != 255 :\n",
    "            #print('From left: {}:{}'.format( i,a[i] ))\n",
    "            return a[i]  "
   ]
  },
  {
   "cell_type": "code",
   "execution_count": 30,
   "metadata": {},
   "outputs": [],
   "source": [
    "def getFirstFromRight(a, dim):\n",
    "    for i in range(dim-1,-1,-1):\n",
    "        #print(i)\n",
    "        if   a[i] != 255 :\n",
    "            #print('From right: {}:{}'.format( i,a[i] ))\n",
    "            return a[i]  "
   ]
  },
  {
   "cell_type": "code",
   "execution_count": 31,
   "metadata": {},
   "outputs": [],
   "source": [
    "def CheckIfDescends ( a, dim):\n",
    "    left = getFirstFromLeft(a, dim)   \n",
    "    right = getFirstFromRight(a, dim)\n",
    "    \n",
    "    #print(\"left is {}\".format(left))\n",
    "    #print(\"right is {}\".format(right))\n",
    "    \n",
    "    return right < left"
   ]
  },
  {
   "cell_type": "code",
   "execution_count": 32,
   "metadata": {},
   "outputs": [],
   "source": [
    "'''\n",
    "For reducing the features, we condense the columns into one column\n",
    "and the rows in one row. So will reduce image to two features  \n",
    "    - yShadow\n",
    "    - xShadow\n",
    "'''\n",
    "def ExtractImageFeatures( image, dim):  \n",
    " \n",
    "    yShadow,dy = Get_Y_Shadow(image) \n",
    "    xShadow,dx = Get_X_Shadow(image)\n",
    " \n",
    "    lineDescends = CheckIfDescends(xShadow,dim)\n",
    "    if lineDescends: \n",
    "        dy = -1*dy\n",
    "         \n",
    "    return dx,dy\n",
    "    "
   ]
  },
  {
   "cell_type": "code",
   "execution_count": 33,
   "metadata": {},
   "outputs": [],
   "source": [
    "'''\n",
    "For reducing the features, we condense the columns into one column\n",
    "and the rows in one row. So will reduce image to two features  \n",
    "    - yShadow\n",
    "    - xShadow\n",
    "'''\n",
    "def ExtractImageFeaturesForLengthPredictor( image, dim):  \n",
    " \n",
    "    yShadow,dy = Get_Y_Shadow(image) \n",
    "    xShadow,dx = Get_X_Shadow(image)\n",
    " \n",
    "    # No need to check for descending lines\n",
    "    # as is trained for only positive dx values!\n",
    "    \n",
    "    #print(\"           ==> Line prediction using dx={} and dy={}\".format(dx,dy))\n",
    "    return dx,dy"
   ]
  },
  {
   "cell_type": "markdown",
   "metadata": {},
   "source": [
    "### Additional utility functions "
   ]
  },
  {
   "cell_type": "code",
   "execution_count": 34,
   "metadata": {},
   "outputs": [],
   "source": [
    "def ConvertClassCodeToLabel(code):\n",
    "    if code == 0.0:\n",
    "        return 'HORIZONTAL'\n",
    "    if code == 1.0:\n",
    "        return 'VERTICAL'\n",
    "    if code == 2.0:\n",
    "        return 'ASCENDING'\n",
    "    if code == 3.0:\n",
    "        return 'DESCENDING'"
   ]
  },
  {
   "cell_type": "code",
   "execution_count": 35,
   "metadata": {},
   "outputs": [],
   "source": [
    "'''\n",
    "For finding the distance between points\n",
    "'''\n",
    "def Distance(p1,p2):\n",
    "    \n",
    "    x1 = p1[0]\n",
    "    y1 = p1[1]\n",
    "    \n",
    "    x2 = p2[0]\n",
    "    y2 = p2[1]\n",
    "    \n",
    "    dx = x1-x2\n",
    "    dy = y1-y2\n",
    "    \n",
    "    d= math.sqrt(  (dx*dx) + (dy*dy) )\n",
    "    return d\n",
    "    \n",
    " "
   ]
  },
  {
   "cell_type": "code",
   "execution_count": 36,
   "metadata": {},
   "outputs": [],
   "source": [
    "'''\n",
    "For finding the angle of line between two points\n",
    "Assume origin of coordinate system a left bottom\n",
    "'''\n",
    "# Make sure left hand point comes first!\n",
    " \n",
    "def Angle2(p1, p2):\n",
    "    x1 = p1[0]\n",
    "    y1 = p1[1]\n",
    "    \n",
    "    x2 = p2[0]\n",
    "    y2 = p2[1]\n",
    "    \n",
    "    # If incoming points already sorted on left hand point first\n",
    "    #xDiff = p2[0] - p1[0]\n",
    "    #yDiff = p2[1] - p1[1]\n",
    "    \n",
    "    # IF NOT VERTICAL\n",
    "    if( x1 != x2):\n",
    "        #Check if first point is left hand  \n",
    "        if( x1> x2):# Not left hand so swap\n",
    "            # Swap P1 and P2\n",
    "            tx=x1\n",
    "            ty=y1\n",
    "            \n",
    "            x1=x2\n",
    "            y1=y2\n",
    "            \n",
    "            x2=tx\n",
    "            y2=ty\n",
    "    else: # Verical so check lowest point first\n",
    "         if( y1> y2):# Not left hand so swap\n",
    "            # Swap P1 and P2\n",
    "            tx=x1\n",
    "            ty=y1\n",
    "            \n",
    "            x1=x2\n",
    "            y1=y2\n",
    "            \n",
    "            x2=tx\n",
    "            y2=ty   \n",
    "    \n",
    "    xDiff = x2 - x1\n",
    "    yDiff = y2 - y1\n",
    "    \n",
    "    ang = math.degrees(atan2(yDiff, xDiff)) # + 90 \n",
    "   \n",
    "     \n",
    "    # Enable If we want vertical to be recorded as d\n",
    "    # DOWN = -90 rather than UP = 90\n",
    "    #if ang == 90:\n",
    "    #     ang = -90\n",
    "    \n",
    "    return ang \n",
    "\n"
   ]
  },
  {
   "cell_type": "code",
   "execution_count": 37,
   "metadata": {},
   "outputs": [],
   "source": [
    "'''\n",
    "For finding the angle of line between two points\n",
    "Assume origin of coordinate system a left bottom\n",
    "'''\n",
    "# Make sure left hand point comes first!\n",
    " \n",
    "def Angle(p1, p2):\n",
    "    x1 = p1[0]\n",
    "    y1 = p1[1]\n",
    "    \n",
    "    x2 = p2[0]\n",
    "    y2 = p2[1]\n",
    "    \n",
    "    # Make sure left hand point first\n",
    "    xDiff = p2[0] - p1[0]\n",
    "    yDiff = p2[1] - p1[1]\n",
    "    \n",
    "    ang = math.degrees(atan2(yDiff, xDiff)) \n",
    "    return ang"
   ]
  },
  {
   "cell_type": "code",
   "execution_count": 38,
   "metadata": {},
   "outputs": [
    {
     "name": "stdout",
     "output_type": "stream",
     "text": [
      "lenght = 140.0071426749364\n",
      "angle = 45.0\n"
     ]
    }
   ],
   "source": [
    "p1= [0,0]\n",
    "p2= [99,99]\n",
    "\n",
    "l = Distance(p1,p2)\n",
    "a = Angle(p1,p2)\n",
    "\n",
    "print(\"lenght = {}\".format(l))\n",
    "print(\"angle = {}\".format(a))"
   ]
  },
  {
   "cell_type": "code",
   "execution_count": null,
   "metadata": {},
   "outputs": [],
   "source": [
    " \n",
    "    "
   ]
  },
  {
   "cell_type": "code",
   "execution_count": 39,
   "metadata": {},
   "outputs": [],
   "source": [
    "def LoadImage(filename):#\"test.bmp\"\n",
    "    image= sc.misc.imread(filename , flatten= 1)\n",
    "    plt.imshow(image, cmap='gray') \n",
    "    return image"
   ]
  },
  {
   "cell_type": "markdown",
   "metadata": {},
   "source": [
    "### Load the Model and X_Scaler - For Linear Regression - Angle predictor"
   ]
  },
  {
   "cell_type": "code",
   "execution_count": 40,
   "metadata": {},
   "outputs": [],
   "source": [
    "# This model is trained on ascending lines only\n",
    "def LoadModelAndScalerForAnglePrediction(): #ascending_angle_predictor\n",
    "    X_scaler = pickle.load(open('./PICKLES/ascending_angle_predictor_X_scaler.pickle', 'rb'))\n",
    "    model = pickle.load(open('./PICKLES/ascending_angle_predictor.pickle', 'rb'))\n",
    "    \n",
    "    return X_scaler,model\n"
   ]
  },
  {
   "cell_type": "markdown",
   "metadata": {},
   "source": [
    "### Load the Model and X_Scaler - For Linear Regression - Length predictor\n"
   ]
  },
  {
   "cell_type": "code",
   "execution_count": 41,
   "metadata": {},
   "outputs": [],
   "source": [
    "def LoadModelAndScalerForLengthPrediction(): \n",
    "    X_scaler = pickle.load(open('./PICKLES/length_predictor_X_scaler.pickle', 'rb'))\n",
    "    model = pickle.load(open('./PICKLES/length_predictor.pickle', 'rb'))\n",
    "    \n",
    "    return X_scaler,model\n"
   ]
  },
  {
   "cell_type": "markdown",
   "metadata": {},
   "source": [
    "### Load the Model and X_Scaler - For Logistic Regression - Angle Class predictor"
   ]
  },
  {
   "cell_type": "code",
   "execution_count": 42,
   "metadata": {},
   "outputs": [],
   "source": [
    "# load model in deployment\n",
    "def LoadModelAndScalerForAngleClassification(): #ascending_angle_predictor\n",
    "    X_scaler = pickle.load(open('./PICKLES/angle_classifier_X_scaler.pickle', 'rb'))\n",
    "    model = pickle.load(open('./PICKLES/angle_classifier.pickle', 'rb'))\n",
    "    \n",
    "    return X_scaler, model \n"
   ]
  },
  {
   "cell_type": "markdown",
   "metadata": {},
   "source": [
    "### Load an image to predict angle of line"
   ]
  },
  {
   "cell_type": "code",
   "execution_count": 43,
   "metadata": {},
   "outputs": [],
   "source": [
    "def LoadImage(filename):#\"test.bmp\"\n",
    "    image= ms.imread(filename , flatten= 1)\n",
    "    plt.imshow(image, cmap='gray') \n",
    "    return image"
   ]
  },
  {
   "cell_type": "markdown",
   "metadata": {},
   "source": [
    "### Functions for user to make various prediction"
   ]
  },
  {
   "cell_type": "code",
   "execution_count": 44,
   "metadata": {},
   "outputs": [],
   "source": [
    "def PredictAngleOfLine( image, dim, scaler, model):\n",
    "    \n",
    "    # We work with one image ( therefor we extract two features)\n",
    "    noOfImages =1\n",
    "    dim =100\n",
    "    X = np.zeros((noOfImages, 2))\n",
    "\n",
    "    # Extract and store image features \n",
    "    dx,dy = ExtractImageFeatures( image, dim) \n",
    "    X[0,0]= dx\n",
    "    X[0,1]= dy\n",
    "    \n",
    "     \n",
    "    \n",
    "    # Predict the angle\n",
    "    Z = scaler.transform(X)  \n",
    "    y_pred = model.predict(Z)\n",
    "    angle = y_pred[0]\n",
    "    \n",
    "    return angle\n",
    "  "
   ]
  },
  {
   "cell_type": "code",
   "execution_count": 45,
   "metadata": {},
   "outputs": [],
   "source": [
    "def PredictLengthOfLine( image, dim, scaler, model):\n",
    "    \n",
    "    # We work with one image ( therefor we extract two features)\n",
    "    noOfImages =1\n",
    "    dim =100\n",
    "    X = np.zeros((noOfImages, 2))\n",
    "\n",
    "    # Extract and store image features   \n",
    "    dx,dy = ExtractImageFeaturesForLengthPredictor( image, dim) \n",
    "    \n",
    "    X[0,0]= dx\n",
    "    X[0,1]= dy\n",
    "    \n",
    "    # Predict the angle\n",
    "    Z = scaler.transform(X)  \n",
    "    y_pred = model.predict(Z)\n",
    "    length = y_pred[0]\n",
    "    \n",
    "    return length"
   ]
  },
  {
   "cell_type": "code",
   "execution_count": 46,
   "metadata": {},
   "outputs": [],
   "source": [
    "def PredictAngleClassOfLine( image, dim, scaler, model):\n",
    "    \n",
    "    # We work with one image ( we extract two features)\n",
    "    noOfImages =1\n",
    "    dim = 100\n",
    "    df_X = np.zeros((noOfImages, 2)) \n",
    "    \n",
    "    # Extract and store image features \n",
    "    dx,dy = ExtractImageFeatures( image, dim)  \n",
    "    df_X[0,0]= dx\n",
    "    df_X[0,1]= dy\n",
    " \n",
    "    # Predict the Class\n",
    "    df_Z = scaler.transform(df_X)   \n",
    "    y_pred = model.predict(df_Z ) \n",
    "    angle_class_predict = y_pred[0]\n",
    "    \n",
    "    #print(\"dx= {}, dy= {}\".format(dx,dy))  \n",
    "    return angle_class_predict\n",
    "\n",
    "    "
   ]
  },
  {
   "cell_type": "markdown",
   "metadata": {},
   "source": [
    "## RUN MAIN PROGRAM\n"
   ]
  },
  {
   "cell_type": "code",
   "execution_count": 76,
   "metadata": {},
   "outputs": [
    {
     "name": "stderr",
     "output_type": "stream",
     "text": [
      "C:\\Users\\admin\\Anaconda3\\envs\\mldds\\lib\\site-packages\\ipykernel_launcher.py:2: DeprecationWarning: `imread` is deprecated!\n",
      "`imread` is deprecated in SciPy 1.0.0, and will be removed in 1.2.0.\n",
      "Use ``imageio.imread`` instead.\n",
      "  \n",
      "C:\\Users\\admin\\Anaconda3\\envs\\mldds\\lib\\site-packages\\ipykernel_launcher.py:2: DeprecationWarning: `imread` is deprecated!\n",
      "`imread` is deprecated in SciPy 1.0.0, and will be removed in 1.2.0.\n",
      "Use ``imageio.imread`` instead.\n",
      "  \n"
     ]
    },
    {
     "name": "stdout",
     "output_type": "stream",
     "text": [
      "**************************************************\n",
      "  PREDICTED VALUES                                \n",
      "**************************************************\n",
      "Class predicted =\t\t DESCENDING\n",
      "Angle predicted=\t\t -45.79732875343496\n",
      "Length predicted=\t\t 9.834190323578284\n",
      "\n",
      "**************************************************\n",
      "  ACTUAL VALUES                                   \n",
      "**************************************************\n",
      "dx= 3, dy= -4\n",
      "Actual angle=\t\t\t-53.13010235415598\n",
      "Actual lenght=\t\t\t5.0\n"
     ]
    },
    {
     "data": {
      "image/png": "[encoded data removed]",
      "text/plain": [
       "<Figure size 432x288 with 1 Axes>"
      ]
     },
     "metadata": {
      "needs_background": "light"
     },
     "output_type": "display_data"
    }
   ],
   "source": [
    "# ************************************************************\n",
    "# The image you want to test\n",
    "# You can open the bmp file in paint and then draw one \n",
    "# single line with pixel width of one\n",
    "filename = \"test.bmp\"\n",
    "\n",
    "#***********************************************************\n",
    "# A folder with pre-prepared test cases\n",
    "#filename = \"./TEST/test1.bmp\"\n",
    "\n",
    "# If you want to see the actual values\n",
    "PRINT_ACTUAL_VALUES = True\n",
    "\n",
    "# Classes of angles\n",
    "HOR= 0\n",
    "VER= 1\n",
    "ASC= 2\n",
    "DSC= 3\n",
    "\n",
    "# Load our 3 pre-trained models \n",
    "scalerAnglePredictor, modelAnglePredictor = LoadModelAndScalerForAnglePrediction() \n",
    "scalerAngleClassifier, modelAngleClassifier = LoadModelAndScalerForAngleClassification() \n",
    "scalerLengthPredictor, modelLengthPredictor = LoadModelAndScalerForLengthPrediction() \n",
    " \n",
    "# Load image (must be bmp with dimension 100*100)\n",
    "dim = 100\n",
    "image = LoadImage(filename) \n",
    " \n",
    "\n",
    "# Our predictions start here\n",
    "print(\"**************************************************\")\n",
    "print(\"  PREDICTED VALUES                                \")\n",
    "print(\"**************************************************\")\n",
    "\n",
    "# PREDICT CLASS **************************\n",
    "class_code= PredictAngleClassOfLine( image, dim, scalerAngleClassifier, modelAngleClassifier)\n",
    "#print('Angle Class Code predicted= {}'.format(class_code))\n",
    "print('Class predicted =\\t\\t {}'.format(ConvertClassCodeToLabel(class_code)))\n",
    "\n",
    "# PREDICT ANGLE **************************\n",
    "if class_code == DSC:# If line is descending then rotate image first (as our model is trained for ascending lines)\n",
    "    rot_image = LoadImage(filename) \n",
    "    RotateImage(rot_image, dim)\n",
    "    #plt.imshow(image, cmap='gray') \n",
    "    angle= PredictAngleOfLine( rot_image, dim, scalerAnglePredictor, modelAnglePredictor)  * -1  \n",
    "else:\n",
    "    angle= PredictAngleOfLine( image, dim, scalerAnglePredictor, modelAnglePredictor)  \n",
    "\n",
    "print('Angle predicted=\\t\\t {}'.format(angle))\n",
    "  \n",
    "# PREDICT LENGTH **************************\n",
    "length = PredictLengthOfLine( image, dim, scalerLengthPredictor, modelLengthPredictor)\n",
    "print('Length predicted=\\t\\t {}'.format(length))\n",
    "\n",
    "# COUNTER CHECK THE PREDICTION WITH ACTUAL ANGLE AND LENGTH ****\n",
    "# Based on image features dx and dy\n",
    "if PRINT_ACTUAL_VALUES:\n",
    "    print()\n",
    "    print(\"**************************************************\")\n",
    "    print(\"  ACTUAL VALUES                                   \")\n",
    "    print(\"**************************************************\")\n",
    "    #image = LoadImage(filename) \n",
    "    dx,dy = ExtractImageFeatures( image, dim)  \n",
    "    print(\"dx= {}, dy= {}\".format(dx,dy))  \n",
    "\n",
    "\n",
    "    #  Tke note that (dx,dy) is used here as a displacement vector\n",
    "    if dy<0:# If descending line\n",
    "        p1 = [0,99]\n",
    "        p2 = [0+dx,99 + dy]\n",
    "    else:\n",
    "        p1 = [0,0]\n",
    "        p2 = [0+dx,0 + dy]\n",
    "\n",
    "    l = Distance(p1,p2)\n",
    "    a = Angle(p1,p2)\n",
    "\n",
    "    print(\"Actual angle=\\t\\t\\t{}\".format(a))\n",
    "    print(\"Actual lenght=\\t\\t\\t{}\".format(l))\n",
    "    \n",
    "\n",
    "\n",
    "\n"
   ]
  },
  {
   "cell_type": "code",
   "execution_count": null,
   "metadata": {},
   "outputs": [],
   "source": []
  }
 ],
 "metadata": {
  "kernelspec": {
   "display_name": "Python 3",
   "language": "python",
   "name": "python3"
  },
  "language_info": {
   "codemirror_mode": {
    "name": "ipython",
    "version": 3
   },
   "file_extension": ".py",
   "mimetype": "text/x-python",
   "name": "python",
   "nbconvert_exporter": "python",
   "pygments_lexer": "ipython3",
   "version": "3.6.7"
  }
 },
 "nbformat": 4,
 "nbformat_minor": 2
}
