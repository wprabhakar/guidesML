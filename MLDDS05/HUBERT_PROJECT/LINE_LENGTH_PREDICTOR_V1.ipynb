{
 "cells": [
  {
   "cell_type": "markdown",
   "metadata": {},
   "source": [
    "## LINE LENGTH PREDICTOR V1 - Linear Regression"
   ]
  },
  {
   "cell_type": "code",
   "execution_count": 1,
   "metadata": {
    "scrolled": true
   },
   "outputs": [],
   "source": [
    "import os\n",
    "from scipy import misc\n",
    "import matplotlib.pyplot as plt\n",
    "\n",
    "import numpy as np\n",
    "import pandas as pd\n",
    "from sklearn.model_selection import train_test_split, cross_validate, learning_curve\n",
    "from sklearn.preprocessing import StandardScaler\n",
    "from sklearn.decomposition import PCA\n",
    "\n",
    "from sklearn.feature_selection import SelectKBest, f_regression\n",
    "from sklearn.decomposition import PCA\n",
    "from sklearn.preprocessing import StandardScaler\n",
    "from sklearn.model_selection import train_test_split, cross_validate\n",
    "from sklearn.linear_model import SGDRegressor\n",
    "\n",
    "import math\n",
    "import scipy as sc\n",
    "import pickle\n",
    "\n",
    "%matplotlib inline\n",
    "\n"
   ]
  },
  {
   "cell_type": "markdown",
   "metadata": {},
   "source": [
    "## Our data set"
   ]
  },
  {
   "cell_type": "code",
   "execution_count": 2,
   "metadata": {},
   "outputs": [],
   "source": [
    "folder = 'IMAGES_1000_ALL_ANGLES_LENGTHS'\n",
    "noOfImages = 1000\n",
    "dim =100 "
   ]
  },
  {
   "cell_type": "markdown",
   "metadata": {},
   "source": [
    "## Utilities for feature extraction"
   ]
  },
  {
   "cell_type": "code",
   "execution_count": 3,
   "metadata": {},
   "outputs": [],
   "source": [
    "def RotateImage(image, dim):\n",
    "    \n",
    "    new_image = np.zeros((dim, dim), dtype=np.uint8)\n",
    "    new_image[:,:] = 255 \n",
    "     \n",
    "    # Rotate\n",
    "    for row in range(0,100): # Visit all collumns\n",
    "        for col in range(0,100): \n",
    "            new_image[ dim - row -1,col] = image[row,  col] \n",
    "\n",
    "    # Copy back \n",
    "    for row in range(0,100): # Visit all collumns\n",
    "        for col in range(0,100): \n",
    "             image[row,  col] = new_image[row, col]"
   ]
  },
  {
   "cell_type": "code",
   "execution_count": 4,
   "metadata": {},
   "outputs": [
    {
     "name": "stdout",
     "output_type": "stream",
     "text": [
      "89.09545442950498\n",
      "138.59292911256333\n"
     ]
    }
   ],
   "source": [
    "'''\n",
    "For finding the distance between points\n",
    "'''\n",
    "def Distance(x1,y1,x2,y2):\n",
    "    dx = x1-x2\n",
    "    dy = y1-y2\n",
    "    \n",
    "    d= math.sqrt(  (dx*dx) + (dy*dy) )\n",
    "    return d\n",
    "    \n",
    "d= Distance(0,99,63 ,36)\n",
    "print(d)\n",
    "\n",
    "d= Distance(0,99,98 ,1)\n",
    "print(d)"
   ]
  },
  {
   "cell_type": "code",
   "execution_count": 5,
   "metadata": {},
   "outputs": [],
   "source": [
    "'''\n",
    "For projecting the image on the y axis\n",
    "'''\n",
    "def Get_Y_Shadow(image):\n",
    "    dim = 100  \n",
    "    #y_shadow =  np.zeros(dim, dtype=np.uint8) \n",
    "    y_shadow =  np.full(dim,  255) \n",
    "    index= 0\n",
    "    \n",
    "    # Start from left col (x=0) to last col (x= 99\n",
    "    for col in range(0,100): # Visit all collumns\n",
    "        for row in range(0,100): \n",
    "            gray = image[row,  col]\n",
    "            if  gray == 0 : # Look for non-white pixels\n",
    "                # Project on y-axis\n",
    "                if y_shadow[row]== 255: # Move if not was already plotted\n",
    "                    index = index + 1  \n",
    "                # Project on y-axis\n",
    "                y_shadow[row]= col # y_shadow[row] + 1 \n",
    "                 \n",
    "     \n",
    "    #print(index)\n",
    "    # ADJUSTED index needs to be less one\n",
    "    index = index -1\n",
    "    \n",
    "    return y_shadow,index\n",
    "                    "
   ]
  },
  {
   "cell_type": "code",
   "execution_count": 6,
   "metadata": {},
   "outputs": [],
   "source": [
    "'''\n",
    "For projecting the image on the x axis\n",
    "'''\n",
    "def Get_X_Shadow(image):\n",
    "    dim = 100  \n",
    "    #x_shadow =  np.zeros(dim, dtype=np.uint8) \n",
    "    x_shadow =  np.full(dim,  255) \n",
    "        \n",
    "    index= 0\n",
    "    \n",
    "    # Start from top row (y=99) to last row (y= 99\n",
    "    for row in range(0,100): # Visit all collumns\n",
    "        for col in range(0,100): \n",
    "            gray = image[row,  col]\n",
    "            if  gray == 0 : # Look for non-white pixels\n",
    "                \n",
    "                if x_shadow[col]== 255: # Move if not was already plotted\n",
    "                    index = index + 1  \n",
    "                # Project on y-axis\n",
    "                x_shadow[col]= dim - 1- row #x_shadow[col] + 1 \n",
    "     \n",
    "    #print(index)\n",
    "    \n",
    "    # ADJUSTED index needs to be less one\n",
    "    index = index -1\n",
    "    \n",
    "    return x_shadow,index\n",
    "                    "
   ]
  },
  {
   "cell_type": "code",
   "execution_count": 7,
   "metadata": {},
   "outputs": [],
   "source": [
    "def getFirstFromLeft(a, dim):\n",
    "    for i in range(0,dim):\n",
    "        if   a[i] != 255 :\n",
    "            #print('From left: {}:{}'.format( i,a[i] ))\n",
    "            return a[i]  "
   ]
  },
  {
   "cell_type": "code",
   "execution_count": 8,
   "metadata": {},
   "outputs": [],
   "source": [
    "def getFirstFromRight(a, dim):\n",
    "    for i in range(dim-1,-1,-1):\n",
    "        #print(i)\n",
    "        if   a[i] != 255 :\n",
    "            #print('From right: {}:{}'.format( i,a[i] ))\n",
    "            return a[i]  "
   ]
  },
  {
   "cell_type": "code",
   "execution_count": 9,
   "metadata": {},
   "outputs": [],
   "source": [
    "def Count(image, gray, dim): \n",
    "    c = 0\n",
    "    for row in range(0,100): \n",
    "        for col in range(0,100):  \n",
    "            if image[row,  col] == gray :  \n",
    "                c= c+ 1 \n",
    "    return c\n",
    "                    "
   ]
  },
  {
   "cell_type": "code",
   "execution_count": 10,
   "metadata": {},
   "outputs": [],
   "source": [
    "'''\n",
    "For reducing the features, we condense the columns into one column\n",
    "and the rows in one row. We will reduce and work with two features\n",
    "    - yShadow\n",
    "    - xShadow\n",
    "'''\n",
    "def ExtractImageFeatures( image, dim):\n",
    "    \n",
    "    # Safety check - do now work with empty images!\n",
    "    # if data may have empty images enables this\n",
    "    # c= Count(image, 0, 100)\n",
    "    # if c== 0:\n",
    "    #    print (\"***EMPTY IMAGE FOUND!!!!\") \n",
    "    #    return 0,0\n",
    "     \n",
    " \n",
    "    yShadow,dy = Get_Y_Shadow(image) \n",
    "    xShadow,dx = Get_X_Shadow(image)\n",
    " \n",
    "    # Do not use negative for Line Length's\n",
    "    #lineDescends = CheckIfDescends(xShadow,dim)\n",
    "    #if lineDescends:\n",
    "    #    dy = -1*dy\n",
    "        \n",
    "    return dx,dy\n",
    "    "
   ]
  },
  {
   "cell_type": "markdown",
   "metadata": {},
   "source": [
    "## Create an array to store yShadow and xShadow"
   ]
  },
  {
   "cell_type": "code",
   "execution_count": 11,
   "metadata": {},
   "outputs": [
    {
     "name": "stdout",
     "output_type": "stream",
     "text": [
      "100\n",
      "1000\n",
      "IMAGES_1000_ALL_ANGLES_LENGTHS\n",
      "(1000, 2)\n"
     ]
    }
   ],
   "source": [
    "print(dim)\n",
    "print(noOfImages)\n",
    "print(folder)\n",
    "\n",
    "x_data = np.zeros((noOfImages, 2))\n",
    "\n",
    "#x_data = np.zeros((noOfImages, dim*2))\n",
    "print( x_data.shape)"
   ]
  },
  {
   "cell_type": "markdown",
   "metadata": {},
   "source": [
    "## Read x_data, all images in an array"
   ]
  },
  {
   "cell_type": "code",
   "execution_count": 12,
   "metadata": {
    "scrolled": false
   },
   "outputs": [
    {
     "name": "stderr",
     "output_type": "stream",
     "text": [
      "C:\\Users\\admin\\Anaconda3\\envs\\mldds\\lib\\site-packages\\ipykernel_launcher.py:9: DeprecationWarning: `imread` is deprecated!\n",
      "`imread` is deprecated in SciPy 1.0.0, and will be removed in 1.2.0.\n",
      "Use ``imageio.imread`` instead.\n",
      "  if __name__ == '__main__':\n"
     ]
    }
   ],
   "source": [
    "'''\n",
    "For loop that reads and processes all the images into a X\n",
    "'''  \n",
    "\n",
    "for count in range(0,noOfImages ):\n",
    "           \n",
    "    filename = \"./DATA/\" + str(folder) + \"/\"+ \"im_\" +str(count) + \".bmp\" \n",
    "    \n",
    "    image= misc.imread(filename, flatten= 1)   \n",
    "     \n",
    "    # Later need to try to use the shadows themself directly!\n",
    "    dx,dy = ExtractImageFeatures( image, dim)\n",
    "    \n",
    "    # Using dx and dy extracted from image\n",
    "    x_data[count,0]= dx\n",
    "    x_data[count,1]= dy\n",
    "   \n",
    "    "
   ]
  },
  {
   "cell_type": "code",
   "execution_count": 13,
   "metadata": {},
   "outputs": [
    {
     "data": {
      "text/plain": [
       "(1000, 2)"
      ]
     },
     "execution_count": 13,
     "metadata": {},
     "output_type": "execute_result"
    }
   ],
   "source": [
    "x_data.shape"
   ]
  },
  {
   "cell_type": "markdown",
   "metadata": {},
   "source": [
    "## Read y_data"
   ]
  },
  {
   "cell_type": "code",
   "execution_count": 14,
   "metadata": {},
   "outputs": [
    {
     "name": "stdout",
     "output_type": "stream",
     "text": [
      "Mean=>angle    1.213372\n",
      "dtype: float64\n",
      "Mean=>length    47.330844\n",
      "dtype: float64\n",
      "Mean=>x1    50.059\n",
      "dtype: float64\n",
      "Mean=>y1    49.18\n",
      "dtype: float64\n",
      "Mean=>x2    50.091\n",
      "dtype: float64\n",
      "Mean=>y2    50.963\n",
      "dtype: float64\n"
     ]
    }
   ],
   "source": [
    "\n",
    "filename = \"./DATA/\" + str(folder) + \"/\"+ \"ydata.csv\"  \n",
    "   \n",
    "#yDataFrame.to_csv(filename, index =False)\n",
    "#yDataFrame.to_csv?\n",
    "\n",
    "# Read data frame\n",
    "yDF= pd.read_csv(filename)\n",
    "yDF.head(10)\n",
    "\n",
    "yAngle = pd.DataFrame( yDF.loc[:,'angle'])\n",
    "\n",
    "#yAngle.head(10)\n",
    "\n",
    "yLength =  pd.DataFrame( yDF.loc[:,'length'])\n",
    " \n",
    "x1_DF =  pd.DataFrame( yDF.loc[:,'x1'])\n",
    "y1_DF =  pd.DataFrame( yDF.loc[:,'y1'])\n",
    "x2_DF =  pd.DataFrame( yDF.loc[:,'x2'])\n",
    "y2_DF =  pd.DataFrame( yDF.loc[:,'y2'])\n",
    "\n",
    "print(\"Mean=>{}\".format( yAngle.mean() ))\n",
    "print(\"Mean=>{}\".format( yLength.mean()))\n",
    "\n",
    "print(\"Mean=>{}\".format( x1_DF.mean() ))\n",
    "print(\"Mean=>{}\".format( y1_DF.mean()))\n",
    "\n",
    "print(\"Mean=>{}\".format( x2_DF.mean() ))\n",
    "print(\"Mean=>{}\".format( y2_DF.mean()))\n",
    "\n",
    "#print(yDF)\n"
   ]
  },
  {
   "cell_type": "code",
   "execution_count": 15,
   "metadata": {},
   "outputs": [
    {
     "data": {
      "text/html": [
       "<div>\n",
       "<style scoped>\n",
       "    .dataframe tbody tr th:only-of-type {\n",
       "        vertical-align: middle;\n",
       "    }\n",
       "\n",
       "    .dataframe tbody tr th {\n",
       "        vertical-align: top;\n",
       "    }\n",
       "\n",
       "    .dataframe thead th {\n",
       "        text-align: right;\n",
       "    }\n",
       "</style>\n",
       "<table border=\"1\" class=\"dataframe\">\n",
       "  <thead>\n",
       "    <tr style=\"text-align: right;\">\n",
       "      <th></th>\n",
       "      <th>length</th>\n",
       "    </tr>\n",
       "  </thead>\n",
       "  <tbody>\n",
       "    <tr>\n",
       "      <th>0</th>\n",
       "      <td>44.80</td>\n",
       "    </tr>\n",
       "    <tr>\n",
       "      <th>1</th>\n",
       "      <td>46.88</td>\n",
       "    </tr>\n",
       "    <tr>\n",
       "      <th>2</th>\n",
       "      <td>41.00</td>\n",
       "    </tr>\n",
       "    <tr>\n",
       "      <th>3</th>\n",
       "      <td>18.44</td>\n",
       "    </tr>\n",
       "    <tr>\n",
       "      <th>4</th>\n",
       "      <td>64.00</td>\n",
       "    </tr>\n",
       "    <tr>\n",
       "      <th>5</th>\n",
       "      <td>46.06</td>\n",
       "    </tr>\n",
       "    <tr>\n",
       "      <th>6</th>\n",
       "      <td>47.72</td>\n",
       "    </tr>\n",
       "    <tr>\n",
       "      <th>7</th>\n",
       "      <td>110.30</td>\n",
       "    </tr>\n",
       "    <tr>\n",
       "      <th>8</th>\n",
       "      <td>81.00</td>\n",
       "    </tr>\n",
       "    <tr>\n",
       "      <th>9</th>\n",
       "      <td>68.25</td>\n",
       "    </tr>\n",
       "  </tbody>\n",
       "</table>\n",
       "</div>"
      ],
      "text/plain": [
       "   length\n",
       "0   44.80\n",
       "1   46.88\n",
       "2   41.00\n",
       "3   18.44\n",
       "4   64.00\n",
       "5   46.06\n",
       "6   47.72\n",
       "7  110.30\n",
       "8   81.00\n",
       "9   68.25"
      ]
     },
     "execution_count": 15,
     "metadata": {},
     "output_type": "execute_result"
    }
   ],
   "source": [
    "#Our Target\n",
    "yLength.head(10)"
   ]
  },
  {
   "cell_type": "code",
   "execution_count": 16,
   "metadata": {},
   "outputs": [
    {
     "name": "stdout",
     "output_type": "stream",
     "text": [
      "(1000, 2)\n",
      "(1000, 1)\n"
     ]
    }
   ],
   "source": [
    "X= x_data\n",
    "y= yLength\n",
    "print (x_data.shape)\n",
    "print(y.shape)"
   ]
  },
  {
   "cell_type": "code",
   "execution_count": 17,
   "metadata": {},
   "outputs": [
    {
     "data": {
      "text/html": [
       "<div>\n",
       "<style scoped>\n",
       "    .dataframe tbody tr th:only-of-type {\n",
       "        vertical-align: middle;\n",
       "    }\n",
       "\n",
       "    .dataframe tbody tr th {\n",
       "        vertical-align: top;\n",
       "    }\n",
       "\n",
       "    .dataframe thead th {\n",
       "        text-align: right;\n",
       "    }\n",
       "</style>\n",
       "<table border=\"1\" class=\"dataframe\">\n",
       "  <thead>\n",
       "    <tr style=\"text-align: right;\">\n",
       "      <th></th>\n",
       "      <th>0</th>\n",
       "      <th>1</th>\n",
       "    </tr>\n",
       "  </thead>\n",
       "  <tbody>\n",
       "    <tr>\n",
       "      <th>0</th>\n",
       "      <td>34.0</td>\n",
       "      <td>27.0</td>\n",
       "    </tr>\n",
       "    <tr>\n",
       "      <th>1</th>\n",
       "      <td>45.0</td>\n",
       "      <td>9.0</td>\n",
       "    </tr>\n",
       "    <tr>\n",
       "      <th>2</th>\n",
       "      <td>0.0</td>\n",
       "      <td>40.0</td>\n",
       "    </tr>\n",
       "    <tr>\n",
       "      <th>3</th>\n",
       "      <td>4.0</td>\n",
       "      <td>17.0</td>\n",
       "    </tr>\n",
       "    <tr>\n",
       "      <th>4</th>\n",
       "      <td>1.0</td>\n",
       "      <td>63.0</td>\n",
       "    </tr>\n",
       "    <tr>\n",
       "      <th>5</th>\n",
       "      <td>20.0</td>\n",
       "      <td>40.0</td>\n",
       "    </tr>\n",
       "    <tr>\n",
       "      <th>6</th>\n",
       "      <td>25.0</td>\n",
       "      <td>39.0</td>\n",
       "    </tr>\n",
       "    <tr>\n",
       "      <th>7</th>\n",
       "      <td>76.0</td>\n",
       "      <td>78.0</td>\n",
       "    </tr>\n",
       "    <tr>\n",
       "      <th>8</th>\n",
       "      <td>75.0</td>\n",
       "      <td>28.0</td>\n",
       "    </tr>\n",
       "    <tr>\n",
       "      <th>9</th>\n",
       "      <td>55.0</td>\n",
       "      <td>38.0</td>\n",
       "    </tr>\n",
       "  </tbody>\n",
       "</table>\n",
       "</div>"
      ],
      "text/plain": [
       "      0     1\n",
       "0  34.0  27.0\n",
       "1  45.0   9.0\n",
       "2   0.0  40.0\n",
       "3   4.0  17.0\n",
       "4   1.0  63.0\n",
       "5  20.0  40.0\n",
       "6  25.0  39.0\n",
       "7  76.0  78.0\n",
       "8  75.0  28.0\n",
       "9  55.0  38.0"
      ]
     },
     "execution_count": 17,
     "metadata": {},
     "output_type": "execute_result"
    }
   ],
   "source": [
    "x_data_DF = pd.DataFrame(x_data)\n",
    "x_data_DF.head(10)"
   ]
  },
  {
   "cell_type": "code",
   "execution_count": 18,
   "metadata": {},
   "outputs": [
    {
     "data": {
      "text/html": [
       "<div>\n",
       "<style scoped>\n",
       "    .dataframe tbody tr th:only-of-type {\n",
       "        vertical-align: middle;\n",
       "    }\n",
       "\n",
       "    .dataframe tbody tr th {\n",
       "        vertical-align: top;\n",
       "    }\n",
       "\n",
       "    .dataframe thead th {\n",
       "        text-align: right;\n",
       "    }\n",
       "</style>\n",
       "<table border=\"1\" class=\"dataframe\">\n",
       "  <thead>\n",
       "    <tr style=\"text-align: right;\">\n",
       "      <th></th>\n",
       "      <th>length</th>\n",
       "    </tr>\n",
       "  </thead>\n",
       "  <tbody>\n",
       "    <tr>\n",
       "      <th>0</th>\n",
       "      <td>44.80</td>\n",
       "    </tr>\n",
       "    <tr>\n",
       "      <th>1</th>\n",
       "      <td>46.88</td>\n",
       "    </tr>\n",
       "    <tr>\n",
       "      <th>2</th>\n",
       "      <td>41.00</td>\n",
       "    </tr>\n",
       "    <tr>\n",
       "      <th>3</th>\n",
       "      <td>18.44</td>\n",
       "    </tr>\n",
       "    <tr>\n",
       "      <th>4</th>\n",
       "      <td>64.00</td>\n",
       "    </tr>\n",
       "    <tr>\n",
       "      <th>5</th>\n",
       "      <td>46.06</td>\n",
       "    </tr>\n",
       "    <tr>\n",
       "      <th>6</th>\n",
       "      <td>47.72</td>\n",
       "    </tr>\n",
       "    <tr>\n",
       "      <th>7</th>\n",
       "      <td>110.30</td>\n",
       "    </tr>\n",
       "    <tr>\n",
       "      <th>8</th>\n",
       "      <td>81.00</td>\n",
       "    </tr>\n",
       "    <tr>\n",
       "      <th>9</th>\n",
       "      <td>68.25</td>\n",
       "    </tr>\n",
       "  </tbody>\n",
       "</table>\n",
       "</div>"
      ],
      "text/plain": [
       "   length\n",
       "0   44.80\n",
       "1   46.88\n",
       "2   41.00\n",
       "3   18.44\n",
       "4   64.00\n",
       "5   46.06\n",
       "6   47.72\n",
       "7  110.30\n",
       "8   81.00\n",
       "9   68.25"
      ]
     },
     "execution_count": 18,
     "metadata": {},
     "output_type": "execute_result"
    }
   ],
   "source": [
    "yLength.head(10)"
   ]
  },
  {
   "cell_type": "markdown",
   "metadata": {},
   "source": [
    "## PCA with one component - Length"
   ]
  },
  {
   "cell_type": "code",
   "execution_count": 19,
   "metadata": {},
   "outputs": [
    {
     "name": "stdout",
     "output_type": "stream",
     "text": [
      "(1000, 1)\n",
      "(1000, 1)\n"
     ]
    }
   ],
   "source": [
    "pca = PCA(n_components=1)\n",
    "\n",
    "Z = pca.fit_transform(X) # Z is 2-D\n",
    "print(Z.shape)\n",
    "print(y.shape)"
   ]
  },
  {
   "cell_type": "code",
   "execution_count": 20,
   "metadata": {},
   "outputs": [
    {
     "data": {
      "text/plain": [
       "[Text(0, 0.5, 'Length'),\n",
       " Text(0.5, 0, 'f1'),\n",
       " Text(0.5, 1.0, 'PCA of data vs length')]"
      ]
     },
     "execution_count": 20,
     "metadata": {},
     "output_type": "execute_result"
    },
    {
     "data": {
      "image/png": "[encoded data removed]",
      "text/plain": [
       "<Figure size 432x288 with 1 Axes>"
      ]
     },
     "metadata": {
      "needs_background": "light"
     },
     "output_type": "display_data"
    }
   ],
   "source": [
    "fig, ax = plt.subplots()\n",
    "ax.scatter(Z,y)\n",
    "\n",
    "ax.set( title = 'PCA of data vs length',\n",
    "     xlabel = 'f1',\n",
    "      ylabel= 'Length')\n",
    "\n",
    "#***************************************************\n",
    "# DO NOT REMOVE\n",
    "# This is the plot of 100 images"
   ]
  },
  {
   "cell_type": "markdown",
   "metadata": {},
   "source": [
    "## TRAINING"
   ]
  },
  {
   "cell_type": "code",
   "execution_count": 21,
   "metadata": {},
   "outputs": [],
   "source": [
    "X= x_data\n",
    "y= yLength"
   ]
  },
  {
   "cell_type": "code",
   "execution_count": 22,
   "metadata": {},
   "outputs": [
    {
     "name": "stdout",
     "output_type": "stream",
     "text": [
      "(1000, 2)\n",
      "(1000, 1)\n"
     ]
    }
   ],
   "source": [
    "print(X.shape)\n",
    "print(y.shape)"
   ]
  },
  {
   "cell_type": "code",
   "execution_count": 23,
   "metadata": {},
   "outputs": [
    {
     "name": "stdout",
     "output_type": "stream",
     "text": [
      "(750, 2) (250, 2) (750, 1) (250, 1)\n",
      "<class 'numpy.ndarray'> <class 'numpy.ndarray'> <class 'pandas.core.frame.DataFrame'> <class 'pandas.core.frame.DataFrame'>\n"
     ]
    }
   ],
   "source": [
    "X_train, X_test, y_train, y_test = train_test_split(X, y, random_state=7)\n",
    "\n",
    "print(X_train.shape, X_test.shape, y_train.shape, y_test.shape)\n",
    "print( type(X_train),type(X_test),type(y_train),type(y_test))"
   ]
  },
  {
   "cell_type": "code",
   "execution_count": 24,
   "metadata": {},
   "outputs": [
    {
     "name": "stdout",
     "output_type": "stream",
     "text": [
      "(750, 1)\n",
      "(250, 1)\n",
      "<class 'pandas.core.frame.DataFrame'>\n",
      "<class 'numpy.ndarray'>\n",
      "(750, 1)\n",
      "(750,)\n"
     ]
    }
   ],
   "source": [
    "# Must be flatten is done\n",
    "print( y_train.shape )\n",
    "print(y_test.shape )\n",
    "\n",
    "\n",
    "print( type (y_train ))\n",
    "\n",
    "#y_train.ravel()\n",
    "\n",
    "# Get argmin and argmax\n",
    "a = np.array( [2,3])\n",
    "a = np.array( [ [0,1,2], [3,4,5]])\n",
    "\n",
    "print (type (y_train.values ))\n",
    "y_train_values = y_train.values\n",
    "print(y_train_values.shape)\n",
    "y_train_values = y_train_values.ravel()\n",
    "print(y_train_values.shape)"
   ]
  },
  {
   "cell_type": "code",
   "execution_count": 25,
   "metadata": {},
   "outputs": [
    {
     "name": "stdout",
     "output_type": "stream",
     "text": [
      "(750,)\n",
      "(250,)\n"
     ]
    }
   ],
   "source": [
    "# Flatten or Ravel the  y_train.shape, y_test.shape\n",
    "y_train = y_train.values.ravel()\n",
    "print(y_train.shape)\n",
    "y_test = y_test.values.ravel()\n",
    "print(y_test.shape)"
   ]
  },
  {
   "cell_type": "code",
   "execution_count": 26,
   "metadata": {},
   "outputs": [],
   "source": [
    "# scale X_train to normalise the feature ranges\n",
    "X_scaler = StandardScaler()\n",
    "Z_train = X_scaler.fit_transform(X_train)"
   ]
  },
  {
   "cell_type": "code",
   "execution_count": 27,
   "metadata": {},
   "outputs": [
    {
     "data": {
      "text/plain": [
       "{'fit_time': array([0.01562333, 0.        , 0.        , 0.        , 0.        ]),\n",
       " 'score_time': array([0., 0., 0., 0., 0.]),\n",
       " 'estimator': (SGDRegressor(alpha=0.0001, average=False, early_stopping=False, epsilon=0.1,\n",
       "         eta0=0.01, fit_intercept=True, l1_ratio=0.15,\n",
       "         learning_rate='invscaling', loss='squared_loss', max_iter=1000,\n",
       "         n_iter=None, n_iter_no_change=5, penalty='l2', power_t=0.25,\n",
       "         random_state=8, shuffle=True, tol=0.001, validation_fraction=0.1,\n",
       "         verbose=0, warm_start=False),\n",
       "  SGDRegressor(alpha=0.0001, average=False, early_stopping=False, epsilon=0.1,\n",
       "         eta0=0.01, fit_intercept=True, l1_ratio=0.15,\n",
       "         learning_rate='invscaling', loss='squared_loss', max_iter=1000,\n",
       "         n_iter=None, n_iter_no_change=5, penalty='l2', power_t=0.25,\n",
       "         random_state=8, shuffle=True, tol=0.001, validation_fraction=0.1,\n",
       "         verbose=0, warm_start=False),\n",
       "  SGDRegressor(alpha=0.0001, average=False, early_stopping=False, epsilon=0.1,\n",
       "         eta0=0.01, fit_intercept=True, l1_ratio=0.15,\n",
       "         learning_rate='invscaling', loss='squared_loss', max_iter=1000,\n",
       "         n_iter=None, n_iter_no_change=5, penalty='l2', power_t=0.25,\n",
       "         random_state=8, shuffle=True, tol=0.001, validation_fraction=0.1,\n",
       "         verbose=0, warm_start=False),\n",
       "  SGDRegressor(alpha=0.0001, average=False, early_stopping=False, epsilon=0.1,\n",
       "         eta0=0.01, fit_intercept=True, l1_ratio=0.15,\n",
       "         learning_rate='invscaling', loss='squared_loss', max_iter=1000,\n",
       "         n_iter=None, n_iter_no_change=5, penalty='l2', power_t=0.25,\n",
       "         random_state=8, shuffle=True, tol=0.001, validation_fraction=0.1,\n",
       "         verbose=0, warm_start=False),\n",
       "  SGDRegressor(alpha=0.0001, average=False, early_stopping=False, epsilon=0.1,\n",
       "         eta0=0.01, fit_intercept=True, l1_ratio=0.15,\n",
       "         learning_rate='invscaling', loss='squared_loss', max_iter=1000,\n",
       "         n_iter=None, n_iter_no_change=5, penalty='l2', power_t=0.25,\n",
       "         random_state=8, shuffle=True, tol=0.001, validation_fraction=0.1,\n",
       "         verbose=0, warm_start=False)),\n",
       " 'test_score': array([0.95670304, 0.93960562, 0.95404298, 0.96861164, 0.94837825]),\n",
       " 'train_score': array([0.95351453, 0.95749603, 0.95418862, 0.95042936, 0.955798  ])}"
      ]
     },
     "execution_count": 27,
     "metadata": {},
     "output_type": "execute_result"
    }
   ],
   "source": [
    "# Linear Regression using Gradient Descent\n",
    "\n",
    "sgd_model = SGDRegressor(max_iter=1000, \n",
    "                     tol=1e-3,\n",
    "                     random_state=8)\n",
    "\n",
    " \n",
    "scores = cross_validate(sgd_model, Z_train, y_train, cv=5,\n",
    "                        return_train_score=True,\n",
    "                        return_estimator=True) # models\n",
    "scores"
   ]
  },
  {
   "cell_type": "code",
   "execution_count": 28,
   "metadata": {},
   "outputs": [
    {
     "name": "stdout",
     "output_type": "stream",
     "text": [
      "Index of max argument is 3\n",
      "Maximum Test Score is 0.9686116351036481\n"
     ]
    }
   ],
   "source": [
    "# Get the best model\n",
    "#print(scores.keys)\n",
    "#print(scores[test_score])\n",
    "\n",
    "#np.armax()\n",
    "#print(type(scores))\n",
    "#print(scores.keys())\n",
    "#print(scores['test_score'])\n",
    "test_score_array = scores['test_score']\n",
    "iMax = test_score_array.argmax()\n",
    "print('Index of max argument is {}'.format(iMax))\n",
    "print('Maximum Test Score is {}'.format(test_score_array[iMax]))"
   ]
  },
  {
   "cell_type": "code",
   "execution_count": 29,
   "metadata": {},
   "outputs": [
    {
     "name": "stdout",
     "output_type": "stream",
     "text": [
      "W [15.52396391 15.53201023] bias [48.25187045]\n",
      "W [15.84231175 15.39100659] bias [48.21619775]\n",
      "W [15.46674717 15.65574372] bias [48.14588253]\n",
      "W [15.45694096 15.65770919] bias [48.40485793]\n",
      "W [15.51987258 15.62026173] bias [48.22842156]\n"
     ]
    }
   ],
   "source": [
    "# Get the W and bias for each fitted linear regressor\n",
    "for m in scores['estimator']:\n",
    "    print('W', m.coef_, 'bias', m.intercept_)"
   ]
  },
  {
   "cell_type": "code",
   "execution_count": 30,
   "metadata": {},
   "outputs": [
    {
     "name": "stdout",
     "output_type": "stream",
     "text": [
      "MSE: 19.98019253869187\n",
      "MAE: 3.629338985946194\n",
      "R2: 0.9594533763149377\n"
     ]
    }
   ],
   "source": [
    "# Score for test set (the 25% from train_test_split)\n",
    "# Note that 'test_score' returned by cross_validate is actually\n",
    "# 'validation score'. (easy to confuse)\n",
    "\n",
    "from sklearn.metrics import mean_squared_error, r2_score, mean_absolute_error\n",
    "\n",
    "models = scores['estimator']\n",
    "\n",
    "# Choose the best model\n",
    "line_length_predictor = models[iMax]\n",
    "\n",
    "# let's see the first model\n",
    "Z_test = X_scaler.transform(X_test) # common mistake is to use\n",
    "                                    # X_scaler.fit_transform\n",
    "                                    # which will reset the scaler\n",
    "y_pred = line_length_predictor.predict(Z_test)\n",
    "\n",
    "print('MSE:', mean_squared_error(y_test, y_pred))\n",
    "print('MAE:', mean_absolute_error(y_test, y_pred))\n",
    "print('R2:', r2_score(y_test, y_pred)) # scale-invariant\n",
    "\n",
    "# FOR 1000 IMAGES\n",
    "#MSE: 19.829834548041244\n",
    "#MAE: 3.5753727011966205\n",
    "#R2: 0.959758503948375\n",
    "\n",
    "# FOR 2000 IMAGES\n",
    "#MSE: 20.97814163309747\n",
    "#MAE: 3.6671241292461043\n",
    "#R2: 0.9619407896728098"
   ]
  },
  {
   "cell_type": "code",
   "execution_count": 31,
   "metadata": {},
   "outputs": [
    {
     "name": "stdout",
     "output_type": "stream",
     "text": [
      "(250,)\n",
      "(250,)\n",
      "       0\n",
      "0  22.20\n",
      "1  23.77\n",
      "2  48.28\n",
      "3  59.22\n",
      "4  41.30\n",
      "5  23.27\n",
      "6  46.50\n",
      "7  52.80\n",
      "8  69.44\n",
      "9  33.12\n",
      "           0\n",
      "0  25.817776\n",
      "1  26.550949\n",
      "2  46.116567\n",
      "3  50.560447\n",
      "4  37.400374\n",
      "5  26.529504\n",
      "6  46.904329\n",
      "7  57.055674\n",
      "8  60.009812\n",
      "9  30.142729\n"
     ]
    }
   ],
   "source": [
    "print(y_test.shape)\n",
    "print(y_pred.shape)\n",
    "\n",
    "df_y_pred = pd.DataFrame(y_pred)\n",
    "df_y_test =  pd.DataFrame(y_test) \n",
    "#y_test.head(10)\n",
    "print( df_y_test.head(10))\n",
    "print( df_y_pred.head(10))"
   ]
  },
  {
   "cell_type": "markdown",
   "metadata": {},
   "source": [
    "## Learning Curve"
   ]
  },
  {
   "cell_type": "code",
   "execution_count": 34,
   "metadata": {
    "scrolled": true
   },
   "outputs": [
    {
     "data": {
      "text/plain": [
       "[Text(0, 0.5, 'R2'),\n",
       " Text(0.5, 0, 'Train size'),\n",
       " Text(0.5, 1.0, 'Learning curve')]"
      ]
     },
     "execution_count": 34,
     "metadata": {},
     "output_type": "execute_result"
    },
    {
     "data": {
      "image/png": "[encoded data removed]",
      "text/plain": [
       "<Figure size 432x288 with 1 Axes>"
      ]
     },
     "metadata": {
      "needs_background": "light"
     },
     "output_type": "display_data"
    }
   ],
   "source": [
    "from sklearn.model_selection import learning_curve\n",
    "\n",
    "# 5-fold cross validation to get learning curve R2 scores\n",
    "# using default train_sizes\n",
    "train_sizes, train_scores, val_scores = learning_curve(line_length_predictor,\n",
    "                                                       Z_train, \n",
    "                                                       y_train, cv=3)\n",
    "\n",
    "# plot learning curve:\n",
    "#   plot train_scores vs. train_sizes\n",
    "#   plot val_scores vs. train_sizes\n",
    "# train_sizes is the number of training samples used for training\n",
    "\n",
    "fig, ax = plt.subplots()\n",
    "ax.plot(train_sizes, train_scores.mean(axis=1),\n",
    "        label='train') # average for 5-folds\n",
    "ax.plot(train_sizes, val_scores.mean(axis=1),\n",
    "        label='val')\n",
    "ax.legend()\n",
    "ax.set(title='Learning curve', xlabel='Train size', ylabel='R2')\n"
   ]
  },
  {
   "cell_type": "markdown",
   "metadata": {},
   "source": [
    "## Saving the model"
   ]
  },
  {
   "cell_type": "code",
   "execution_count": 35,
   "metadata": {},
   "outputs": [],
   "source": [
    "# save model and scaler for later use\n",
    "pickle.dump(X_scaler, open('length_predictor_X_scaler.pickle', 'wb'))\n",
    "pickle.dump(line_length_predictor, open('length_predictor.pickle', 'wb'))\n",
    "\n",
    "\n"
   ]
  },
  {
   "cell_type": "markdown",
   "metadata": {},
   "source": [
    "## Prediction on a given image"
   ]
  },
  {
   "cell_type": "code",
   "execution_count": 36,
   "metadata": {
    "scrolled": true
   },
   "outputs": [],
   "source": [
    "import math\n",
    "import scipy as sc\n",
    "\n",
    "def LoadScalerModel():\n",
    "    X_scaler = pickle.load(open('length_predictor_X_scaler.pickle', 'rb'))\n",
    "    model = pickle.load(open('length_predictor.pickle', 'rb'))\n",
    "    \n",
    "    return X_scaler, model\n",
    "\n"
   ]
  },
  {
   "cell_type": "markdown",
   "metadata": {},
   "source": [
    "###  For user"
   ]
  },
  {
   "cell_type": "code",
   "execution_count": 37,
   "metadata": {},
   "outputs": [],
   "source": [
    "def PredictLineLength():\n",
    "    # We work with one image ( we extract two features)\n",
    "    noOfImages =1\n",
    "    dim = 100\n",
    "    df_X = np.zeros((noOfImages, 2))\n",
    "\n",
    "    # Load X_scaler and Model\n",
    "    X_scaler, model = LoadScalerModel()\n",
    "    \n",
    "    # Extract image features\n",
    "\n",
    "\n",
    "    dx,dy = ExtractImageFeatures( image, dim)\n",
    " \n",
    "\n",
    "    # Store the extracted features \n",
    "    df_X[0,0]= dx\n",
    "    df_X[0,1]= dy\n",
    " \n",
    "    # let's see the first model\n",
    "    df_Z = X_scaler.transform(df_X)  \n",
    "                                    \n",
    "    print(\"dx= {}, dy= {}\".format(dx,dy))  \n",
    "    \n",
    "    y_pred = model.predict(df_Z )\n",
    "    \n",
    "    length_predict = y_pred[0]\n",
    "    # print('Length predicted= {}'.format(angle_predict))\n",
    "    \n",
    "    return length_predict\n",
    "\n",
    "    "
   ]
  },
  {
   "cell_type": "markdown",
   "metadata": {},
   "source": [
    "## MAIN PREDICT"
   ]
  },
  {
   "cell_type": "markdown",
   "metadata": {},
   "source": [
    "### Input your image"
   ]
  },
  {
   "cell_type": "code",
   "execution_count": 38,
   "metadata": {
    "scrolled": false
   },
   "outputs": [
    {
     "name": "stderr",
     "output_type": "stream",
     "text": [
      "C:\\Users\\admin\\Anaconda3\\envs\\mldds\\lib\\site-packages\\ipykernel_launcher.py:2: DeprecationWarning: `imread` is deprecated!\n",
      "`imread` is deprecated in SciPy 1.0.0, and will be removed in 1.2.0.\n",
      "Use ``imageio.imread`` instead.\n",
      "  \n"
     ]
    },
    {
     "data": {
      "text/plain": [
       "<matplotlib.image.AxesImage at 0x25f015e5978>"
      ]
     },
     "execution_count": 38,
     "metadata": {},
     "output_type": "execute_result"
    },
    {
     "data": {
      "image/png": "[encoded data removed]",
      "text/plain": [
       "<Figure size 432x288 with 1 Axes>"
      ]
     },
     "metadata": {
      "needs_background": "light"
     },
     "output_type": "display_data"
    }
   ],
   "source": [
    "# Load image and display\n",
    "image= sc.misc.imread(\"./TEST/test5.bmp\", flatten= 1)\n",
    "plt.imshow(image, cmap='gray') "
   ]
  },
  {
   "cell_type": "markdown",
   "metadata": {},
   "source": [
    "### Run the prediction"
   ]
  },
  {
   "cell_type": "code",
   "execution_count": 39,
   "metadata": {},
   "outputs": [
    {
     "name": "stdout",
     "output_type": "stream",
     "text": [
      "dx= 48, dy= 99\n",
      "Length predicted= 111.57184633784183\n"
     ]
    }
   ],
   "source": [
    "# Model is precise for ascending slopes, \n",
    "# but not for descending slopes\n",
    "\n",
    "l= PredictLineLength()\n",
    " \n",
    "    \n",
    "print('Length predicted= {}'.format(l))"
   ]
  },
  {
   "cell_type": "markdown",
   "metadata": {},
   "source": [
    "### Check the prediction with dx and dy"
   ]
  },
  {
   "cell_type": "code",
   "execution_count": 40,
   "metadata": {},
   "outputs": [
    {
     "name": "stdout",
     "output_type": "stream",
     "text": [
      "Length should have been 110.02272492535349\n"
     ]
    }
   ],
   "source": [
    "print(\"Length should have been {}\".format(Distance(0,0,48,99)))"
   ]
  }
 ],
 "metadata": {
  "kernelspec": {
   "display_name": "Python 3",
   "language": "python",
   "name": "python3"
  },
  "language_info": {
   "codemirror_mode": {
    "name": "ipython",
    "version": 3
   },
   "file_extension": ".py",
   "mimetype": "text/x-python",
   "name": "python",
   "nbconvert_exporter": "python",
   "pygments_lexer": "ipython3",
   "version": "3.6.7"
  }
 },
 "nbformat": 4,
 "nbformat_minor": 2
}
