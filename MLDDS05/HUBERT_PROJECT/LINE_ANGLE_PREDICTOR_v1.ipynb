{
 "cells": [
  {
   "cell_type": "markdown",
   "metadata": {},
   "source": [
    "## LINE ANGLE PREDICTOR V1 - Linear Regression"
   ]
  },
  {
   "cell_type": "markdown",
   "metadata": {},
   "source": [
    "### Trained with 1000 ascending random Lines, with fixed lengths, all starting at origin"
   ]
  },
  {
   "cell_type": "code",
   "execution_count": 3,
   "metadata": {
    "scrolled": true
   },
   "outputs": [],
   "source": [
    "import os\n",
    "from scipy import misc\n",
    "import matplotlib.pyplot as plt\n",
    "\n",
    "import numpy as np\n",
    "import pandas as pd\n",
    "from sklearn.model_selection import train_test_split, cross_validate, learning_curve\n",
    "from sklearn.preprocessing import StandardScaler\n",
    "from sklearn.decomposition import PCA\n",
    "\n",
    "from sklearn.feature_selection import SelectKBest, f_regression\n",
    "from sklearn.decomposition import PCA\n",
    "from sklearn.preprocessing import StandardScaler\n",
    "from sklearn.model_selection import train_test_split, cross_validate\n",
    "from sklearn.linear_model import SGDRegressor\n",
    "\n",
    "import math\n",
    "import scipy as sc\n",
    "import pickle\n",
    "\n",
    "%matplotlib inline\n",
    "\n"
   ]
  },
  {
   "cell_type": "markdown",
   "metadata": {},
   "source": [
    "## Our data set"
   ]
  },
  {
   "cell_type": "code",
   "execution_count": 4,
   "metadata": {},
   "outputs": [],
   "source": [
    "folder = 'IMAGES_1000_ASCENDING'\n",
    "noOfImages = 1000\n",
    "dim =100 "
   ]
  },
  {
   "cell_type": "markdown",
   "metadata": {},
   "source": [
    "## Utilities for feature extraction"
   ]
  },
  {
   "cell_type": "code",
   "execution_count": 5,
   "metadata": {},
   "outputs": [],
   "source": [
    "def RotateImage(image, dim):\n",
    "    \n",
    "    new_image = np.zeros((dim, dim), dtype=np.uint8)\n",
    "    new_image[:,:] = 255 \n",
    "     \n",
    "    # Rotate\n",
    "    for row in range(0,100): # Visit all collumns\n",
    "        for col in range(0,100): \n",
    "            new_image[ dim - row -1,col] = image[row,  col] \n",
    "\n",
    "    # Copy back \n",
    "    for row in range(0,100): # Visit all collumns\n",
    "        for col in range(0,100): \n",
    "             image[row,  col] = new_image[row, col]"
   ]
  },
  {
   "cell_type": "code",
   "execution_count": 6,
   "metadata": {},
   "outputs": [],
   "source": [
    "'''\n",
    "For projecting the image on the y axis\n",
    "'''\n",
    "def Get_Y_Shadow(image):\n",
    "    dim = 100  \n",
    "    #y_shadow =  np.zeros(dim, dtype=np.uint8) \n",
    "    y_shadow =  np.full(dim,  255) \n",
    "    index= 0\n",
    "    \n",
    "    # Start from left col (x=0) to last col (x= 99\n",
    "    for col in range(0,100): # Visit all collumns\n",
    "        for row in range(0,100): \n",
    "            gray = image[row,  col]\n",
    "            if  gray == 0 : # Look for non-white pixels\n",
    "                # Project on y-axis\n",
    "                if y_shadow[row]== 255: # Move if not was already plotted\n",
    "                    index = index + 1  \n",
    "                # Project on y-axis\n",
    "                y_shadow[row]= col # y_shadow[row] + 1 \n",
    "                 \n",
    "     \n",
    "    #print(index)\n",
    "    # ADJUSTED index needs to be less one\n",
    "    index = index -1\n",
    "    \n",
    "    return y_shadow,index\n",
    "                    "
   ]
  },
  {
   "cell_type": "code",
   "execution_count": 7,
   "metadata": {},
   "outputs": [],
   "source": [
    "'''\n",
    "For projecting the image on the x axis\n",
    "'''\n",
    "def Get_X_Shadow(image):\n",
    "    dim = 100  \n",
    "    #x_shadow =  np.zeros(dim, dtype=np.uint8) \n",
    "    x_shadow =  np.full(dim,  255) \n",
    "        \n",
    "    index= 0\n",
    "    \n",
    "    # Start from top row (y=99) to last row (y= 99\n",
    "    for row in range(0,100): # Visit all collumns\n",
    "        for col in range(0,100): \n",
    "            gray = image[row,  col]\n",
    "            if  gray == 0 : # Look for non-white pixels\n",
    "                \n",
    "                if x_shadow[col]== 255: # Move if not was already plotted\n",
    "                    index = index + 1  \n",
    "                # Project on y-axis\n",
    "                x_shadow[col]= dim - 1- row #x_shadow[col] + 1 \n",
    "     \n",
    "    #print(index)\n",
    "    \n",
    "    # ADJUSTED index needs to be less one\n",
    "    index = index -1\n",
    "    \n",
    "    return x_shadow,index\n",
    "                    "
   ]
  },
  {
   "cell_type": "code",
   "execution_count": 8,
   "metadata": {},
   "outputs": [],
   "source": [
    "def getFirstFromLeft(a, dim):\n",
    "    for i in range(0,dim):\n",
    "        if   a[i] != 255 :\n",
    "            #print('From left: {}:{}'.format( i,a[i] ))\n",
    "            return a[i]  "
   ]
  },
  {
   "cell_type": "code",
   "execution_count": 9,
   "metadata": {},
   "outputs": [],
   "source": [
    "def getFirstFromRight(a, dim):\n",
    "    for i in range(dim-1,-1,-1):\n",
    "        #print(i)\n",
    "        if   a[i] != 255 :\n",
    "            #print('From right: {}:{}'.format( i,a[i] ))\n",
    "            return a[i]  "
   ]
  },
  {
   "cell_type": "code",
   "execution_count": 10,
   "metadata": {},
   "outputs": [],
   "source": [
    "def CheckIfDescends ( a, dim):\n",
    "    left = getFirstFromLeft(a, dim)   \n",
    "    right = getFirstFromRight(a, dim)\n",
    "    \n",
    "    return right < left"
   ]
  },
  {
   "cell_type": "code",
   "execution_count": 11,
   "metadata": {},
   "outputs": [],
   "source": [
    "def Count(image, gray, dim): \n",
    "    c = 0\n",
    "    for row in range(0,100): \n",
    "        for col in range(0,100):  \n",
    "            if image[row,  col] == gray :  \n",
    "                c= c+ 1 \n",
    "    return c\n",
    "                    "
   ]
  },
  {
   "cell_type": "code",
   "execution_count": 12,
   "metadata": {},
   "outputs": [],
   "source": [
    "'''\n",
    "For reducing the features, we condense the columns into one column\n",
    "and the rows in one row. We will reduce and work with two features\n",
    "    - yShadow\n",
    "    - xShadow\n",
    "'''\n",
    "def ExtractImageFeatures( image, dim):\n",
    "    \n",
    "    # Safety check - do now work with empty images!\n",
    "    # if data may have empty images enables this\n",
    "    # c= Count(image, 0, 100)\n",
    "    # if c== 0:\n",
    "    #    print (\"***EMPTY IMAGE FOUND!!!!\") \n",
    "    #    return 0,0\n",
    "     \n",
    " \n",
    "    yShadow,dy = Get_Y_Shadow(image) \n",
    "    xShadow,dx = Get_X_Shadow(image)\n",
    " \n",
    "    lineDescends = CheckIfDescends(xShadow,dim)\n",
    "    if lineDescends:\n",
    "        dy = -1*dy\n",
    "        \n",
    "    return dx,dy\n",
    "    "
   ]
  },
  {
   "cell_type": "markdown",
   "metadata": {},
   "source": [
    "## Create an array to store yShadow and xShadow"
   ]
  },
  {
   "cell_type": "code",
   "execution_count": 13,
   "metadata": {},
   "outputs": [
    {
     "name": "stdout",
     "output_type": "stream",
     "text": [
      "100\n",
      "1000\n",
      "IMAGES_1000_ASCENDING\n",
      "(1000, 2)\n"
     ]
    }
   ],
   "source": [
    "print(dim)\n",
    "print(noOfImages)\n",
    "print(folder)\n",
    "\n",
    "x_data = np.zeros((noOfImages, 2))\n",
    "\n",
    "#x_data = np.zeros((noOfImages, dim*2))\n",
    "print( x_data.shape)"
   ]
  },
  {
   "cell_type": "markdown",
   "metadata": {},
   "source": [
    "## Read x_data, all images in an array"
   ]
  },
  {
   "cell_type": "code",
   "execution_count": 14,
   "metadata": {
    "scrolled": false
   },
   "outputs": [
    {
     "name": "stderr",
     "output_type": "stream",
     "text": [
      "C:\\Users\\admin\\Anaconda3\\envs\\mldds\\lib\\site-packages\\ipykernel_launcher.py:9: DeprecationWarning: `imread` is deprecated!\n",
      "`imread` is deprecated in SciPy 1.0.0, and will be removed in 1.2.0.\n",
      "Use ``imageio.imread`` instead.\n",
      "  if __name__ == '__main__':\n"
     ]
    }
   ],
   "source": [
    "'''\n",
    "For loop that reads and processes all the images into a X\n",
    "'''  \n",
    "\n",
    "for count in range(0,noOfImages ):\n",
    "           \n",
    "    filename = \"./DATA/\" + str(folder) + \"/\"+ \"im_\" +str(count) + \".bmp\" \n",
    "    \n",
    "    image= misc.imread(filename, flatten= 1)   \n",
    "     \n",
    "    # Later need to try to use the shadows themself directly!\n",
    "    dx,dy = ExtractImageFeatures( image, dim)\n",
    "    \n",
    "    # Using dx and dy extracted from image\n",
    "    x_data[count,0]= dx\n",
    "    x_data[count,1]= dy\n",
    "   \n",
    "    "
   ]
  },
  {
   "cell_type": "code",
   "execution_count": 29,
   "metadata": {},
   "outputs": [
    {
     "data": {
      "text/plain": [
       "(1000, 2)"
      ]
     },
     "execution_count": 29,
     "metadata": {},
     "output_type": "execute_result"
    }
   ],
   "source": [
    "x_data.shape"
   ]
  },
  {
   "cell_type": "markdown",
   "metadata": {},
   "source": [
    "## Read y_data"
   ]
  },
  {
   "cell_type": "code",
   "execution_count": 30,
   "metadata": {},
   "outputs": [
    {
     "name": "stdout",
     "output_type": "stream",
     "text": [
      "Mean=>angle    44.844619\n",
      "dtype: float64\n",
      "Mean=>length    89.3381\n",
      "dtype: float64\n",
      "Mean=>x1    0.0\n",
      "dtype: float64\n",
      "Mean=>y1    0.0\n",
      "dtype: float64\n",
      "Mean=>x2    57.115\n",
      "dtype: float64\n",
      "Mean=>y2    56.774\n",
      "dtype: float64\n"
     ]
    }
   ],
   "source": [
    "\n",
    "filename = \"./DATA/\" + str(folder) + \"/\"+ \"ydata.csv\"  \n",
    "   \n",
    "#yDataFrame.to_csv(filename, index =False)\n",
    "#yDataFrame.to_csv?\n",
    "\n",
    "# Read data frame\n",
    "yDF= pd.read_csv(filename)\n",
    "yDF.head(10)\n",
    "\n",
    "yAngle = pd.DataFrame( yDF.loc[:,'angle'])\n",
    "\n",
    "#yAngle.head(10)\n",
    "\n",
    "yLength =  pd.DataFrame( yDF.loc[:,'length'])\n",
    " \n",
    "x1_DF =  pd.DataFrame( yDF.loc[:,'x1'])\n",
    "y1_DF =  pd.DataFrame( yDF.loc[:,'y1'])\n",
    "x2_DF =  pd.DataFrame( yDF.loc[:,'x2'])\n",
    "y2_DF =  pd.DataFrame( yDF.loc[:,'y2'])\n",
    "\n",
    "print(\"Mean=>{}\".format( yAngle.mean() ))\n",
    "print(\"Mean=>{}\".format( yLength.mean()))\n",
    "\n",
    "print(\"Mean=>{}\".format( x1_DF.mean() ))\n",
    "print(\"Mean=>{}\".format( y1_DF.mean()))\n",
    "\n",
    "print(\"Mean=>{}\".format( x2_DF.mean() ))\n",
    "print(\"Mean=>{}\".format( y2_DF.mean()))\n",
    "\n",
    "#print(yDF)\n"
   ]
  },
  {
   "cell_type": "code",
   "execution_count": 31,
   "metadata": {},
   "outputs": [
    {
     "data": {
      "text/html": [
       "<div>\n",
       "<style scoped>\n",
       "    .dataframe tbody tr th:only-of-type {\n",
       "        vertical-align: middle;\n",
       "    }\n",
       "\n",
       "    .dataframe tbody tr th {\n",
       "        vertical-align: top;\n",
       "    }\n",
       "\n",
       "    .dataframe thead th {\n",
       "        text-align: right;\n",
       "    }\n",
       "</style>\n",
       "<table border=\"1\" class=\"dataframe\">\n",
       "  <thead>\n",
       "    <tr style=\"text-align: right;\">\n",
       "      <th></th>\n",
       "      <th>angle</th>\n",
       "    </tr>\n",
       "  </thead>\n",
       "  <tbody>\n",
       "    <tr>\n",
       "      <th>0</th>\n",
       "      <td>80.94</td>\n",
       "    </tr>\n",
       "    <tr>\n",
       "      <th>1</th>\n",
       "      <td>78.44</td>\n",
       "    </tr>\n",
       "    <tr>\n",
       "      <th>2</th>\n",
       "      <td>17.62</td>\n",
       "    </tr>\n",
       "    <tr>\n",
       "      <th>3</th>\n",
       "      <td>23.11</td>\n",
       "    </tr>\n",
       "    <tr>\n",
       "      <th>4</th>\n",
       "      <td>16.83</td>\n",
       "    </tr>\n",
       "    <tr>\n",
       "      <th>5</th>\n",
       "      <td>30.86</td>\n",
       "    </tr>\n",
       "    <tr>\n",
       "      <th>6</th>\n",
       "      <td>56.84</td>\n",
       "    </tr>\n",
       "    <tr>\n",
       "      <th>7</th>\n",
       "      <td>16.20</td>\n",
       "    </tr>\n",
       "    <tr>\n",
       "      <th>8</th>\n",
       "      <td>80.94</td>\n",
       "    </tr>\n",
       "    <tr>\n",
       "      <th>9</th>\n",
       "      <td>75.00</td>\n",
       "    </tr>\n",
       "  </tbody>\n",
       "</table>\n",
       "</div>"
      ],
      "text/plain": [
       "   angle\n",
       "0  80.94\n",
       "1  78.44\n",
       "2  17.62\n",
       "3  23.11\n",
       "4  16.83\n",
       "5  30.86\n",
       "6  56.84\n",
       "7  16.20\n",
       "8  80.94\n",
       "9  75.00"
      ]
     },
     "execution_count": 31,
     "metadata": {},
     "output_type": "execute_result"
    }
   ],
   "source": [
    "#Our Target\n",
    "yAngle.head(10)"
   ]
  },
  {
   "cell_type": "code",
   "execution_count": 32,
   "metadata": {},
   "outputs": [
    {
     "name": "stdout",
     "output_type": "stream",
     "text": [
      "(1000, 2)\n",
      "(1000, 1)\n"
     ]
    }
   ],
   "source": [
    "X= x_data\n",
    "y= yAngle\n",
    "print (x_data.shape)\n",
    "print(y.shape)"
   ]
  },
  {
   "cell_type": "markdown",
   "metadata": {},
   "source": [
    "## Plot Feature One ( dx ) to angle"
   ]
  },
  {
   "cell_type": "code",
   "execution_count": 65,
   "metadata": {},
   "outputs": [
    {
     "data": {
      "text/plain": [
       "[Text(0, 0.5, 'Angle'),\n",
       " Text(0.5, 0, 'f1'),\n",
       " Text(0.5, 1.0, 'PCA of dx vs angle')]"
      ]
     },
     "execution_count": 65,
     "metadata": {},
     "output_type": "execute_result"
    },
    {
     "data": {
      "image/png": "[encoded data removed]",
      "text/plain": [
       "<Figure size 432x288 with 1 Axes>"
      ]
     },
     "metadata": {
      "needs_background": "light"
     },
     "output_type": "display_data"
    }
   ],
   "source": [
    "fig, ax = plt.subplots()\n",
    "ax.scatter(X[:,0]  ,y)\n",
    "\n",
    "ax.set( title = 'PCA of dx vs angle',\n",
    "      xlabel = 'f1',\n",
    "      ylabel= 'Angle')"
   ]
  },
  {
   "cell_type": "code",
   "execution_count": 66,
   "metadata": {},
   "outputs": [
    {
     "data": {
      "text/plain": [
       "[Text(0, 0.5, 'Angle'),\n",
       " Text(0.5, 0, 'f1'),\n",
       " Text(0.5, 1.0, 'PCA of dy vs angle')]"
      ]
     },
     "execution_count": 66,
     "metadata": {},
     "output_type": "execute_result"
    },
    {
     "data": {
      "image/png": "[encoded data removed]",
      "text/plain": [
       "<Figure size 432x288 with 1 Axes>"
      ]
     },
     "metadata": {
      "needs_background": "light"
     },
     "output_type": "display_data"
    }
   ],
   "source": [
    "fig, ax = plt.subplots()\n",
    "ax.scatter(X[:,1]  ,y)\n",
    "\n",
    "ax.set( title = 'PCA of dy vs angle',\n",
    "      xlabel = 'f1',\n",
    "      ylabel= 'Angle')"
   ]
  },
  {
   "cell_type": "markdown",
   "metadata": {},
   "source": [
    "## PCA with one component - Angle"
   ]
  },
  {
   "cell_type": "code",
   "execution_count": null,
   "metadata": {},
   "outputs": [],
   "source": []
  },
  {
   "cell_type": "code",
   "execution_count": 60,
   "metadata": {},
   "outputs": [
    {
     "name": "stdout",
     "output_type": "stream",
     "text": [
      "(1000, 1)\n",
      "(1000,)\n"
     ]
    }
   ],
   "source": [
    "pca = PCA(n_components=1)\n",
    "\n",
    "Z = pca.fit_transform(X) # Z is 2-D\n",
    "print(Z.shape)\n",
    "print(y.shape)"
   ]
  },
  {
   "cell_type": "code",
   "execution_count": 61,
   "metadata": {},
   "outputs": [
    {
     "data": {
      "text/plain": [
       "[Text(0, 0.5, 'Angle'),\n",
       " Text(0.5, 0, 'f1'),\n",
       " Text(0.5, 1.0, 'PCA of data vs angle')]"
      ]
     },
     "execution_count": 61,
     "metadata": {},
     "output_type": "execute_result"
    },
    {
     "data": {
      "image/png": "[encoded data removed]",
      "text/plain": [
       "<Figure size 432x288 with 1 Axes>"
      ]
     },
     "metadata": {
      "needs_background": "light"
     },
     "output_type": "display_data"
    }
   ],
   "source": [
    "fig, ax = plt.subplots()\n",
    "ax.scatter(Z  ,y)\n",
    "\n",
    "ax.set( title = 'PCA of data vs angle',\n",
    "      xlabel = 'f1',\n",
    "      ylabel= 'Angle')"
   ]
  },
  {
   "cell_type": "markdown",
   "metadata": {},
   "source": [
    "## PCA with two component - Angle"
   ]
  },
  {
   "cell_type": "code",
   "execution_count": 52,
   "metadata": {},
   "outputs": [
    {
     "name": "stdout",
     "output_type": "stream",
     "text": [
      "(1000, 2)\n",
      "(1000,)\n"
     ]
    }
   ],
   "source": [
    "pca = PCA(n_components=2)\n",
    "\n",
    "Z = pca.fit_transform(X) # Z is 2-D\n",
    "print(Z.shape)\n",
    "print(y.shape)"
   ]
  },
  {
   "cell_type": "code",
   "execution_count": 57,
   "metadata": {},
   "outputs": [
    {
     "data": {
      "text/plain": [
       "[Text(0, 0.5, 'Angle'),\n",
       " Text(0.5, 0, 'f1'),\n",
       " Text(0.5, 1.0, 'PCA of data vs angle')]"
      ]
     },
     "execution_count": 57,
     "metadata": {},
     "output_type": "execute_result"
    },
    {
     "data": {
      "image/png": "[encoded data removed]",
      "text/plain": [
       "<Figure size 432x288 with 1 Axes>"
      ]
     },
     "metadata": {
      "needs_background": "light"
     },
     "output_type": "display_data"
    }
   ],
   "source": [
    "fig, ax = plt.subplots()\n",
    "ax.scatter(Z[:,0] ,Z[:,1])\n",
    "\n",
    "ax.set( title = 'PCA of data vs angle',\n",
    "      xlabel = 'f1',\n",
    "      ylabel= 'Angle')"
   ]
  },
  {
   "cell_type": "code",
   "execution_count": 55,
   "metadata": {},
   "outputs": [
    {
     "data": {
      "text/plain": [
       "array([ 8.0761633 ,  5.24934056,  1.05722434, -2.48271981,  1.0580263 ,\n",
       "       -6.02426788, -6.75423055,  1.76553395,  8.0761633 ,  3.13082743,\n",
       "        3.18135122, -8.15481048, 13.79556989, -8.15400851, -6.02426788,\n",
       "       -8.1588203 , 12.38055459, -8.16283013,  8.0761633 , -3.19022746,\n",
       "       -8.16363209, -7.46013427,  3.88885886, -3.93061566, 12.31559544,\n",
       "       -8.86712992, -7.45772837, -3.19102942,  1.71741606,  3.13002547,\n",
       "        6.71969143, -8.1612262 , -1.77360823, -6.75423055, -0.40109706,\n",
       "       -8.1612262 , -8.15641441, 10.25803164, -3.93141763, 15.91809284,\n",
       "       -3.93061566, -8.15481048, -3.93061566,  8.84221438, 17.26253524,\n",
       "       -2.48271981, -8.86472402, -7.46013427, -8.15962227, -7.44329301,\n",
       "       -1.10780275, -6.04912879,  5.30467613,  6.01138181, -8.15400851,\n",
       "       -8.15561244, -7.45772837, -5.3424231 , -6.75342858, -3.89853707,\n",
       "        4.59636651, -8.15481048, -4.60604472,  3.88885886, -1.06690254,\n",
       "        0.30480666, 14.4357125 ,  2.42412175, -6.04832683, 10.96553929,\n",
       "       -8.16042423, -5.34322507, -8.1612262 , -3.93061566, -1.77360823,\n",
       "       -3.19102942, -7.44249104, -5.34322507, -3.19102942,  6.66275193,\n",
       "        5.30467613, -6.04912879,  6.01138181, -7.45853034,  8.13470673,\n",
       "       -0.35779096, -0.40189903, -7.4593323 , -6.73498339, -3.93141763,\n",
       "        9.4887727 ,  5.95684821,  5.30387416, -8.16042423, -1.77521216,\n",
       "       -6.73498339,  8.13550869,  6.66275193, -8.15962227, -6.02587181,\n",
       "       -8.15320655, -7.4456989 ,  8.84221438, -1.77360823, -5.31676023,\n",
       "       -5.31595827, -3.89933904,  7.42719908,  6.01218378, -2.51961019,\n",
       "       -8.15721637, 15.21058519, -4.60845062, -8.16042423, 11.67304694,\n",
       "       -7.44329301, -8.15721637,  0.34971669, 14.50307754,  4.54343684,\n",
       "       -0.35779096, 16.62560049, -8.16443406, -8.16202816, 14.50307754,\n",
       "       10.96553929,  1.71741606, 16.55582956, -4.63732135,  8.84221438,\n",
       "        8.78286898, 12.31559544, -8.15160262, -6.75423055, 10.96553929,\n",
       "       -6.02667378, -3.900141  ,  6.66275193, 14.50307754, 13.79556989,\n",
       "       -6.04832683, -5.31595827, -8.86552599,  1.76553395,  1.01071038,\n",
       "       -4.60604472, -7.44650086, -8.16283013, 15.84912387, -8.15481048,\n",
       "       -3.93141763, -6.02426788, -7.46013427, -5.3424231 , -3.900141  ,\n",
       "       -8.15962227,  0.34971669, -3.89933904, -4.60684669, -6.73498339,\n",
       "       -1.06610058,  2.42412175, -3.22631587,  5.30467613, -3.93141763,\n",
       "       -8.15400851, -8.86472402,  5.24934056, -7.45772837, 11.60888976,\n",
       "        1.71741606,  2.4730416 , -8.16042423, -4.63892528, -4.60845062,\n",
       "       -8.16363209, -1.81370647, -3.89933904, -8.1588203 , -7.45772837,\n",
       "       -6.02426788, -4.60684669, -8.15641441,  5.24934056, -0.40109706,\n",
       "        3.13082743, -3.19022746, -3.93141763, 10.90218407,  8.78206702,\n",
       "       -6.73498339, -8.1612262 , 10.90218407, -4.60604472,  8.84221438,\n",
       "       15.84912387, -1.77441019, 14.4357125 , -7.44249104, -8.15801834,\n",
       "       -6.02426788, -8.15721637,  4.54343684,  9.4887727 , -8.15801834,\n",
       "       -6.75423055, 13.72900682, 16.62560049,  3.88885886, -1.8129045 ,\n",
       "       13.02230113, -4.60845062, -7.44168908, -6.04832683, 11.60888976,\n",
       "       -3.89933904,  4.59636651, -5.3175622 , -8.15641441, -2.51961019,\n",
       "       -4.60845062,  5.30467613, -7.4593323 ,  3.13082743, -6.04912879,\n",
       "       -8.15400851,  5.24934056, -3.93061566, -8.16202816,  5.30467613,\n",
       "       -3.19102942,  1.71821803, 10.25803164, -6.73498339, -8.16363209,\n",
       "        8.0761633 , -7.44249104,  8.84221438, -8.15801834, -4.63732135,\n",
       "       -7.44329301, 13.79556989, -7.46013427, 13.02230113, -7.45532248,\n",
       "       -8.15801834,  1.76553395, 17.26253524,  0.30480666, -3.22631587,\n",
       "        0.30480666, -2.48271981, -8.16363209, -2.48191784, -5.31676023,\n",
       "       -6.73418143, -8.15641441, 13.08806224, -2.48191784, 15.21058519,\n",
       "        7.42719908, -8.15481048,  1.71741606,  3.83673115, -8.16283013,\n",
       "       -7.45612444,  5.25014252, 16.62560049,  1.05722434, -5.34322507,\n",
       "       12.31559544, 10.96553929, -4.63651938, 17.26253524, -3.22551391,\n",
       "       -7.44249104, -4.63651938, -4.60764865, -6.02506985,  9.55052399,\n",
       "        5.25014252, -3.19102942, -3.89933904,  5.95684821, -8.15801834,\n",
       "       -3.900141  , -7.45772837, -6.73578536, 10.25803164,  8.0761633 ,\n",
       "       -3.900141  , -1.81370647, -3.22631587, -8.16042423, -7.45853034,\n",
       "        3.83673115, -7.4593323 ,  0.34971669, -5.34322507, -3.93141763,\n",
       "        3.13082743, 10.19547839, -8.1612262 , -8.86632795, -7.45692641,\n",
       "       -8.15641441, -0.35859293,  1.05722434,  8.13470673, -8.16202816,\n",
       "       -8.16042423,  5.24934056,  1.76553395, -5.3151563 , -7.4593323 ,\n",
       "        8.0761633 , -8.15641441,  1.01151234, -8.15962227, -1.77441019,\n",
       "       13.79556989,  9.55052399, -8.1588203 ,  4.54343684, -8.15481048,\n",
       "       16.55582956, -4.60684669,  3.18135122, -8.16202816, 15.84912387,\n",
       "       -5.31676023, 14.4357125 , -7.4456989 , -3.93141763,  1.76473199,\n",
       "        8.84301634, -1.10700078, -8.15561244, -5.3424231 , -7.44329301,\n",
       "       -7.45692641,  9.4887727 , -1.81450843,  5.24934056,  1.0580263 ,\n",
       "       -8.16202816, -7.45692641,  5.30467613, -6.75423055, -5.34162114,\n",
       "        6.01218378, -8.1612262 , -6.75262662,  6.01218378,  7.36945761,\n",
       "        0.34971669, 10.96553929, -6.04832683, -6.73418143, -8.15240458,\n",
       "       -8.15641441,  1.76473199, -2.51961019, -7.44329301,  6.66275193,\n",
       "        5.95604624, -6.04832683,  3.83673115, -1.06690254, 16.55582956,\n",
       "       -8.1588203 , -8.16283013,  1.76553395, -8.15561244, 16.62560049,\n",
       "        3.18135122,  2.4730416 , -6.75342858, -1.06610058,  3.88885886,\n",
       "       -8.15801834, -0.40189903,  3.18135122, -5.31595827, -8.15481048,\n",
       "       16.55582956, -2.48191784, 15.84912387,  7.42719908, -8.16042423,\n",
       "       -6.73578536, -7.45853034, -7.45772837, -4.63732135, -8.15641441,\n",
       "       15.91809284, 12.38055459, -6.04752486, -5.31595827, -6.02426788,\n",
       "       -3.22631587, 13.02230113,  3.18135122,  3.18054925,  6.01218378,\n",
       "       -3.89933904, 13.79556989,  3.13082743, -3.22631587, -8.16042423,\n",
       "        9.4887727 ,  1.01151234,  9.55052399, -1.77441019, -2.51961019,\n",
       "       -1.06610058, -1.06690254, -7.45692641, -3.22551391, 13.72900682,\n",
       "        7.36945761, -7.4593323 , -5.3424231 , -7.45772837, 10.19547839,\n",
       "       -8.16283013, -2.51961019, -7.45853034, 11.67304694, -4.63732135,\n",
       "       13.02230113,  3.13082743, -8.15320655, -8.1588203 , -4.60684669,\n",
       "        8.84301634, -3.93141763, -4.60604472, -3.19022746,  8.13470673,\n",
       "        2.4730416 , -7.45772837, -3.19022746, -3.22631587, -7.44409497,\n",
       "       14.50307754,  8.0761633 , -8.15641441, -6.73498339, 13.79556989,\n",
       "       -2.48271981, -6.02587181, -8.16042423,  3.13002547,  0.30560862,\n",
       "       -0.40109706, -7.44329301, -6.75342858,  6.71969143, -6.02587181,\n",
       "       17.33310814, -8.15641441, -3.93141763, -3.19022746, -4.63651938,\n",
       "       14.50307754, 15.91809284, -1.10700078,  6.01218378, -3.22631587,\n",
       "       -6.73418143, -6.75342858, -5.31676023, -7.44489693,  3.88885886,\n",
       "       -0.35859293, -8.15481048,  3.88885886, 16.62560049,  1.01071038,\n",
       "       -8.1588203 ,  1.76473199, -3.93221959, 12.38055459, -7.45612444,\n",
       "       -2.52041215, -6.73418143, -6.04752486, -6.75342858, -2.52041215,\n",
       "       16.55582956, 10.90218407, 16.55582956, -7.45853034, -6.73337946,\n",
       "       -8.1588203 , -5.3424231 ,  8.78286898,  0.34891472,  7.36945761,\n",
       "       12.31559544,  1.76473199, -4.60764865, -6.02426788,  0.34971669,\n",
       "       -1.10780275,  3.18054925, -6.02667378, -8.15481048,  1.0580263 ,\n",
       "       -8.15240458,  1.01151234, -6.04752486, -8.1588203 , 13.72900682,\n",
       "       10.90218407, 12.31559544, -2.51961019, -3.93061566, -6.75182465,\n",
       "       14.4357125 , -6.73498339, -3.22631587,  1.05722434,  8.84221438,\n",
       "        4.54343684, 12.38055459, -0.35859293, 11.60888976, -6.73337946,\n",
       "       10.90218407, -7.4593323 , 13.79556989,  7.36945761,  2.4730416 ,\n",
       "       -8.1612262 , -3.93061566, -6.75423055,  8.78206702, -8.15400851,\n",
       "       13.08806224,  4.59636651, 15.91809284, -4.60764865, -8.16202816,\n",
       "        9.4887727 , -5.34402703,  8.13470673, -7.45772837,  3.88885886,\n",
       "       -8.1612262 , 17.33310814, -8.15641441, -8.1612262 , 10.96553929,\n",
       "        3.18135122, 12.31559544, 15.21058519, -8.86632795,  8.0761633 ,\n",
       "        9.4887727 ,  5.30387416, 14.50307754,  8.78206702, -3.93141763,\n",
       "        1.05722434, -8.16363209, -8.15320655, 10.90218407,  3.18135122,\n",
       "       -6.73498339, -6.75342858, 16.55582956, -6.04912879, -6.02587181,\n",
       "       -8.16042423,  8.07536133,  1.05722434, 13.72900682,  6.01218378,\n",
       "        2.42412175, 17.26253524, -8.86552599, 12.31559544,  3.13082743,\n",
       "        1.05722434, -3.19022746, -4.60845062,  5.30467613, -6.04912879,\n",
       "       -3.89933904, -6.75423055, -1.06610058,  8.13550869,  1.71741606,\n",
       "       -3.93141763, 10.90218407, 10.96553929, -6.04832683, -7.45692641,\n",
       "       -8.16202816,  0.34971669, -6.73418143,  1.76473199,  2.42412175,\n",
       "        1.01151234, 11.67304694, 14.4357125 ,  0.30480666,  1.01071038,\n",
       "       -6.02587181, -6.73498339,  1.0580263 , -5.34402703,  4.59636651,\n",
       "       -8.1588203 ,  9.55052399, -6.02506985, -3.19022746,  3.18054925,\n",
       "       -8.16042423, 15.84912387, -8.86472402,  5.24934056,  4.59636651,\n",
       "       -3.93141763, 15.21058519, -8.1612262 , -6.73498339, -2.51961019,\n",
       "       -3.900141  , -4.60604472, -8.16042423, -6.75262662,  8.78286898,\n",
       "        3.83673115, 14.4357125 ,  5.95604624,  8.0761633 , -8.16042423,\n",
       "       -8.86712992,  5.25014252, -0.40189903, -8.16042423,  8.84221438,\n",
       "       17.33310814, -6.75342858, -7.45772837, 14.4357125 , -8.1588203 ,\n",
       "        1.71821803,  2.4730416 , -8.1588203 ,  5.30387416, 12.31559544,\n",
       "       -2.51961019, 10.19547839, 12.31559544, -8.15801834, -1.06690254,\n",
       "       17.26253524,  3.13082743,  3.88885886, -6.73418143, -4.60845062,\n",
       "       -8.15400851, -3.19102942, -7.45452051, -8.16042423, -3.22551391,\n",
       "        1.01071038,  8.13470673, -6.02426788, -3.93141763, -8.15240458,\n",
       "       13.79556989,  8.13550869, 13.72900682, -8.15320655, -7.45772837,\n",
       "       16.62560049, -8.1612262 ,  4.54343684, -8.15801834,  5.30467613,\n",
       "       -3.89933904, -8.15721637,  5.25014252,  4.59636651, 13.08806224,\n",
       "       15.14241819,  3.18135122, -8.16042423, -3.93221959, -5.3175622 ,\n",
       "       -7.45612444, -5.3424231 ,  0.30560862, -6.02587181, -7.44650086,\n",
       "       -6.75423055, 17.33310814, -8.15400851, -6.75423055,  0.30480666,\n",
       "       -1.77441019, -5.3424231 , 10.19547839, -6.73498339, -7.45772837,\n",
       "        3.18054925, -6.04752486,  7.36945761, -7.44409497, -4.63732135,\n",
       "       -4.60764865, -7.4593323 ,  1.0580263 ,  6.66275193,  5.95604624,\n",
       "        4.54343684,  8.84301634, -5.31676023, -0.40189903, -2.52041215,\n",
       "       -0.40109706, -8.16202816, -6.75262662, -1.10780275, -0.35859293,\n",
       "        8.84221438,  8.78286898, -4.63732135, -7.44489693, -0.40189903,\n",
       "       -3.93221959, -0.35859293,  3.18135122, -8.15721637, -1.81450843,\n",
       "       10.96553929,  3.13082743, -2.48271981,  5.95604624, 16.62560049,\n",
       "        8.84301634,  8.84301634, -8.15320655,  6.71969143, -6.73498339,\n",
       "        5.30467613, -8.1612262 , -7.45612444, -8.15400851,  1.71741606,\n",
       "       12.38055459, 13.02230113, -3.89853707,  3.13002547, -0.35859293,\n",
       "       -8.1612262 , -0.40109706, -1.77441019,  5.25014252, -5.3424231 ,\n",
       "       -3.89853707, -1.8129045 , 14.4357125 ,  3.18135122, 15.91809284,\n",
       "        9.4887727 , -6.73418143, -7.44409497, -6.02506985, -2.48271981,\n",
       "       -2.51961019, -3.19022746,  3.13002547, -6.02426788, 10.90218407,\n",
       "       -0.40109706, -3.93061566, 16.62560049, 15.21058519, -3.89933904,\n",
       "       -3.19022746,  0.34971669, -7.45532248, -5.31676023, -1.10780275,\n",
       "        5.95604624, -6.73498339,  4.59636651,  5.24934056, -7.44168908,\n",
       "       13.08806224, -3.89853707, -5.31595827, 10.19547839,  0.34971669,\n",
       "       -2.51961019, -6.04832683,  0.34891472, -3.89853707, -8.15320655,\n",
       "        3.18054925, -2.51961019,  1.01071038, -8.15481048, -8.16042423,\n",
       "       -0.40189903, -8.16283013, -7.44650086, -2.48191784, -8.16283013,\n",
       "       -8.15962227, -1.06610058,  8.84301634,  1.0580263 , -2.52041215,\n",
       "       -3.19022746, -6.02426788,  3.18135122,  8.13550869, -3.89933904,\n",
       "       13.79556989,  0.30560862, 15.84912387,  8.78206702, -5.34162114,\n",
       "       -2.52041215, 10.25803164,  0.30560862, 13.79556989, -3.93141763,\n",
       "       10.25803164,  1.76553395, 13.08806224,  5.24934056,  0.34891472,\n",
       "       -8.16283013,  1.0580263 , -6.04832683, -4.63892528, -5.34322507,\n",
       "       -4.60684669, -8.15801834, -8.16202816, -6.75423055, -8.86472402,\n",
       "       15.84912387, -7.45853034, 12.31559544, -1.06610058,  0.34971669,\n",
       "        1.0580263 , -3.22631587,  5.24934056, 10.25803164, -6.75423055,\n",
       "       11.60888976, -6.73337946,  1.71741606, -8.16202816,  8.78286898,\n",
       "       -3.19022746, -6.75262662, -2.48191784, 11.60888976, -3.22551391,\n",
       "        5.95604624, -8.15481048, -3.22631587,  6.01218378, -5.34322507,\n",
       "       -2.48191784, -8.15962227,  8.13470673,  8.07536133, -8.1588203 ,\n",
       "        8.78286898, -7.45612444,  8.07536133,  7.36945761,  8.78286898,\n",
       "       -7.45772837, 10.96553929, -3.19102942, 10.90218407, -5.3175622 ,\n",
       "        3.18135122, -7.44249104,  4.59636651, -6.75262662, -4.63651938,\n",
       "        8.78206702, -6.02506985, -8.15320655, -1.06610058, -6.75503251,\n",
       "       -1.81370647,  0.34971669, -3.19022746, 13.02230113,  5.95604624,\n",
       "        8.13550869, -7.44650086,  8.13470673,  1.71741606,  5.30387416,\n",
       "        0.30480666, -3.93061566,  6.01218378, 15.14241819, -3.900141  ,\n",
       "       16.55582956, -8.16443406, -6.7325775 ,  3.13082743,  1.05722434,\n",
       "       -6.75342858, -5.34322507, -5.3424231 , -7.45853034,  8.84301634,\n",
       "        9.4887727 ,  7.42719908,  8.84301634, 17.26253524, -0.35779096,\n",
       "       -5.3424231 , -7.44650086, -8.15400851, -5.3424231 , -3.19102942,\n",
       "        1.01151234, -2.48191784, -0.35859293, -6.04912879, -6.04832683,\n",
       "        1.01071038, -8.1588203 , -6.02506985, -7.45853034,  2.42412175,\n",
       "       -1.81450843, -8.15400851, -3.900141  , 15.21058519, -7.45853034,\n",
       "        1.71741606, -7.44730283, 15.91809284, -1.77441019,  9.55052399,\n",
       "       -8.15641441,  5.24934056, -3.93221959,  6.71969143, -8.15240458,\n",
       "       -4.60845062,  1.01071038, 11.60888976, -8.16443406, -5.3424231 ,\n",
       "        3.18135122, 10.25803164, -7.44168908, 10.19547839, -5.3424231 ,\n",
       "        7.36945761,  1.01151234,  1.71741606, -7.44489693, -3.93141763,\n",
       "        8.78286898,  5.95604624, -2.48191784, -8.15400851, -0.35859293,\n",
       "       -7.44249104, -6.73578536, 10.25803164, 10.25803164, -8.16443406,\n",
       "       -3.89933904, -6.04832683, -5.31595827,  1.76473199,  1.71741606,\n",
       "       -6.02506985, -6.02667378, -8.15400851, -1.10700078, -7.44409497,\n",
       "       -6.04752486, -6.73337946, -7.45853034, -3.19022746, -4.60764865])"
      ]
     },
     "execution_count": 55,
     "metadata": {},
     "output_type": "execute_result"
    }
   ],
   "source": [
    "Z[:,1]"
   ]
  },
  {
   "cell_type": "markdown",
   "metadata": {},
   "source": [
    "## TRAINING"
   ]
  },
  {
   "cell_type": "code",
   "execution_count": 35,
   "metadata": {},
   "outputs": [],
   "source": [
    "X= x_data\n",
    "y= yAngle"
   ]
  },
  {
   "cell_type": "code",
   "execution_count": 36,
   "metadata": {},
   "outputs": [
    {
     "name": "stdout",
     "output_type": "stream",
     "text": [
      "<class 'numpy.ndarray'>\n"
     ]
    },
    {
     "data": {
      "text/plain": [
       "(1000,)"
      ]
     },
     "execution_count": 36,
     "metadata": {},
     "output_type": "execute_result"
    }
   ],
   "source": [
    "# We need to ravel y,  e.g make (1000,)\n",
    "yNp = yAngle.values\n",
    "yNp = yNp.ravel()\n",
    "print(type (yNp))\n",
    "y =    yNp \n",
    "y.shape"
   ]
  },
  {
   "cell_type": "code",
   "execution_count": 37,
   "metadata": {},
   "outputs": [
    {
     "name": "stdout",
     "output_type": "stream",
     "text": [
      "(1000, 2)\n",
      "(1000,)\n"
     ]
    }
   ],
   "source": [
    "print(X.shape)\n",
    "print(y.shape)"
   ]
  },
  {
   "cell_type": "code",
   "execution_count": 38,
   "metadata": {},
   "outputs": [
    {
     "name": "stdout",
     "output_type": "stream",
     "text": [
      "(750, 2) (250, 2) (750,) (250,)\n"
     ]
    }
   ],
   "source": [
    "X_train, X_test, y_train, y_test = train_test_split(X, y, random_state=7)\n",
    "\n",
    "print(X_train.shape, X_test.shape, y_train.shape, y_test.shape)"
   ]
  },
  {
   "cell_type": "code",
   "execution_count": 39,
   "metadata": {},
   "outputs": [
    {
     "name": "stdout",
     "output_type": "stream",
     "text": [
      "(750,)\n",
      "(250,)\n",
      "<class 'numpy.ndarray'>\n"
     ]
    }
   ],
   "source": [
    "# Flatten is done \n",
    "print( y_train.shape )\n",
    "print(y_test.shape )\n",
    "print( type (y_train ))\n"
   ]
  },
  {
   "cell_type": "code",
   "execution_count": 40,
   "metadata": {},
   "outputs": [],
   "source": [
    "# scale X_train to normalise the feature ranges\n",
    "X_scaler = StandardScaler()\n",
    "Z_train = X_scaler.fit_transform(X_train)"
   ]
  },
  {
   "cell_type": "code",
   "execution_count": 51,
   "metadata": {},
   "outputs": [],
   "source": [
    "# Linear Regression using Gradient Descent\n",
    "\n",
    "sgd_model = SGDRegressor(max_iter=1000, \n",
    "                     tol=1e-3,\n",
    "                     random_state=8)\n",
    "\n",
    " \n",
    "scores = cross_validate(sgd_model, Z_train, y_train, cv=5,\n",
    "                        return_train_score=True,\n",
    "                        return_estimator=True) # models\n",
    "?SGDRegressor"
   ]
  },
  {
   "cell_type": "code",
   "execution_count": 42,
   "metadata": {},
   "outputs": [
    {
     "name": "stdout",
     "output_type": "stream",
     "text": [
      "W [-13.4788592   13.08437164] bias [45.60360949]\n",
      "W [-13.56964451  13.0369808 ] bias [45.6167731]\n",
      "W [-13.45158793  13.0875307 ] bias [45.63005124]\n",
      "W [-13.51395314  13.07600079] bias [45.57637784]\n",
      "W [-13.38810138  13.19767984] bias [45.61546313]\n"
     ]
    }
   ],
   "source": [
    "# Get the W and bias for each fitted linear regressor\n",
    "for m in scores['estimator']:\n",
    "    print('W', m.coef_, 'bias', m.intercept_)"
   ]
  },
  {
   "cell_type": "code",
   "execution_count": 43,
   "metadata": {},
   "outputs": [
    {
     "name": "stdout",
     "output_type": "stream",
     "text": [
      "MSE: 0.5173063540368755\n",
      "MAE: 0.5985518233919727\n",
      "R2: 0.9991722186754859\n"
     ]
    }
   ],
   "source": [
    "# Score for test set (the 25% from train_test_split)\n",
    "# Note that 'test_score' returned by cross_validate is actually\n",
    "# 'validation score'. (easy to confuse)\n",
    "\n",
    "from sklearn.metrics import mean_squared_error, r2_score, mean_absolute_error\n",
    "\n",
    "models = scores['estimator']\n",
    "\n",
    "# Choose the best model\n",
    "simple_angle_predictor = models[0]\n",
    "\n",
    "# let's see the first model\n",
    "Z_test = X_scaler.transform(X_test) # common mistake is to use\n",
    "                                    # X_scaler.fit_transform\n",
    "                                    # which will reset the scaler\n",
    "y_pred = simple_angle_predictor.predict(Z_test)\n",
    "\n",
    "print('MSE:', mean_squared_error(y_test, y_pred))\n",
    "print('MAE:', mean_absolute_error(y_test, y_pred))\n",
    "print('R2:', r2_score(y_test, y_pred)) # scale-invariant\n",
    "\n",
    "# PREVIOUS RUN\n",
    "#MSE: 0.5173063540368755\n",
    "#MAE: 0.5985518233919727\n",
    "#R2: 0.9991722186754859"
   ]
  },
  {
   "cell_type": "code",
   "execution_count": 44,
   "metadata": {},
   "outputs": [
    {
     "name": "stdout",
     "output_type": "stream",
     "text": [
      "(250,)\n",
      "(250,)\n",
      "        0\n",
      "0  30.860\n",
      "1  17.020\n",
      "2   5.773\n",
      "3  19.050\n",
      "4  12.945\n",
      "5  66.300\n",
      "6  39.970\n",
      "7  22.520\n",
      "8  57.380\n",
      "9  73.800\n",
      "\n",
      "           0\n",
      "0  29.839882\n",
      "1  16.683172\n",
      "2   6.462920\n",
      "3  18.631252\n",
      "4  12.787011\n",
      "5  66.973851\n",
      "6  39.603225\n",
      "7  22.041826\n",
      "8  58.170209\n",
      "9  74.320734\n"
     ]
    }
   ],
   "source": [
    "print(y_test.shape)\n",
    "print(y_pred.shape)\n",
    "\n",
    "df_y_test = pd.DataFrame(y_test)\n",
    "df_y_pred = pd.DataFrame(y_pred)\n",
    "\n",
    "#y_test.head(10)\n",
    "print( df_y_test.head(10))\n",
    "print()\n",
    "print( df_y_pred.head(10))"
   ]
  },
  {
   "cell_type": "markdown",
   "metadata": {},
   "source": [
    "## Learning Curve"
   ]
  },
  {
   "cell_type": "code",
   "execution_count": 45,
   "metadata": {
    "scrolled": true
   },
   "outputs": [
    {
     "data": {
      "text/plain": [
       "[Text(0, 0.5, 'R2'),\n",
       " Text(0.5, 0, 'Train size'),\n",
       " Text(0.5, 1.0, 'Learning curve')]"
      ]
     },
     "execution_count": 45,
     "metadata": {},
     "output_type": "execute_result"
    },
    {
     "data": {
      "image/png": "[encoded data removed]",
      "text/plain": [
       "<Figure size 432x288 with 1 Axes>"
      ]
     },
     "metadata": {
      "needs_background": "light"
     },
     "output_type": "display_data"
    }
   ],
   "source": [
    "from sklearn.model_selection import learning_curve\n",
    "\n",
    "# 5-fold cross validation to get learning curve R2 scores\n",
    "# using default train_sizes\n",
    "train_sizes, train_scores, val_scores = learning_curve(simple_angle_predictor,\n",
    "                                                       Z_train, \n",
    "                                                       y_train, cv=3)\n",
    "\n",
    "# plot learning curve:\n",
    "#   plot train_scores vs. train_sizes\n",
    "#   plot val_scores vs. train_sizes\n",
    "# train_sizes is the number of training samples used for training\n",
    "\n",
    "fig, ax = plt.subplots()\n",
    "ax.plot(train_sizes, train_scores.mean(axis=1),\n",
    "        label='train') # average for 5-folds\n",
    "ax.plot(train_sizes, val_scores.mean(axis=1),\n",
    "        label='val')\n",
    "ax.legend()\n",
    "ax.set(title='Learning curve', xlabel='Train size', ylabel='R2')\n"
   ]
  },
  {
   "cell_type": "markdown",
   "metadata": {},
   "source": [
    "## Saving the model"
   ]
  },
  {
   "cell_type": "code",
   "execution_count": 46,
   "metadata": {},
   "outputs": [],
   "source": [
    "# save model and scaler for later use\n",
    "pickle.dump(X_scaler, open('ascending_angle_predictor_X_scaler.pickle', 'wb'))\n",
    "pickle.dump(simple_angle_predictor, open('ascending_angle_predictor.pickle', 'wb'))\n",
    "\n",
    "\n"
   ]
  },
  {
   "cell_type": "markdown",
   "metadata": {},
   "source": [
    "## Prediction on a given image"
   ]
  },
  {
   "cell_type": "code",
   "execution_count": 47,
   "metadata": {
    "scrolled": true
   },
   "outputs": [],
   "source": [
    "import math\n",
    "import scipy as sc\n",
    "\n",
    "def LoadScalerModel():\n",
    "    X_scaler = pickle.load(open('ascending_angle_predictor_X_scaler.pickle', 'rb'))\n",
    "    model = pickle.load(open('ascending_angle_predictor.pickle', 'rb'))\n",
    "    \n",
    "    return X_scaler, model\n",
    "\n"
   ]
  },
  {
   "cell_type": "markdown",
   "metadata": {},
   "source": [
    "###  For user"
   ]
  },
  {
   "cell_type": "code",
   "execution_count": 48,
   "metadata": {},
   "outputs": [],
   "source": [
    "def PredictLineAngle():\n",
    "    # We work with one image ( we extract two features)\n",
    "    noOfImages =1\n",
    "    dim = 100\n",
    "    df_X = np.zeros((noOfImages, 2))\n",
    "\n",
    "    # Load X_scaler and Model\n",
    "    X_scaler, model = LoadScalerModel()\n",
    "    \n",
    "    # Extract image features\n",
    "\n",
    "\n",
    "    dx,dy = ExtractImageFeatures( image, dim)\n",
    " \n",
    "\n",
    "    # Store the extracted features \n",
    "    df_X[0,0]= dx\n",
    "    df_X[0,1]= dy\n",
    " \n",
    "    # let's see the first model\n",
    "    df_Z = X_scaler.transform(df_X)  \n",
    "                                    \n",
    "    print(\"dx= {}, dy= {}\".format(dx,dy))  \n",
    "    \n",
    "    y_pred = model.predict(df_Z )\n",
    "    \n",
    "    angle_predict = y_pred[0]\n",
    "    # print('Angle predicted= {}'.format(angle_predict))\n",
    "    \n",
    "    return angle_predict\n",
    "\n",
    "    "
   ]
  },
  {
   "cell_type": "markdown",
   "metadata": {},
   "source": [
    "## MAIN PREDICT"
   ]
  },
  {
   "cell_type": "markdown",
   "metadata": {},
   "source": [
    "### Input your image"
   ]
  },
  {
   "cell_type": "code",
   "execution_count": 49,
   "metadata": {},
   "outputs": [
    {
     "name": "stderr",
     "output_type": "stream",
     "text": [
      "C:\\Users\\admin\\Anaconda3\\envs\\mldds\\lib\\site-packages\\ipykernel_launcher.py:2: DeprecationWarning: `imread` is deprecated!\n",
      "`imread` is deprecated in SciPy 1.0.0, and will be removed in 1.2.0.\n",
      "Use ``imageio.imread`` instead.\n",
      "  \n"
     ]
    },
    {
     "data": {
      "text/plain": [
       "<matplotlib.image.AxesImage at 0x24135189198>"
      ]
     },
     "execution_count": 49,
     "metadata": {},
     "output_type": "execute_result"
    },
    {
     "data": {
      "image/png": "[encoded data removed]",
      "text/plain": [
       "<Figure size 432x288 with 1 Axes>"
      ]
     },
     "metadata": {
      "needs_background": "light"
     },
     "output_type": "display_data"
    }
   ],
   "source": [
    "# Load image and display\n",
    "image= sc.misc.imread(\"./TEST/test2.bmp\", flatten= 1)\n",
    "plt.imshow(image, cmap='gray') "
   ]
  },
  {
   "cell_type": "markdown",
   "metadata": {},
   "source": [
    "### Run the prediction"
   ]
  },
  {
   "cell_type": "code",
   "execution_count": 50,
   "metadata": {},
   "outputs": [
    {
     "name": "stdout",
     "output_type": "stream",
     "text": [
      "dx= 99, dy= -99\n",
      "dx= 99, dy= 99\n",
      "Angle predicted= -44.76113858128957\n"
     ]
    }
   ],
   "source": [
    "# Model is precise for ascending slopes, \n",
    "# but not for descending slopes\n",
    "\n",
    "a= PredictLineAngle()\n",
    "#print('Angle predicted= {}'.format(a))\n",
    "\n",
    "# If need be rotate image and predict again\n",
    "if a <0:\n",
    "    RotateImage(image, dim)\n",
    "    #plt.imshow(image, cmap='gray') \n",
    "    a= PredictLineAngle() * -1\n",
    "    \n",
    "print('Angle predicted= {}'.format(a))"
   ]
  }
 ],
 "metadata": {
  "kernelspec": {
   "display_name": "Python 3",
   "language": "python",
   "name": "python3"
  },
  "language_info": {
   "codemirror_mode": {
    "name": "ipython",
    "version": 3
   },
   "file_extension": ".py",
   "mimetype": "text/x-python",
   "name": "python",
   "nbconvert_exporter": "python",
   "pygments_lexer": "ipython3",
   "version": "3.6.7"
  }
 },
 "nbformat": 4,
 "nbformat_minor": 2
}
