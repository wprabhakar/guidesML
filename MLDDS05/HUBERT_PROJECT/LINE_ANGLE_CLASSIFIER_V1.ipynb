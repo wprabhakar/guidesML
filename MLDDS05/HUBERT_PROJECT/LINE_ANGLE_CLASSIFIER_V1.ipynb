{
 "cells": [
  {
   "cell_type": "markdown",
   "metadata": {},
   "source": [
    "## LINE ANGLE CLASSIFIER V1 - Logical Regression"
   ]
  },
  {
   "cell_type": "markdown",
   "metadata": {},
   "source": [
    "### Trained with 1000  random Lines, with variable lengths, positions and angles\n",
    " - 25 % Horizontal lines, coded as 0\n",
    " - 25 % Vertical lines, coded as 1\n",
    " - 25 % Ascending lines, coded as 2\n",
    " - 25 % Descending lines, coded as 3"
   ]
  },
  {
   "cell_type": "code",
   "execution_count": 2,
   "metadata": {
    "scrolled": true
   },
   "outputs": [],
   "source": [
    "import os\n",
    "from scipy import misc\n",
    "import matplotlib.pyplot as plt\n",
    "\n",
    "import numpy as np\n",
    "import pandas as pd\n",
    "from sklearn.model_selection import train_test_split, cross_validate, learning_curve\n",
    "from sklearn.preprocessing import StandardScaler\n",
    "from sklearn.decomposition import PCA\n",
    "\n",
    "from sklearn.feature_selection import SelectKBest, f_regression\n",
    "from sklearn.decomposition import PCA\n",
    "from sklearn.preprocessing import StandardScaler\n",
    "from sklearn.model_selection import train_test_split, cross_validate\n",
    "\n",
    "# FOR LINEAR REGRESSION\n",
    "from sklearn.linear_model import SGDRegressor\n",
    "\n",
    "# FOR CLASSIFICATION \n",
    "from sklearn.linear_model import SGDClassifier\n",
    "from sklearn.metrics import classification_report, confusion_matrix\n",
    "import seaborn as sns\n",
    "\n",
    "import math\n",
    "import scipy as sc\n",
    "import pickle\n",
    "\n",
    "%matplotlib inline\n",
    "\n"
   ]
  },
  {
   "cell_type": "markdown",
   "metadata": {},
   "source": [
    "## Our data set"
   ]
  },
  {
   "cell_type": "code",
   "execution_count": 3,
   "metadata": {},
   "outputs": [],
   "source": [
    "folder = 'IMAGES_1000_CLASSIFICATION'\n",
    "noOfImages = 1000\n",
    "dim =100 "
   ]
  },
  {
   "cell_type": "markdown",
   "metadata": {},
   "source": [
    "## Utilities for feature extraction"
   ]
  },
  {
   "cell_type": "code",
   "execution_count": 4,
   "metadata": {},
   "outputs": [],
   "source": [
    "def RotateImage(image, dim):\n",
    "    \n",
    "    new_image = np.zeros((dim, dim), dtype=np.uint8)\n",
    "    new_image[:,:] = 255 \n",
    "     \n",
    "    # Rotate\n",
    "    for row in range(0,100): # Visit all collumns\n",
    "        for col in range(0,100): \n",
    "            new_image[ dim - row -1,col] = image[row,  col] \n",
    "\n",
    "    # Copy back \n",
    "    for row in range(0,100): # Visit all collumns\n",
    "        for col in range(0,100): \n",
    "             image[row,  col] = new_image[row, col]"
   ]
  },
  {
   "cell_type": "code",
   "execution_count": 5,
   "metadata": {},
   "outputs": [],
   "source": [
    "'''\n",
    "For projecting the image on the y axis\n",
    "'''\n",
    "def Get_Y_Shadow(image):\n",
    "    dim = 100  \n",
    "    #y_shadow =  np.zeros(dim, dtype=np.uint8) \n",
    "    y_shadow =  np.full(dim,  255) \n",
    "    index= 0\n",
    "    \n",
    "    # Start from left col (x=0) to last col (x= 99\n",
    "    for col in range(0,100): # Visit all collumns\n",
    "        for row in range(0,100): \n",
    "            gray = image[row,  col]\n",
    "            if  gray == 0 : # Look for non-white pixels\n",
    "                # Project on y-axis\n",
    "                if y_shadow[row]== 255: # Move if not was already plotted\n",
    "                    index = index + 1  \n",
    "                # Project on y-axis\n",
    "                y_shadow[row]= col # y_shadow[row] + 1 \n",
    "                 \n",
    "     \n",
    "    #print(index)\n",
    "    # ADJUSTED index needs to be less one\n",
    "    index = index -1\n",
    "    \n",
    "    return y_shadow,index\n",
    "                    "
   ]
  },
  {
   "cell_type": "code",
   "execution_count": 6,
   "metadata": {},
   "outputs": [],
   "source": [
    "'''\n",
    "For projecting the image on the x axis\n",
    "'''\n",
    "def Get_X_Shadow(image):\n",
    "    dim = 100  \n",
    "    #x_shadow =  np.zeros(dim, dtype=np.uint8) \n",
    "    x_shadow =  np.full(dim,  255) \n",
    "        \n",
    "    index= 0\n",
    "    \n",
    "    # Start from top row (y=99) to last row (y= 99\n",
    "    for row in range(0,100): # Visit all collumns\n",
    "        for col in range(0,100): \n",
    "            gray = image[row,  col]\n",
    "            if  gray == 0 : # Look for non-white pixels\n",
    "                \n",
    "                if x_shadow[col]== 255: # Move if not was already plotted\n",
    "                    index = index + 1  \n",
    "                # Project on y-axis\n",
    "                x_shadow[col]= dim - 1- row #x_shadow[col] + 1 \n",
    "     \n",
    "    #print(index)\n",
    "    \n",
    "    # ADJUSTED index needs to be less one\n",
    "    index = index -1\n",
    "    \n",
    "    return x_shadow,index\n",
    "                    "
   ]
  },
  {
   "cell_type": "code",
   "execution_count": 7,
   "metadata": {},
   "outputs": [],
   "source": [
    "def getFirstFromLeft(a, dim):\n",
    "    for i in range(0,dim):\n",
    "        if   a[i] != 255 :\n",
    "            #print('From left: {}:{}'.format( i,a[i] ))\n",
    "            return a[i]  "
   ]
  },
  {
   "cell_type": "code",
   "execution_count": 8,
   "metadata": {},
   "outputs": [],
   "source": [
    "def getFirstFromRight(a, dim):\n",
    "    for i in range(dim-1,-1,-1):\n",
    "        #print(i)\n",
    "        if   a[i] != 255 :\n",
    "            #print('From right: {}:{}'.format( i,a[i] ))\n",
    "            return a[i]  "
   ]
  },
  {
   "cell_type": "code",
   "execution_count": 9,
   "metadata": {},
   "outputs": [],
   "source": [
    "def CheckIfDescends ( a, dim):\n",
    "    left = getFirstFromLeft(a, dim)   \n",
    "    right = getFirstFromRight(a, dim)\n",
    "    \n",
    "    return right < left"
   ]
  },
  {
   "cell_type": "code",
   "execution_count": 10,
   "metadata": {},
   "outputs": [],
   "source": [
    "def Count(image, gray, dim): \n",
    "    c = 0\n",
    "    for row in range(0,100): \n",
    "        for col in range(0,100):  \n",
    "            if image[row,  col] == gray :  \n",
    "                c= c+ 1 \n",
    "    return c\n",
    "                    "
   ]
  },
  {
   "cell_type": "code",
   "execution_count": 11,
   "metadata": {},
   "outputs": [],
   "source": [
    "'''\n",
    "For reducing the features, we condense the columns into one column\n",
    "and the rows in one row. We will reduce and work with two features\n",
    "    - yShadow\n",
    "    - xShadow\n",
    "'''\n",
    "def ExtractImageFeatures( image, dim):\n",
    "    \n",
    "    # Safety check - do now work with empty images!\n",
    "    # if data may have empty images enables this\n",
    "    # c= Count(image, 0, 100)\n",
    "    # if c== 0:\n",
    "    #    print (\"***EMPTY IMAGE FOUND!!!!\") \n",
    "    #    return 0,0\n",
    "     \n",
    " \n",
    "    yShadow,dy = Get_Y_Shadow(image) \n",
    "    xShadow,dx = Get_X_Shadow(image)\n",
    " \n",
    "    lineDescends = CheckIfDescends(xShadow,dim)\n",
    "    if lineDescends:\n",
    "        dy = -1*dy\n",
    "        \n",
    "    return dx,dy\n",
    "    "
   ]
  },
  {
   "cell_type": "markdown",
   "metadata": {},
   "source": [
    "## Create an array to store yShadow and xShadow"
   ]
  },
  {
   "cell_type": "code",
   "execution_count": 12,
   "metadata": {},
   "outputs": [
    {
     "name": "stdout",
     "output_type": "stream",
     "text": [
      "100\n",
      "1000\n",
      "IMAGES_1000_CLASSIFICATION\n",
      "(1000, 2)\n"
     ]
    }
   ],
   "source": [
    "print(dim)\n",
    "print(noOfImages)\n",
    "print(folder)\n",
    "\n",
    "x_data = np.zeros((noOfImages, 2))\n",
    "\n",
    "#x_data = np.zeros((noOfImages, dim*2))\n",
    "print( x_data.shape)"
   ]
  },
  {
   "cell_type": "markdown",
   "metadata": {},
   "source": [
    "## Read x_data, all images in an array"
   ]
  },
  {
   "cell_type": "code",
   "execution_count": 13,
   "metadata": {
    "scrolled": false
   },
   "outputs": [
    {
     "name": "stderr",
     "output_type": "stream",
     "text": [
      "C:\\Users\\admin\\Anaconda3\\envs\\mldds\\lib\\site-packages\\ipykernel_launcher.py:9: DeprecationWarning: `imread` is deprecated!\n",
      "`imread` is deprecated in SciPy 1.0.0, and will be removed in 1.2.0.\n",
      "Use ``imageio.imread`` instead.\n",
      "  if __name__ == '__main__':\n"
     ]
    }
   ],
   "source": [
    "'''\n",
    "For loop that reads and processes all the images into a X\n",
    "'''  \n",
    "\n",
    "for count in range(0,noOfImages ):\n",
    "           \n",
    "    filename = \"./DATA/\" + str(folder) + \"/\"+ \"im_\" +str(count) + \".bmp\" \n",
    "    \n",
    "    image= misc.imread(filename, flatten= 1)   \n",
    "     \n",
    "    # Later need to try to use the shadows themself directly!\n",
    "    dx,dy = ExtractImageFeatures( image, dim)\n",
    "    \n",
    "    # Using dx and dy extracted from image\n",
    "    x_data[count,0]= dx\n",
    "    x_data[count,1]= dy\n",
    "   \n",
    "    "
   ]
  },
  {
   "cell_type": "code",
   "execution_count": 14,
   "metadata": {},
   "outputs": [
    {
     "data": {
      "text/plain": [
       "(1000, 2)"
      ]
     },
     "execution_count": 14,
     "metadata": {},
     "output_type": "execute_result"
    }
   ],
   "source": [
    "x_data.shape"
   ]
  },
  {
   "cell_type": "markdown",
   "metadata": {},
   "source": [
    "## Read y_data"
   ]
  },
  {
   "cell_type": "code",
   "execution_count": 15,
   "metadata": {},
   "outputs": [
    {
     "name": "stdout",
     "output_type": "stream",
     "text": [
      "Mean=>angle    22.721627\n",
      "dtype: float64\n",
      "Mean=>length    38.99061\n",
      "dtype: float64\n",
      "Mean=>x1    43.388\n",
      "dtype: float64\n",
      "Mean=>y1    46.322\n",
      "dtype: float64\n",
      "Mean=>x2    65.347\n",
      "dtype: float64\n",
      "Mean=>y2    54.106\n",
      "dtype: float64\n"
     ]
    }
   ],
   "source": [
    "\n",
    "filename = \"./DATA/\" + str(folder) + \"/\"+ \"ydata.csv\"  \n",
    "   \n",
    "#yDataFrame.to_csv(filename, index =False)\n",
    "#yDataFrame.to_csv?\n",
    "\n",
    "# Read data frame\n",
    "yDF= pd.read_csv(filename)\n",
    "yDF.head(10)\n",
    "\n",
    "yAngle = pd.DataFrame( yDF.loc[:,'angle'])\n",
    "\n",
    "#yAngle.head(10)\n",
    "\n",
    "yLength =  pd.DataFrame( yDF.loc[:,'length'])\n",
    " \n",
    "x1_DF =  pd.DataFrame( yDF.loc[:,'x1'])\n",
    "y1_DF =  pd.DataFrame( yDF.loc[:,'y1'])\n",
    "x2_DF =  pd.DataFrame( yDF.loc[:,'x2'])\n",
    "y2_DF =  pd.DataFrame( yDF.loc[:,'y2'])\n",
    "\n",
    "yAngleLabel= pd.DataFrame( yDF.loc[:,'angle_label'])\n",
    "yAngleCode = pd.DataFrame( yDF.loc[:,'angle_code'])\n",
    "\n",
    "\n",
    "print(\"Mean=>{}\".format( yAngle.mean() ))\n",
    "print(\"Mean=>{}\".format( yLength.mean()))\n",
    "\n",
    "print(\"Mean=>{}\".format( x1_DF.mean() ))\n",
    "print(\"Mean=>{}\".format( y1_DF.mean()))\n",
    "\n",
    "print(\"Mean=>{}\".format( x2_DF.mean() ))\n",
    "print(\"Mean=>{}\".format( y2_DF.mean()))\n",
    "\n",
    "#print(yDF)\n"
   ]
  },
  {
   "cell_type": "code",
   "execution_count": 16,
   "metadata": {},
   "outputs": [
    {
     "data": {
      "text/html": [
       "<div>\n",
       "<style scoped>\n",
       "    .dataframe tbody tr th:only-of-type {\n",
       "        vertical-align: middle;\n",
       "    }\n",
       "\n",
       "    .dataframe tbody tr th {\n",
       "        vertical-align: top;\n",
       "    }\n",
       "\n",
       "    .dataframe thead th {\n",
       "        text-align: right;\n",
       "    }\n",
       "</style>\n",
       "<table border=\"1\" class=\"dataframe\">\n",
       "  <thead>\n",
       "    <tr style=\"text-align: right;\">\n",
       "      <th></th>\n",
       "      <th>angle_code</th>\n",
       "    </tr>\n",
       "  </thead>\n",
       "  <tbody>\n",
       "    <tr>\n",
       "      <th>0</th>\n",
       "      <td>0.0</td>\n",
       "    </tr>\n",
       "    <tr>\n",
       "      <th>1</th>\n",
       "      <td>1.0</td>\n",
       "    </tr>\n",
       "    <tr>\n",
       "      <th>2</th>\n",
       "      <td>2.0</td>\n",
       "    </tr>\n",
       "    <tr>\n",
       "      <th>3</th>\n",
       "      <td>3.0</td>\n",
       "    </tr>\n",
       "    <tr>\n",
       "      <th>4</th>\n",
       "      <td>0.0</td>\n",
       "    </tr>\n",
       "    <tr>\n",
       "      <th>5</th>\n",
       "      <td>1.0</td>\n",
       "    </tr>\n",
       "    <tr>\n",
       "      <th>6</th>\n",
       "      <td>2.0</td>\n",
       "    </tr>\n",
       "    <tr>\n",
       "      <th>7</th>\n",
       "      <td>3.0</td>\n",
       "    </tr>\n",
       "    <tr>\n",
       "      <th>8</th>\n",
       "      <td>0.0</td>\n",
       "    </tr>\n",
       "    <tr>\n",
       "      <th>9</th>\n",
       "      <td>1.0</td>\n",
       "    </tr>\n",
       "  </tbody>\n",
       "</table>\n",
       "</div>"
      ],
      "text/plain": [
       "   angle_code\n",
       "0         0.0\n",
       "1         1.0\n",
       "2         2.0\n",
       "3         3.0\n",
       "4         0.0\n",
       "5         1.0\n",
       "6         2.0\n",
       "7         3.0\n",
       "8         0.0\n",
       "9         1.0"
      ]
     },
     "execution_count": 16,
     "metadata": {},
     "output_type": "execute_result"
    }
   ],
   "source": [
    "#Our Target\n",
    "yAngleCode.head(10)"
   ]
  },
  {
   "cell_type": "code",
   "execution_count": 17,
   "metadata": {},
   "outputs": [
    {
     "name": "stdout",
     "output_type": "stream",
     "text": [
      "(1000, 2)\n",
      "(1000, 1)\n"
     ]
    }
   ],
   "source": [
    "X= x_data\n",
    "y= yAngleCode\n",
    "print (x_data.shape)\n",
    "print(y.shape)"
   ]
  },
  {
   "cell_type": "markdown",
   "metadata": {},
   "source": [
    "## PCA with one component - AngleCode"
   ]
  },
  {
   "cell_type": "code",
   "execution_count": 18,
   "metadata": {},
   "outputs": [
    {
     "name": "stdout",
     "output_type": "stream",
     "text": [
      "(1000, 1)\n",
      "(1000, 1)\n"
     ]
    }
   ],
   "source": [
    "pca = PCA(n_components=1)\n",
    "\n",
    "Z = pca.fit_transform(X) # Z is 2-D\n",
    "print(Z.shape)\n",
    "print(y.shape)"
   ]
  },
  {
   "cell_type": "code",
   "execution_count": 19,
   "metadata": {},
   "outputs": [
    {
     "data": {
      "text/plain": [
       "[Text(0, 0.5, 'Angle Code: 0=HOR; 1=VER, 2=ASC 3=DESC'),\n",
       " Text(0.5, 0, 'f1'),\n",
       " Text(0.5, 1.0, 'PCA of data vs angle_code')]"
      ]
     },
     "execution_count": 19,
     "metadata": {},
     "output_type": "execute_result"
    },
    {
     "data": {
      "image/png": "[encoded data removed]",
      "text/plain": [
       "<Figure size 432x288 with 1 Axes>"
      ]
     },
     "metadata": {
      "needs_background": "light"
     },
     "output_type": "display_data"
    }
   ],
   "source": [
    "fig, ax = plt.subplots()\n",
    "ax.scatter(Z,y)\n",
    "\n",
    "ax.set( title = 'PCA of data vs angle_code',\n",
    "      xlabel = 'f1',\n",
    "      ylabel= 'Angle Code: 0=HOR; 1=VER, 2=ASC 3=DESC')"
   ]
  },
  {
   "cell_type": "markdown",
   "metadata": {},
   "source": [
    "## TRAINING"
   ]
  },
  {
   "cell_type": "code",
   "execution_count": 20,
   "metadata": {},
   "outputs": [
    {
     "name": "stdout",
     "output_type": "stream",
     "text": [
      "<class 'numpy.ndarray'>\n"
     ]
    },
    {
     "data": {
      "text/plain": [
       "(1000,)"
      ]
     },
     "execution_count": 20,
     "metadata": {},
     "output_type": "execute_result"
    }
   ],
   "source": [
    "X= x_data\n",
    "y= yAngleCode\n",
    "\n",
    "# We need to ravel y,  e.g make (1000,)\n",
    "yNp = yAngleCode.values\n",
    "yNp = yNp.ravel()\n",
    "print(type (yNp))\n",
    "y =    yNp \n",
    "y.shape"
   ]
  },
  {
   "cell_type": "code",
   "execution_count": 21,
   "metadata": {},
   "outputs": [
    {
     "name": "stdout",
     "output_type": "stream",
     "text": [
      "(1000, 2)\n",
      "(1000,)\n"
     ]
    }
   ],
   "source": [
    "print(X.shape)\n",
    "print(y.shape)"
   ]
  },
  {
   "cell_type": "code",
   "execution_count": 22,
   "metadata": {},
   "outputs": [
    {
     "name": "stdout",
     "output_type": "stream",
     "text": [
      "(750, 2) (250, 2) (750,) (250,)\n"
     ]
    }
   ],
   "source": [
    "X_train, X_test, y_train, y_test = train_test_split(X, y, random_state=7)\n",
    "\n",
    "print(X_train.shape, X_test.shape, y_train.shape, y_test.shape)"
   ]
  },
  {
   "cell_type": "code",
   "execution_count": 23,
   "metadata": {},
   "outputs": [
    {
     "name": "stdout",
     "output_type": "stream",
     "text": [
      "(750,)\n",
      "(250,)\n",
      "<class 'numpy.ndarray'>\n"
     ]
    }
   ],
   "source": [
    "# Must be flatten how?\n",
    "print( y_train.shape )\n",
    "print(y_test.shape )\n",
    "\n",
    "\n",
    "print( type (y_train ))\n"
   ]
  },
  {
   "cell_type": "code",
   "execution_count": 24,
   "metadata": {},
   "outputs": [],
   "source": [
    "# scale X_train to normalise the feature ranges\n",
    "X_scaler = StandardScaler()\n",
    "Z_train = X_scaler.fit_transform(X_train)"
   ]
  },
  {
   "cell_type": "code",
   "execution_count": 25,
   "metadata": {},
   "outputs": [
    {
     "data": {
      "text/plain": [
       "{'fit_time': array([0.01199079, 0.01198077, 0.00399661, 0.00798941, 0.00799084]),\n",
       " 'score_time': array([0.       , 0.       , 0.       , 0.0039947, 0.       ]),\n",
       " 'estimator': (SGDClassifier(alpha=0.0001, average=False, class_weight=None,\n",
       "         early_stopping=False, epsilon=0.1, eta0=0.0, fit_intercept=True,\n",
       "         l1_ratio=0.15, learning_rate='optimal', loss='hinge', max_iter=1000,\n",
       "         n_iter=None, n_iter_no_change=5, n_jobs=None, penalty='l2',\n",
       "         power_t=0.5, random_state=8, shuffle=True, tol=0.001,\n",
       "         validation_fraction=0.1, verbose=0, warm_start=False),\n",
       "  SGDClassifier(alpha=0.0001, average=False, class_weight=None,\n",
       "         early_stopping=False, epsilon=0.1, eta0=0.0, fit_intercept=True,\n",
       "         l1_ratio=0.15, learning_rate='optimal', loss='hinge', max_iter=1000,\n",
       "         n_iter=None, n_iter_no_change=5, n_jobs=None, penalty='l2',\n",
       "         power_t=0.5, random_state=8, shuffle=True, tol=0.001,\n",
       "         validation_fraction=0.1, verbose=0, warm_start=False),\n",
       "  SGDClassifier(alpha=0.0001, average=False, class_weight=None,\n",
       "         early_stopping=False, epsilon=0.1, eta0=0.0, fit_intercept=True,\n",
       "         l1_ratio=0.15, learning_rate='optimal', loss='hinge', max_iter=1000,\n",
       "         n_iter=None, n_iter_no_change=5, n_jobs=None, penalty='l2',\n",
       "         power_t=0.5, random_state=8, shuffle=True, tol=0.001,\n",
       "         validation_fraction=0.1, verbose=0, warm_start=False),\n",
       "  SGDClassifier(alpha=0.0001, average=False, class_weight=None,\n",
       "         early_stopping=False, epsilon=0.1, eta0=0.0, fit_intercept=True,\n",
       "         l1_ratio=0.15, learning_rate='optimal', loss='hinge', max_iter=1000,\n",
       "         n_iter=None, n_iter_no_change=5, n_jobs=None, penalty='l2',\n",
       "         power_t=0.5, random_state=8, shuffle=True, tol=0.001,\n",
       "         validation_fraction=0.1, verbose=0, warm_start=False),\n",
       "  SGDClassifier(alpha=0.0001, average=False, class_weight=None,\n",
       "         early_stopping=False, epsilon=0.1, eta0=0.0, fit_intercept=True,\n",
       "         l1_ratio=0.15, learning_rate='optimal', loss='hinge', max_iter=1000,\n",
       "         n_iter=None, n_iter_no_change=5, n_jobs=None, penalty='l2',\n",
       "         power_t=0.5, random_state=8, shuffle=True, tol=0.001,\n",
       "         validation_fraction=0.1, verbose=0, warm_start=False)),\n",
       " 'test_score': array([0.71523179, 0.63333333, 0.81333333, 0.83333333, 0.71812081]),\n",
       " 'train_score': array([0.74123539, 0.64666667, 0.8       , 0.825     , 0.718802  ])}"
      ]
     },
     "execution_count": 25,
     "metadata": {},
     "output_type": "execute_result"
    }
   ],
   "source": [
    "# Linear Regression using Gradient Descent\n",
    "\n",
    "sgd_classifier_model = SGDClassifier(max_iter=1000, \n",
    "                     tol=1e-3,\n",
    "                     random_state=8)\n",
    "\n",
    " \n",
    "scores = cross_validate(sgd_classifier_model, Z_train, y_train, cv=5,\n",
    "                        return_train_score=True,\n",
    "                        return_estimator=True) # models\n",
    "scores"
   ]
  },
  {
   "cell_type": "markdown",
   "metadata": {},
   "source": [
    "### Learning Curve"
   ]
  },
  {
   "cell_type": "code",
   "execution_count": 26,
   "metadata": {},
   "outputs": [],
   "source": [
    "train_sizes, train_scores, val_scores = learning_curve(sgd_classifier_model, \n",
    "                                                       Z_train,\n",
    "                                                       y_train,\n",
    "                                                       cv=3)"
   ]
  },
  {
   "cell_type": "code",
   "execution_count": 27,
   "metadata": {},
   "outputs": [
    {
     "name": "stdout",
     "output_type": "stream",
     "text": [
      "[0.5237598  0.67989333 0.68941439 0.703621   0.66262905]\n",
      "\n"
     ]
    }
   ],
   "source": [
    "# accuracy scores on val show a slight overfitting\n",
    "\n",
    "print( val_scores.mean(axis=1) )\n",
    "print()"
   ]
  },
  {
   "cell_type": "code",
   "execution_count": 28,
   "metadata": {},
   "outputs": [
    {
     "data": {
      "text/plain": [
       "<matplotlib.legend.Legend at 0x1c471d31b38>"
      ]
     },
     "execution_count": 28,
     "metadata": {},
     "output_type": "execute_result"
    },
    {
     "data": {
      "image/png": "[encoded data removed]",
      "text/plain": [
       "<Figure size 432x288 with 1 Axes>"
      ]
     },
     "metadata": {
      "needs_background": "light"
     },
     "output_type": "display_data"
    }
   ],
   "source": [
    "# plot average (over 3-folds) train_scores vs. train_sizes\n",
    "# plot average (over 3-folds) val_scores vs. train_sizes\n",
    "\n",
    "fig, ax = plt.subplots()\n",
    "ax.plot(train_sizes, train_scores.mean(axis=1), label='train')\n",
    "ax.plot(train_sizes, val_scores.mean(axis=1), label='val')\n",
    "ax.legend()"
   ]
  },
  {
   "cell_type": "markdown",
   "metadata": {},
   "source": [
    "### Choose best model"
   ]
  },
  {
   "cell_type": "code",
   "execution_count": 29,
   "metadata": {},
   "outputs": [
    {
     "name": "stdout",
     "output_type": "stream",
     "text": [
      "validation scores (sgd) [0.71523179 0.63333333 0.81333333 0.83333333 0.71812081]\n"
     ]
    }
   ],
   "source": [
    "print('validation scores (sgd)' ,scores['test_score'])"
   ]
  },
  {
   "cell_type": "code",
   "execution_count": 30,
   "metadata": {},
   "outputs": [],
   "source": [
    "# Based on validation best model is at index 3\n",
    "\n",
    "sgd_classifier_best_model = scores['estimator'][3] "
   ]
  },
  {
   "cell_type": "markdown",
   "metadata": {},
   "source": [
    "### Get predictions on X_test => y_pred\n"
   ]
  },
  {
   "cell_type": "code",
   "execution_count": 31,
   "metadata": {},
   "outputs": [],
   "source": [
    "Z_test = X_scaler.transform(X_test)\n",
    "y_pred = sgd_classifier_best_model.predict(Z_test)\n",
    "\n"
   ]
  },
  {
   "cell_type": "code",
   "execution_count": 32,
   "metadata": {},
   "outputs": [
    {
     "name": "stdout",
     "output_type": "stream",
     "text": [
      "(250,)\n",
      "(250,)\n"
     ]
    }
   ],
   "source": [
    "print(y_pred.shape)\n",
    "print(y_test.shape)"
   ]
  },
  {
   "cell_type": "code",
   "execution_count": 33,
   "metadata": {},
   "outputs": [
    {
     "name": "stdout",
     "output_type": "stream",
     "text": [
      "<class 'numpy.ndarray'>\n",
      "<class 'numpy.ndarray'>\n"
     ]
    }
   ],
   "source": [
    "print( type(y_test ))\n",
    "print( type(y_pred ))"
   ]
  },
  {
   "cell_type": "code",
   "execution_count": 34,
   "metadata": {},
   "outputs": [
    {
     "name": "stdout",
     "output_type": "stream",
     "text": [
      "     0\n",
      "0  2.0\n",
      "1  2.0\n",
      "2  3.0\n",
      "3  2.0\n",
      "4  0.0\n",
      "5  0.0\n",
      "6  0.0\n",
      "7  2.0\n",
      "8  3.0\n",
      "9  2.0\n",
      "\n",
      "     0\n",
      "0  2.0\n",
      "1  2.0\n",
      "2  3.0\n",
      "3  2.0\n",
      "4  0.0\n",
      "5  0.0\n",
      "6  0.0\n",
      "7  2.0\n",
      "8  3.0\n",
      "9  2.0\n"
     ]
    }
   ],
   "source": [
    "# For inspection turn y_test and y_pred into DataFrame\n",
    "y_test_DF = pd.DataFrame(y_test)\n",
    "y_pred_DF = pd.DataFrame(y_pred)\n",
    "print(y_test_DF.head(10) )\n",
    "print()\n",
    "print(y_pred_DF.head(10) )"
   ]
  },
  {
   "cell_type": "code",
   "execution_count": 35,
   "metadata": {},
   "outputs": [
    {
     "name": "stdout",
     "output_type": "stream",
     "text": [
      "              precision    recall  f1-score   support\n",
      "\n",
      "         0.0       0.88      0.65      0.75        55\n",
      "         1.0       0.95      1.00      0.97        71\n",
      "         2.0       0.96      0.83      0.89        65\n",
      "         3.0       0.69      0.92      0.79        59\n",
      "\n",
      "   micro avg       0.86      0.86      0.86       250\n",
      "   macro avg       0.87      0.85      0.85       250\n",
      "weighted avg       0.88      0.86      0.86       250\n",
      "\n"
     ]
    }
   ],
   "source": [
    "print( classification_report(y_test, y_pred))"
   ]
  },
  {
   "cell_type": "markdown",
   "metadata": {},
   "source": [
    "## Saving the model"
   ]
  },
  {
   "cell_type": "code",
   "execution_count": 36,
   "metadata": {},
   "outputs": [],
   "source": [
    "# save model and scaler for later use\n",
    "pickle.dump(X_scaler, open('angle_classifier_X_scaler.pickle', 'wb'))\n",
    "pickle.dump(sgd_classifier_best_model, open('angle_classifier.pickle', 'wb'))\n",
    "\n",
    "\n"
   ]
  },
  {
   "cell_type": "markdown",
   "metadata": {},
   "source": [
    "## Prediction on a given image"
   ]
  },
  {
   "cell_type": "code",
   "execution_count": 37,
   "metadata": {
    "scrolled": true
   },
   "outputs": [],
   "source": [
    "import math\n",
    "import scipy as sc\n",
    "\n",
    "def LoadScalerModel():\n",
    "    X_scaler = pickle.load(open('angle_classifier_X_scaler.pickle', 'rb'))\n",
    "    model = pickle.load(open('angle_classifier.pickle', 'rb'))\n",
    "    \n",
    "    return X_scaler, model\n",
    "\n"
   ]
  },
  {
   "cell_type": "markdown",
   "metadata": {},
   "source": [
    "###  For user"
   ]
  },
  {
   "cell_type": "code",
   "execution_count": 38,
   "metadata": {},
   "outputs": [],
   "source": [
    "def PredictAngleClassOfLine():\n",
    "    # We work with one image ( we extract two features)\n",
    "    noOfImages =1\n",
    "    dim = 100\n",
    "    df_X = np.zeros((noOfImages, 2))\n",
    "\n",
    "    # Load X_scaler and Model\n",
    "    X_scaler, model = LoadScalerModel()\n",
    "    \n",
    "    # Extract image features\n",
    "\n",
    "\n",
    "    dx,dy = ExtractImageFeatures( image, dim)\n",
    " \n",
    "\n",
    "    # Store the extracted features \n",
    "    df_X[0,0]= dx\n",
    "    df_X[0,1]= dy\n",
    " \n",
    "    # let's see the first model\n",
    "    df_Z = X_scaler.transform(df_X)  \n",
    "                                    \n",
    "    print(\"dx= {}, dy= {}\".format(dx,dy))  \n",
    "    \n",
    "    y_pred = model.predict(df_Z )\n",
    "    \n",
    "    angle_class_predict = y_pred[0]\n",
    "    \n",
    "    return angle_class_predict\n",
    "\n",
    "    "
   ]
  },
  {
   "cell_type": "code",
   "execution_count": 39,
   "metadata": {},
   "outputs": [],
   "source": [
    "def ConvertClassCodeToLabel(code):\n",
    "    if code == 0.0:\n",
    "        return 'HORIZONTAL'\n",
    "    if code == 1.0:\n",
    "        return 'VERTICAL'\n",
    "    if code == 2.0:\n",
    "        return 'ASCENDING'\n",
    "    if code == 3.0:\n",
    "        return 'DESCENDING'\n",
    "    "
   ]
  },
  {
   "cell_type": "markdown",
   "metadata": {},
   "source": [
    "## MAIN PREDICT"
   ]
  },
  {
   "cell_type": "markdown",
   "metadata": {},
   "source": [
    "### Input your image"
   ]
  },
  {
   "cell_type": "code",
   "execution_count": 40,
   "metadata": {},
   "outputs": [
    {
     "name": "stderr",
     "output_type": "stream",
     "text": [
      "C:\\Users\\admin\\Anaconda3\\envs\\mldds\\lib\\site-packages\\ipykernel_launcher.py:2: DeprecationWarning: `imread` is deprecated!\n",
      "`imread` is deprecated in SciPy 1.0.0, and will be removed in 1.2.0.\n",
      "Use ``imageio.imread`` instead.\n",
      "  \n"
     ]
    },
    {
     "data": {
      "text/plain": [
       "<matplotlib.image.AxesImage at 0x1c471dc6128>"
      ]
     },
     "execution_count": 40,
     "metadata": {},
     "output_type": "execute_result"
    },
    {
     "data": {
      "image/png": "[encoded data removed]",
      "text/plain": [
       "<Figure size 432x288 with 1 Axes>"
      ]
     },
     "metadata": {
      "needs_background": "light"
     },
     "output_type": "display_data"
    }
   ],
   "source": [
    "# Load image and display\n",
    "image= sc.misc.imread(\"./TEST/test6.bmp\", flatten= 1)\n",
    "plt.imshow(image, cmap='gray') "
   ]
  },
  {
   "cell_type": "markdown",
   "metadata": {},
   "source": [
    "### Run the prediction"
   ]
  },
  {
   "cell_type": "code",
   "execution_count": 42,
   "metadata": {},
   "outputs": [
    {
     "name": "stdout",
     "output_type": "stream",
     "text": [
      "dx= 48, dy= -99\n",
      "Angle Class Code predicted= 3.0\n",
      "Line Angle Class predicted = DESCENDING\n"
     ]
    }
   ],
   "source": [
    "# Model is precise for ascending slopes, \n",
    "# but not for descending slopes\n",
    "\n",
    "class_code= PredictAngleClassOfLine()\n",
    "#print('Angle predicted= {}'.format(a))\n",
    " \n",
    "    \n",
    "print('Angle Class Code predicted= {}'.format(class_code))\n",
    "\n",
    "print('Line Angle Class predicted = {}'.format(ConvertClassCodeToLabel(class_code)))"
   ]
  }
 ],
 "metadata": {
  "kernelspec": {
   "display_name": "Python 3",
   "language": "python",
   "name": "python3"
  },
  "language_info": {
   "codemirror_mode": {
    "name": "ipython",
    "version": 3
   },
   "file_extension": ".py",
   "mimetype": "text/x-python",
   "name": "python",
   "nbconvert_exporter": "python",
   "pygments_lexer": "ipython3",
   "version": "3.6.7"
  }
 },
 "nbformat": 4,
 "nbformat_minor": 2
}
