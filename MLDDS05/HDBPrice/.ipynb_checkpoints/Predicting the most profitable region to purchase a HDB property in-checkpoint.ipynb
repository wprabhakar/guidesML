{
 "cells": [
  {
   "cell_type": "markdown",
   "metadata": {},
   "source": [
    "## Section 0: Team Members\n",
    "- Choo Rui Bin"
   ]
  },
  {
   "cell_type": "markdown",
   "metadata": {},
   "source": [
    "## Section 1: Project Title\n",
    "\n",
    "Prediction of future housing prices in various regions in Singapore using a RNN."
   ]
  },
  {
   "cell_type": "markdown",
   "metadata": {},
   "source": [
    "## Section 2: Project Definition\n",
    "\n",
    "### Goals\n",
    "\n",
    "This project utilises a RNN with LSTM neurons to predict future housing prices for different regions in Singapore, and subsequently chooses the most profitable region for purchase of a HDB property.\n",
    "\n",
    "### Dataset\n",
    "\n",
    "The Resale Flat Prices dataset on data.gov.sg is utilised. <br>\n",
    "https://data.gov.sg/dataset/resale-flat-prices?view_id=d39c48b1-19c2-4b26-a439-e9f81b573aa5&resource_id=1b702208-44bf-4829-b620-4615ee19b57c\n",
    "\n",
    "The dataset contains resale flat prices from the year 1990 till present.\n",
    "\n",
    "| Attribute | Description |\n",
    "| --- | --- |\n",
    "| Month | Month during which the flat was sold |\n",
    "| Town | Ang Mo Kio, Bishan, etc. |\n",
    "| Flat Type | 3 room, 4 room, etc. |\n",
    "| Block | |\n",
    "| Street Name | |\n",
    "| Storey Range | 01-03, 04-06, 07-09, 10-12, etc. |\n",
    "| Floor Area (sqm) | |\n",
    "| Flat Model | Improved, New Generation, Maisonette etc. |\n",
    "| Lease Commencement Date | Beginning year of flat lease |\n",
    "| Resale Price \\($\\) | | \n",
    "\n",
    "\n",
    "### Tasks\n",
    "\n",
    "1. Convert the dataset to a time-series format.\n",
    "    - The dataset will be segregated into quarter-years and average price per sqm (resale price divided by sqm)\n",
    "    - There will be 6 time-series datasets, one for each region of Singapore\n",
    "2. For each dataset, split it in a 75-25 ratio and train a RNN model.\n",
    "3. Then, utilise this trained model to predict the trend of the housing prices for the next 20 quarters (i.e. 5 years).\n",
    "4. Repeat this train-and-predict sequence for all datasets.\n",
    "5. Assess the predicted future trends for the different regions of Singapore and select the region with the greatest potential price increase."
   ]
  },
  {
   "cell_type": "code",
   "execution_count": 1,
   "metadata": {},
   "outputs": [],
   "source": [
    "# References:\n",
    "# https://machinelearningmastery.com/time-series-forecasting-long-short-term-memory-network-python/\n",
    "# https://machinelearningmastery.com/tune-lstm-hyperparameters-keras-time-series-forecasting/\n",
    "# https://www.kaggle.com/niyamatalmass/machine-learning-for-time-series-analysis"
   ]
  },
  {
   "cell_type": "code",
   "execution_count": 2,
   "metadata": {},
   "outputs": [
    {
     "name": "stderr",
     "output_type": "stream",
     "text": [
      "Using TensorFlow backend.\n"
     ]
    }
   ],
   "source": [
    "import pandas as pd\n",
    "import numpy as np\n",
    "import matplotlib.pyplot as plt\n",
    "import seaborn as sns\n",
    "import pickle\n",
    "\n",
    "# pre-processing\n",
    "from sklearn.preprocessing import MinMaxScaler\n",
    "\n",
    "# model\n",
    "from keras.models import Sequential\n",
    "from keras.layers import Dense\n",
    "from keras.layers import LSTM # for CPU\n",
    "#from keras.layers import CuDNNLSTM # for GPU\n",
    "\n",
    "# evaluation\n",
    "from sklearn.metrics import mean_absolute_error, mean_squared_error\n",
    "from math import sqrt # for RMSE\n",
    "#from keras.callbacks import TensorBoard, EarlyStopping, ModelCheckpoint\n",
    "\n",
    "%matplotlib inline"
   ]
  },
  {
   "cell_type": "code",
   "execution_count": 3,
   "metadata": {},
   "outputs": [
    {
     "name": "stdout",
     "output_type": "stream",
     "text": [
      "Index(['month', 'town', 'flat_type', 'block', 'street_name', 'storey_range',\n",
      "       'floor_area_sqm', 'flat_model', 'lease_commence_date', 'resale_price'],\n",
      "      dtype='object')\n",
      "Index(['month', 'town', 'flat_type', 'block', 'street_name', 'storey_range',\n",
      "       'floor_area_sqm', 'flat_model', 'lease_commence_date', 'resale_price'],\n",
      "      dtype='object')\n",
      "Index(['month', 'town', 'flat_type', 'block', 'street_name', 'storey_range',\n",
      "       'floor_area_sqm', 'flat_model', 'lease_commence_date', 'resale_price'],\n",
      "      dtype='object')\n",
      "Index(['month', 'town', 'flat_type', 'block', 'street_name', 'storey_range',\n",
      "       'floor_area_sqm', 'flat_model', 'lease_commence_date',\n",
      "       'remaining_lease', 'resale_price'],\n",
      "      dtype='object')\n"
     ]
    }
   ],
   "source": [
    "df_data1 = pd.read_csv('./data/resale-flat-prices-based-on-approval-date-1990-1999.csv')\n",
    "df_data2 = pd.read_csv('./data/resale-flat-prices-based-on-approval-date-2000-feb-2012.csv')\n",
    "df_data3 = pd.read_csv('./data/resale-flat-prices-based-on-registration-date-from-mar-2012-to-dec-2014.csv')\n",
    "df_data4 = pd.read_csv('./data/resale-flat-prices-based-on-registration-date-from-jan-2015-onwards.csv')\n",
    "\n",
    "print(df_data1.columns)\n",
    "print(df_data2.columns)\n",
    "print(df_data3.columns)\n",
    "print(df_data4.columns)"
   ]
  },
  {
   "cell_type": "markdown",
   "metadata": {},
   "source": [
    "Drop `remaining_lease` column in the last dataset to standardise the columns across all the datasets."
   ]
  },
  {
   "cell_type": "code",
   "execution_count": 4,
   "metadata": {},
   "outputs": [],
   "source": [
    "df_data4.drop(['remaining_lease'], axis=1, inplace=True)"
   ]
  },
  {
   "cell_type": "code",
   "execution_count": 5,
   "metadata": {},
   "outputs": [
    {
     "data": {
      "text/plain": [
       "785798"
      ]
     },
     "execution_count": 5,
     "metadata": {},
     "output_type": "execute_result"
    }
   ],
   "source": [
    "df = pd.concat([\n",
    "    df_data1,\n",
    "    df_data2,\n",
    "    df_data3,\n",
    "    df_data4\n",
    "])\n",
    "\n",
    "len(df)"
   ]
  },
  {
   "cell_type": "code",
   "execution_count": 6,
   "metadata": {},
   "outputs": [
    {
     "data": {
      "text/html": [
       "<div>\n",
       "<style scoped>\n",
       "    .dataframe tbody tr th:only-of-type {\n",
       "        vertical-align: middle;\n",
       "    }\n",
       "\n",
       "    .dataframe tbody tr th {\n",
       "        vertical-align: top;\n",
       "    }\n",
       "\n",
       "    .dataframe thead th {\n",
       "        text-align: right;\n",
       "    }\n",
       "</style>\n",
       "<table border=\"1\" class=\"dataframe\">\n",
       "  <thead>\n",
       "    <tr style=\"text-align: right;\">\n",
       "      <th></th>\n",
       "      <th>month</th>\n",
       "      <th>town</th>\n",
       "      <th>flat_type</th>\n",
       "      <th>block</th>\n",
       "      <th>street_name</th>\n",
       "      <th>storey_range</th>\n",
       "      <th>floor_area_sqm</th>\n",
       "      <th>flat_model</th>\n",
       "      <th>lease_commence_date</th>\n",
       "      <th>resale_price</th>\n",
       "    </tr>\n",
       "  </thead>\n",
       "  <tbody>\n",
       "    <tr>\n",
       "      <th>0</th>\n",
       "      <td>1990-01</td>\n",
       "      <td>ANG MO KIO</td>\n",
       "      <td>1 ROOM</td>\n",
       "      <td>309</td>\n",
       "      <td>ANG MO KIO AVE 1</td>\n",
       "      <td>10 TO 12</td>\n",
       "      <td>31.0</td>\n",
       "      <td>IMPROVED</td>\n",
       "      <td>1977</td>\n",
       "      <td>9000.0</td>\n",
       "    </tr>\n",
       "    <tr>\n",
       "      <th>1</th>\n",
       "      <td>1990-01</td>\n",
       "      <td>ANG MO KIO</td>\n",
       "      <td>1 ROOM</td>\n",
       "      <td>309</td>\n",
       "      <td>ANG MO KIO AVE 1</td>\n",
       "      <td>04 TO 06</td>\n",
       "      <td>31.0</td>\n",
       "      <td>IMPROVED</td>\n",
       "      <td>1977</td>\n",
       "      <td>6000.0</td>\n",
       "    </tr>\n",
       "    <tr>\n",
       "      <th>2</th>\n",
       "      <td>1990-01</td>\n",
       "      <td>ANG MO KIO</td>\n",
       "      <td>1 ROOM</td>\n",
       "      <td>309</td>\n",
       "      <td>ANG MO KIO AVE 1</td>\n",
       "      <td>10 TO 12</td>\n",
       "      <td>31.0</td>\n",
       "      <td>IMPROVED</td>\n",
       "      <td>1977</td>\n",
       "      <td>8000.0</td>\n",
       "    </tr>\n",
       "  </tbody>\n",
       "</table>\n",
       "</div>"
      ],
      "text/plain": [
       "     month        town flat_type block       street_name storey_range  \\\n",
       "0  1990-01  ANG MO KIO    1 ROOM   309  ANG MO KIO AVE 1     10 TO 12   \n",
       "1  1990-01  ANG MO KIO    1 ROOM   309  ANG MO KIO AVE 1     04 TO 06   \n",
       "2  1990-01  ANG MO KIO    1 ROOM   309  ANG MO KIO AVE 1     10 TO 12   \n",
       "\n",
       "   floor_area_sqm flat_model  lease_commence_date  resale_price  \n",
       "0            31.0   IMPROVED                 1977        9000.0  \n",
       "1            31.0   IMPROVED                 1977        6000.0  \n",
       "2            31.0   IMPROVED                 1977        8000.0  "
      ]
     },
     "execution_count": 6,
     "metadata": {},
     "output_type": "execute_result"
    }
   ],
   "source": [
    "df.head(3)"
   ]
  },
  {
   "cell_type": "markdown",
   "metadata": {},
   "source": [
    "## Section 3 & 4: Data and Feature Engineering"
   ]
  },
  {
   "cell_type": "markdown",
   "metadata": {},
   "source": [
    "### Converting to time-series format\n",
    "\n",
    "Steps:\n",
    "- Restrict the town list\n",
    "- Add a column `price_per_sqm`\n",
    "- Filter flat types\n",
    "- Drop irrelevant columns\n",
    "- Convert to indexing by quarter-year\n",
    "- Convert dataset to time-series format\n",
    "\n",
    "The eventual time-series dataset will contain 2 columns:\n",
    "1. Quarter\n",
    "2. Average resale price (in price per sqm)"
   ]
  },
  {
   "cell_type": "markdown",
   "metadata": {},
   "source": [
    "#### Restrict the town list"
   ]
  },
  {
   "cell_type": "markdown",
   "metadata": {},
   "source": [
    "By default, the HDB dataset defines the following list of towns."
   ]
  },
  {
   "cell_type": "code",
   "execution_count": 7,
   "metadata": {},
   "outputs": [
    {
     "data": {
      "text/plain": [
       "array(['ANG MO KIO', 'BEDOK', 'BISHAN', 'BUKIT BATOK', 'BUKIT MERAH',\n",
       "       'BUKIT TIMAH', 'CENTRAL AREA', 'CHOA CHU KANG', 'CLEMENTI',\n",
       "       'GEYLANG', 'HOUGANG', 'JURONG EAST', 'JURONG WEST',\n",
       "       'KALLANG/WHAMPOA', 'MARINE PARADE', 'QUEENSTOWN', 'SENGKANG',\n",
       "       'SERANGOON', 'TAMPINES', 'TOA PAYOH', 'WOODLANDS', 'YISHUN',\n",
       "       'LIM CHU KANG', 'SEMBAWANG', 'BUKIT PANJANG', 'PASIR RIS',\n",
       "       'PUNGGOL'], dtype=object)"
      ]
     },
     "execution_count": 7,
     "metadata": {},
     "output_type": "execute_result"
    }
   ],
   "source": [
    "df['town'].unique()"
   ]
  },
  {
   "cell_type": "code",
   "execution_count": 8,
   "metadata": {},
   "outputs": [
    {
     "data": {
      "text/plain": [
       "TAMPINES           70341\n",
       "YISHUN             60016\n",
       "BEDOK              59226\n",
       "JURONG WEST        57762\n",
       "WOODLANDS          55626\n",
       "ANG MO KIO         46540\n",
       "HOUGANG            43509\n",
       "BUKIT BATOK        38975\n",
       "CHOA CHU KANG      31644\n",
       "BUKIT MERAH        29052\n",
       "PASIR RIS          28999\n",
       "TOA PAYOH          27310\n",
       "QUEENSTOWN         25009\n",
       "CLEMENTI           24902\n",
       "GEYLANG            24760\n",
       "KALLANG/WHAMPOA    23064\n",
       "BUKIT PANJANG      22352\n",
       "JURONG EAST        21972\n",
       "SENGKANG           20389\n",
       "SERANGOON          20353\n",
       "BISHAN             18783\n",
       "SEMBAWANG           9911\n",
       "PUNGGOL             9832\n",
       "MARINE PARADE       7180\n",
       "CENTRAL AREA        6051\n",
       "BUKIT TIMAH         2176\n",
       "LIM CHU KANG          64\n",
       "Name: town, dtype: int64"
      ]
     },
     "execution_count": 8,
     "metadata": {},
     "output_type": "execute_result"
    }
   ],
   "source": [
    "df['town'].value_counts()"
   ]
  },
  {
   "cell_type": "markdown",
   "metadata": {},
   "source": [
    "We restructure into the following list of towns:\n",
    "- NORTH (ANG MO KIO, BISHAN, TOA PAYOH)\n",
    "- FAR NORTH (WOODLANDS, YISHUN, SEMBAWANG)\n",
    "- NORTH EAST (HOUGANG, SENGKANG, SERANGOON, PUNGGOL)\n",
    "- EAST (BEDOK, GEYLANG, KALLANG/WHAMPOA, MARINE PARADE, TAMPINES, PASIR RIS) \n",
    "- WEST (BUKIT MERAH, BUKIT TIMAH, CLEMENTI, QUEENSTOWN)\n",
    "- FAR WEST (BUKIT BATOK, CHOA CHU KANG, JURONG EAST, JURONG WEST, BUKIT PANJANG) \n",
    "\n",
    "Notes: \n",
    "- Drop 'LIM CHU KANG' as flats are no longer being sold there.\n",
    "- Drop 'CENTRAL AREA' as focus will primarily be on suburban areas."
   ]
  },
  {
   "cell_type": "markdown",
   "metadata": {},
   "source": [
    "<img src=\"./img/sg-regions.png\">"
   ]
  },
  {
   "cell_type": "code",
   "execution_count": 9,
   "metadata": {},
   "outputs": [],
   "source": [
    "# define a dict for restructuring of towns\n",
    "town_dict = {\n",
    "    'ANG MO KIO': 'NORTH',\n",
    "    'BEDOK': 'EAST',\n",
    "    'BISHAN': 'NORTH',\n",
    "    'BUKIT BATOK': 'FAR WEST',\n",
    "    'BUKIT MERAH': 'WEST',\n",
    "    'BUKIT PANJANG': 'FAR WEST',\n",
    "    'BUKIT TIMAH': 'WEST',\n",
    "    'CHOA CHU KANG': 'FAR WEST',\n",
    "    'CLEMENTI': 'WEST',\n",
    "    'GEYLANG': 'EAST',\n",
    "    'HOUGANG': 'NORTH EAST', \n",
    "    'JURONG EAST': 'FAR WEST', \n",
    "    'JURONG WEST': 'FAR WEST',\n",
    "    'KALLANG/WHAMPOA': 'EAST', \n",
    "    'MARINE PARADE': 'EAST', \n",
    "    'PASIR RIS': 'EAST',\n",
    "    'PUNGGOL': 'NORTH EAST',\n",
    "    'QUEENSTOWN': 'WEST', \n",
    "    'SEMBAWANG': 'FAR NORTH',  \n",
    "    'SENGKANG': 'NORTH EAST',\n",
    "    'SERANGOON': 'NORTH EAST', \n",
    "    'TAMPINES': 'EAST', \n",
    "    'TOA PAYOH': 'NORTH', \n",
    "    'WOODLANDS': 'FAR NORTH', \n",
    "    'YISHUN': 'FAR NORTH'   \n",
    "}"
   ]
  },
  {
   "cell_type": "code",
   "execution_count": 11,
   "metadata": {},
   "outputs": [],
   "source": [
    "# remove LIM CHU KANG and CENTRAL AREA\n",
    "df = df.loc[(df['town'] != 'LIM CHU KANG') & (df['town'] != 'CENTRAL AREA')]\n",
    "\n",
    "df.replace({'town': town_dict}, inplace=True)"
   ]
  },
  {
   "cell_type": "markdown",
   "metadata": {},
   "source": [
    "#### Add a column `price_per_sqm`\n",
    "\n",
    "Divide `resale_price` by `floor_area_sqm` for a more representative figure."
   ]
  },
  {
   "cell_type": "code",
   "execution_count": 12,
   "metadata": {},
   "outputs": [],
   "source": [
    "df['price_per_sqm'] = df['resale_price'] / df['floor_area_sqm']"
   ]
  },
  {
   "cell_type": "markdown",
   "metadata": {},
   "source": [
    "#### Filter flat types\n",
    "\n",
    "We restrict `flat_type` to be of the following values:\n",
    "- 3 ROOM\n",
    "- 4 ROOM\n",
    "- 5 ROOM\n",
    "- EXECUTIVE"
   ]
  },
  {
   "cell_type": "code",
   "execution_count": 13,
   "metadata": {},
   "outputs": [],
   "source": [
    "df = df.loc[(df.flat_type == '3 ROOM') | (df.flat_type == '4 ROOM') | (df.flat_type == '5 ROOM') | \n",
    "            (df.flat_type == 'EXECUTIVE')]"
   ]
  },
  {
   "cell_type": "code",
   "execution_count": 14,
   "metadata": {},
   "outputs": [
    {
     "data": {
      "text/plain": [
       "4 ROOM       290415\n",
       "3 ROOM       259031\n",
       "5 ROOM       160434\n",
       "EXECUTIVE     59697\n",
       "Name: flat_type, dtype: int64"
      ]
     },
     "execution_count": 14,
     "metadata": {},
     "output_type": "execute_result"
    }
   ],
   "source": [
    "df['flat_type'].value_counts()"
   ]
  },
  {
   "cell_type": "markdown",
   "metadata": {},
   "source": [
    "#### Drop the irrelevant columns\n",
    "\n",
    "Remove `flat_type`, `block`, `street_name`, `storey_range`, `floor_area_sqm`, `flat_model`, `lease_commence_date`.\n",
    "\n",
    "Also drop `resale_price` since `price_per_sqm` is used instead."
   ]
  },
  {
   "cell_type": "code",
   "execution_count": 15,
   "metadata": {},
   "outputs": [],
   "source": [
    "df.drop(['flat_type', 'block', 'street_name', 'storey_range', 'floor_area_sqm', 'flat_model', 'lease_commence_date', 'resale_price'], \n",
    "            axis=1, inplace=True)\n",
    "df.reset_index(drop=True, inplace=True)"
   ]
  },
  {
   "cell_type": "code",
   "execution_count": 16,
   "metadata": {},
   "outputs": [
    {
     "data": {
      "text/html": [
       "<div>\n",
       "<style scoped>\n",
       "    .dataframe tbody tr th:only-of-type {\n",
       "        vertical-align: middle;\n",
       "    }\n",
       "\n",
       "    .dataframe tbody tr th {\n",
       "        vertical-align: top;\n",
       "    }\n",
       "\n",
       "    .dataframe thead th {\n",
       "        text-align: right;\n",
       "    }\n",
       "</style>\n",
       "<table border=\"1\" class=\"dataframe\">\n",
       "  <thead>\n",
       "    <tr style=\"text-align: right;\">\n",
       "      <th></th>\n",
       "      <th>month</th>\n",
       "      <th>town</th>\n",
       "      <th>price_per_sqm</th>\n",
       "    </tr>\n",
       "  </thead>\n",
       "  <tbody>\n",
       "    <tr>\n",
       "      <th>0</th>\n",
       "      <td>1990-01</td>\n",
       "      <td>NORTH</td>\n",
       "      <td>646.575342</td>\n",
       "    </tr>\n",
       "    <tr>\n",
       "      <th>1</th>\n",
       "      <td>1990-01</td>\n",
       "      <td>NORTH</td>\n",
       "      <td>686.567164</td>\n",
       "    </tr>\n",
       "    <tr>\n",
       "      <th>2</th>\n",
       "      <td>1990-01</td>\n",
       "      <td>NORTH</td>\n",
       "      <td>626.865672</td>\n",
       "    </tr>\n",
       "    <tr>\n",
       "      <th>3</th>\n",
       "      <td>1990-01</td>\n",
       "      <td>NORTH</td>\n",
       "      <td>567.164179</td>\n",
       "    </tr>\n",
       "    <tr>\n",
       "      <th>4</th>\n",
       "      <td>1990-01</td>\n",
       "      <td>NORTH</td>\n",
       "      <td>597.014925</td>\n",
       "    </tr>\n",
       "  </tbody>\n",
       "</table>\n",
       "</div>"
      ],
      "text/plain": [
       "     month   town  price_per_sqm\n",
       "0  1990-01  NORTH     646.575342\n",
       "1  1990-01  NORTH     686.567164\n",
       "2  1990-01  NORTH     626.865672\n",
       "3  1990-01  NORTH     567.164179\n",
       "4  1990-01  NORTH     597.014925"
      ]
     },
     "execution_count": 16,
     "metadata": {},
     "output_type": "execute_result"
    }
   ],
   "source": [
    "df.head()"
   ]
  },
  {
   "cell_type": "markdown",
   "metadata": {},
   "source": [
    "#### Convert to indexing by quarter-year\n",
    "\n",
    "Replace the `month` column with a `quarter` column to lessen the effect of short-term fluctuations."
   ]
  },
  {
   "cell_type": "code",
   "execution_count": 17,
   "metadata": {},
   "outputs": [],
   "source": [
    "# add a 'quarter' column\n",
    "df['quarter'] = pd.to_datetime(df['month'])\n",
    "df['quarter'] = pd.PeriodIndex(df['quarter'], freq='Q')\n",
    "df.quarter = df.quarter.astype(str)\n",
    "# drop the 'month' column\n",
    "df.drop('month', axis=1, inplace=True)"
   ]
  },
  {
   "cell_type": "code",
   "execution_count": 18,
   "metadata": {},
   "outputs": [
    {
     "data": {
      "text/html": [
       "<div>\n",
       "<style scoped>\n",
       "    .dataframe tbody tr th:only-of-type {\n",
       "        vertical-align: middle;\n",
       "    }\n",
       "\n",
       "    .dataframe tbody tr th {\n",
       "        vertical-align: top;\n",
       "    }\n",
       "\n",
       "    .dataframe thead th {\n",
       "        text-align: right;\n",
       "    }\n",
       "</style>\n",
       "<table border=\"1\" class=\"dataframe\">\n",
       "  <thead>\n",
       "    <tr style=\"text-align: right;\">\n",
       "      <th></th>\n",
       "      <th>town</th>\n",
       "      <th>price_per_sqm</th>\n",
       "      <th>quarter</th>\n",
       "    </tr>\n",
       "  </thead>\n",
       "  <tbody>\n",
       "    <tr>\n",
       "      <th>0</th>\n",
       "      <td>NORTH</td>\n",
       "      <td>646.575342</td>\n",
       "      <td>1990Q1</td>\n",
       "    </tr>\n",
       "    <tr>\n",
       "      <th>1</th>\n",
       "      <td>NORTH</td>\n",
       "      <td>686.567164</td>\n",
       "      <td>1990Q1</td>\n",
       "    </tr>\n",
       "    <tr>\n",
       "      <th>2</th>\n",
       "      <td>NORTH</td>\n",
       "      <td>626.865672</td>\n",
       "      <td>1990Q1</td>\n",
       "    </tr>\n",
       "    <tr>\n",
       "      <th>3</th>\n",
       "      <td>NORTH</td>\n",
       "      <td>567.164179</td>\n",
       "      <td>1990Q1</td>\n",
       "    </tr>\n",
       "    <tr>\n",
       "      <th>4</th>\n",
       "      <td>NORTH</td>\n",
       "      <td>597.014925</td>\n",
       "      <td>1990Q1</td>\n",
       "    </tr>\n",
       "  </tbody>\n",
       "</table>\n",
       "</div>"
      ],
      "text/plain": [
       "    town  price_per_sqm quarter\n",
       "0  NORTH     646.575342  1990Q1\n",
       "1  NORTH     686.567164  1990Q1\n",
       "2  NORTH     626.865672  1990Q1\n",
       "3  NORTH     567.164179  1990Q1\n",
       "4  NORTH     597.014925  1990Q1"
      ]
     },
     "execution_count": 18,
     "metadata": {},
     "output_type": "execute_result"
    }
   ],
   "source": [
    "df.head()"
   ]
  },
  {
   "cell_type": "markdown",
   "metadata": {},
   "source": [
    "#### Create datasets in time-series format\n",
    "\n",
    "Output will be 6 datasets, one representing each region of Singapore."
   ]
  },
  {
   "cell_type": "code",
   "execution_count": 19,
   "metadata": {},
   "outputs": [],
   "source": [
    "def get_subdataset(df, town):\n",
    "    return df.loc[df['town'] == town]"
   ]
  },
  {
   "cell_type": "code",
   "execution_count": 20,
   "metadata": {},
   "outputs": [],
   "source": [
    "df_north = get_subdataset(df, 'NORTH')\n",
    "df_farnorth = get_subdataset(df, 'FAR NORTH')\n",
    "df_northeast = get_subdataset(df, 'NORTH EAST')\n",
    "df_east = get_subdataset(df, 'EAST')\n",
    "df_west = get_subdataset(df, 'WEST')\n",
    "df_farwest = get_subdataset(df, 'FAR WEST')"
   ]
  },
  {
   "cell_type": "markdown",
   "metadata": {},
   "source": [
    "For each dataset, for each quarter, get the mean of the price per sqm."
   ]
  },
  {
   "cell_type": "code",
   "execution_count": 21,
   "metadata": {},
   "outputs": [],
   "source": [
    "def convert_dataset_to_timeseries_format(df):\n",
    "    df_timeseries = pd.DataFrame(columns=['quarter', 'avg_price_per_sqm'])\n",
    "    \n",
    "    quarters = df['quarter'].unique()\n",
    "    for i in range(len(quarters)):\n",
    "        df_temp = df.loc[df['quarter'] == quarters[i]]\n",
    "        df_timeseries.loc[i] = [quarters[i], df_temp['price_per_sqm'].mean()]\n",
    "    \n",
    "    df_timeseries.sort_values(['quarter'], inplace=True)\n",
    "    \n",
    "    # set 'quarter' to be the index of the dataset\n",
    "    df_timeseries.set_index(['quarter'], drop=True, inplace=True)\n",
    "    \n",
    "    return df_timeseries"
   ]
  },
  {
   "cell_type": "code",
   "execution_count": 22,
   "metadata": {},
   "outputs": [],
   "source": [
    "df_north_ts = convert_dataset_to_timeseries_format(df_north)\n",
    "df_farnorth_ts = convert_dataset_to_timeseries_format(df_farnorth)\n",
    "df_northeast_ts = convert_dataset_to_timeseries_format(df_northeast)\n",
    "df_east_ts = convert_dataset_to_timeseries_format(df_east)\n",
    "df_west_ts = convert_dataset_to_timeseries_format(df_west)\n",
    "df_farwest_ts = convert_dataset_to_timeseries_format(df_farwest)"
   ]
  },
  {
   "cell_type": "code",
   "execution_count": 62,
   "metadata": {
    "collapsed": true
   },
   "outputs": [
    {
     "data": {
      "text/html": [
       "<div>\n",
       "<style scoped>\n",
       "    .dataframe tbody tr th:only-of-type {\n",
       "        vertical-align: middle;\n",
       "    }\n",
       "\n",
       "    .dataframe tbody tr th {\n",
       "        vertical-align: top;\n",
       "    }\n",
       "\n",
       "    .dataframe thead th {\n",
       "        text-align: right;\n",
       "    }\n",
       "</style>\n",
       "<table border=\"1\" class=\"dataframe\">\n",
       "  <thead>\n",
       "    <tr style=\"text-align: right;\">\n",
       "      <th></th>\n",
       "      <th>avg_price_per_sqm</th>\n",
       "    </tr>\n",
       "    <tr>\n",
       "      <th>quarter</th>\n",
       "      <th></th>\n",
       "    </tr>\n",
       "  </thead>\n",
       "  <tbody>\n",
       "    <tr>\n",
       "      <th>1990Q1</th>\n",
       "      <td>788.179873</td>\n",
       "    </tr>\n",
       "    <tr>\n",
       "      <th>1990Q2</th>\n",
       "      <td>820.321126</td>\n",
       "    </tr>\n",
       "    <tr>\n",
       "      <th>1990Q3</th>\n",
       "      <td>829.291975</td>\n",
       "    </tr>\n",
       "    <tr>\n",
       "      <th>1990Q4</th>\n",
       "      <td>826.855877</td>\n",
       "    </tr>\n",
       "    <tr>\n",
       "      <th>1991Q1</th>\n",
       "      <td>846.985186</td>\n",
       "    </tr>\n",
       "    <tr>\n",
       "      <th>1991Q2</th>\n",
       "      <td>845.817500</td>\n",
       "    </tr>\n",
       "    <tr>\n",
       "      <th>1991Q3</th>\n",
       "      <td>869.145457</td>\n",
       "    </tr>\n",
       "    <tr>\n",
       "      <th>1991Q4</th>\n",
       "      <td>861.246788</td>\n",
       "    </tr>\n",
       "    <tr>\n",
       "      <th>1992Q1</th>\n",
       "      <td>874.301058</td>\n",
       "    </tr>\n",
       "    <tr>\n",
       "      <th>1992Q2</th>\n",
       "      <td>904.174861</td>\n",
       "    </tr>\n",
       "    <tr>\n",
       "      <th>1992Q3</th>\n",
       "      <td>948.503364</td>\n",
       "    </tr>\n",
       "    <tr>\n",
       "      <th>1992Q4</th>\n",
       "      <td>951.923487</td>\n",
       "    </tr>\n",
       "    <tr>\n",
       "      <th>1993Q1</th>\n",
       "      <td>989.776569</td>\n",
       "    </tr>\n",
       "    <tr>\n",
       "      <th>1993Q2</th>\n",
       "      <td>1158.481801</td>\n",
       "    </tr>\n",
       "    <tr>\n",
       "      <th>1993Q3</th>\n",
       "      <td>1437.510369</td>\n",
       "    </tr>\n",
       "    <tr>\n",
       "      <th>1993Q4</th>\n",
       "      <td>1674.149017</td>\n",
       "    </tr>\n",
       "    <tr>\n",
       "      <th>1994Q1</th>\n",
       "      <td>1734.871971</td>\n",
       "    </tr>\n",
       "    <tr>\n",
       "      <th>1994Q2</th>\n",
       "      <td>1816.559724</td>\n",
       "    </tr>\n",
       "    <tr>\n",
       "      <th>1994Q3</th>\n",
       "      <td>1900.595306</td>\n",
       "    </tr>\n",
       "    <tr>\n",
       "      <th>1994Q4</th>\n",
       "      <td>1942.466814</td>\n",
       "    </tr>\n",
       "    <tr>\n",
       "      <th>1995Q1</th>\n",
       "      <td>1995.806976</td>\n",
       "    </tr>\n",
       "    <tr>\n",
       "      <th>1995Q2</th>\n",
       "      <td>2155.078445</td>\n",
       "    </tr>\n",
       "    <tr>\n",
       "      <th>1995Q3</th>\n",
       "      <td>2330.470020</td>\n",
       "    </tr>\n",
       "    <tr>\n",
       "      <th>1995Q4</th>\n",
       "      <td>2481.201498</td>\n",
       "    </tr>\n",
       "    <tr>\n",
       "      <th>1996Q1</th>\n",
       "      <td>2681.064783</td>\n",
       "    </tr>\n",
       "    <tr>\n",
       "      <th>1996Q2</th>\n",
       "      <td>3002.525689</td>\n",
       "    </tr>\n",
       "    <tr>\n",
       "      <th>1996Q3</th>\n",
       "      <td>3288.053671</td>\n",
       "    </tr>\n",
       "    <tr>\n",
       "      <th>1996Q4</th>\n",
       "      <td>3378.031503</td>\n",
       "    </tr>\n",
       "    <tr>\n",
       "      <th>1997Q1</th>\n",
       "      <td>3398.487732</td>\n",
       "    </tr>\n",
       "    <tr>\n",
       "      <th>1997Q2</th>\n",
       "      <td>3406.144303</td>\n",
       "    </tr>\n",
       "    <tr>\n",
       "      <th>...</th>\n",
       "      <td>...</td>\n",
       "    </tr>\n",
       "    <tr>\n",
       "      <th>2011Q3</th>\n",
       "      <td>4698.060794</td>\n",
       "    </tr>\n",
       "    <tr>\n",
       "      <th>2011Q4</th>\n",
       "      <td>4800.790768</td>\n",
       "    </tr>\n",
       "    <tr>\n",
       "      <th>2012Q1</th>\n",
       "      <td>4780.464490</td>\n",
       "    </tr>\n",
       "    <tr>\n",
       "      <th>2012Q2</th>\n",
       "      <td>4870.405675</td>\n",
       "    </tr>\n",
       "    <tr>\n",
       "      <th>2012Q3</th>\n",
       "      <td>4947.923664</td>\n",
       "    </tr>\n",
       "    <tr>\n",
       "      <th>2012Q4</th>\n",
       "      <td>5084.436217</td>\n",
       "    </tr>\n",
       "    <tr>\n",
       "      <th>2013Q1</th>\n",
       "      <td>5146.429714</td>\n",
       "    </tr>\n",
       "    <tr>\n",
       "      <th>2013Q2</th>\n",
       "      <td>5175.143419</td>\n",
       "    </tr>\n",
       "    <tr>\n",
       "      <th>2013Q3</th>\n",
       "      <td>5098.352717</td>\n",
       "    </tr>\n",
       "    <tr>\n",
       "      <th>2013Q4</th>\n",
       "      <td>5019.393512</td>\n",
       "    </tr>\n",
       "    <tr>\n",
       "      <th>2014Q1</th>\n",
       "      <td>4958.837926</td>\n",
       "    </tr>\n",
       "    <tr>\n",
       "      <th>2014Q2</th>\n",
       "      <td>4972.657165</td>\n",
       "    </tr>\n",
       "    <tr>\n",
       "      <th>2014Q3</th>\n",
       "      <td>4824.419050</td>\n",
       "    </tr>\n",
       "    <tr>\n",
       "      <th>2014Q4</th>\n",
       "      <td>4737.813972</td>\n",
       "    </tr>\n",
       "    <tr>\n",
       "      <th>2015Q1</th>\n",
       "      <td>4675.027975</td>\n",
       "    </tr>\n",
       "    <tr>\n",
       "      <th>2015Q2</th>\n",
       "      <td>4662.111811</td>\n",
       "    </tr>\n",
       "    <tr>\n",
       "      <th>2015Q3</th>\n",
       "      <td>4666.741579</td>\n",
       "    </tr>\n",
       "    <tr>\n",
       "      <th>2015Q4</th>\n",
       "      <td>4665.129742</td>\n",
       "    </tr>\n",
       "    <tr>\n",
       "      <th>2016Q1</th>\n",
       "      <td>4731.828087</td>\n",
       "    </tr>\n",
       "    <tr>\n",
       "      <th>2016Q2</th>\n",
       "      <td>4780.178261</td>\n",
       "    </tr>\n",
       "    <tr>\n",
       "      <th>2016Q3</th>\n",
       "      <td>4751.316369</td>\n",
       "    </tr>\n",
       "    <tr>\n",
       "      <th>2016Q4</th>\n",
       "      <td>4731.384558</td>\n",
       "    </tr>\n",
       "    <tr>\n",
       "      <th>2017Q1</th>\n",
       "      <td>4730.122017</td>\n",
       "    </tr>\n",
       "    <tr>\n",
       "      <th>2017Q2</th>\n",
       "      <td>4756.796605</td>\n",
       "    </tr>\n",
       "    <tr>\n",
       "      <th>2017Q3</th>\n",
       "      <td>4736.022829</td>\n",
       "    </tr>\n",
       "    <tr>\n",
       "      <th>2017Q4</th>\n",
       "      <td>4737.925176</td>\n",
       "    </tr>\n",
       "    <tr>\n",
       "      <th>2018Q1</th>\n",
       "      <td>4806.346918</td>\n",
       "    </tr>\n",
       "    <tr>\n",
       "      <th>2018Q2</th>\n",
       "      <td>4698.161881</td>\n",
       "    </tr>\n",
       "    <tr>\n",
       "      <th>2018Q3</th>\n",
       "      <td>4645.669942</td>\n",
       "    </tr>\n",
       "    <tr>\n",
       "      <th>2018Q4</th>\n",
       "      <td>4742.574425</td>\n",
       "    </tr>\n",
       "  </tbody>\n",
       "</table>\n",
       "<p>116 rows × 1 columns</p>\n",
       "</div>"
      ],
      "text/plain": [
       "         avg_price_per_sqm\n",
       "quarter                   \n",
       "1990Q1          788.179873\n",
       "1990Q2          820.321126\n",
       "1990Q3          829.291975\n",
       "1990Q4          826.855877\n",
       "1991Q1          846.985186\n",
       "1991Q2          845.817500\n",
       "1991Q3          869.145457\n",
       "1991Q4          861.246788\n",
       "1992Q1          874.301058\n",
       "1992Q2          904.174861\n",
       "1992Q3          948.503364\n",
       "1992Q4          951.923487\n",
       "1993Q1          989.776569\n",
       "1993Q2         1158.481801\n",
       "1993Q3         1437.510369\n",
       "1993Q4         1674.149017\n",
       "1994Q1         1734.871971\n",
       "1994Q2         1816.559724\n",
       "1994Q3         1900.595306\n",
       "1994Q4         1942.466814\n",
       "1995Q1         1995.806976\n",
       "1995Q2         2155.078445\n",
       "1995Q3         2330.470020\n",
       "1995Q4         2481.201498\n",
       "1996Q1         2681.064783\n",
       "1996Q2         3002.525689\n",
       "1996Q3         3288.053671\n",
       "1996Q4         3378.031503\n",
       "1997Q1         3398.487732\n",
       "1997Q2         3406.144303\n",
       "...                    ...\n",
       "2011Q3         4698.060794\n",
       "2011Q4         4800.790768\n",
       "2012Q1         4780.464490\n",
       "2012Q2         4870.405675\n",
       "2012Q3         4947.923664\n",
       "2012Q4         5084.436217\n",
       "2013Q1         5146.429714\n",
       "2013Q2         5175.143419\n",
       "2013Q3         5098.352717\n",
       "2013Q4         5019.393512\n",
       "2014Q1         4958.837926\n",
       "2014Q2         4972.657165\n",
       "2014Q3         4824.419050\n",
       "2014Q4         4737.813972\n",
       "2015Q1         4675.027975\n",
       "2015Q2         4662.111811\n",
       "2015Q3         4666.741579\n",
       "2015Q4         4665.129742\n",
       "2016Q1         4731.828087\n",
       "2016Q2         4780.178261\n",
       "2016Q3         4751.316369\n",
       "2016Q4         4731.384558\n",
       "2017Q1         4730.122017\n",
       "2017Q2         4756.796605\n",
       "2017Q3         4736.022829\n",
       "2017Q4         4737.925176\n",
       "2018Q1         4806.346918\n",
       "2018Q2         4698.161881\n",
       "2018Q3         4645.669942\n",
       "2018Q4         4742.574425\n",
       "\n",
       "[116 rows x 1 columns]"
      ]
     },
     "execution_count": 62,
     "metadata": {},
     "output_type": "execute_result"
    }
   ],
   "source": [
    "df_east_ts"
   ]
  },
  {
   "cell_type": "code",
   "execution_count": 24,
   "metadata": {},
   "outputs": [],
   "source": [
    "def plot_price_against_time(df):\n",
    "    fig, ax = plt.subplots(figsize=(16, 8))\n",
    "    \n",
    "    ax.xaxis.set_major_locator(plt.MaxNLocator(20))    # to restrict the number of labels shown on the x-axis\n",
    "    #ax.axhline(y=0, color='black', linewidth=1, linestyle='--')\n",
    "    \n",
    "    # if there are future predicted values, plot them in a different colour\n",
    "    if len(df) > 116:\n",
    "        ax.plot(df.iloc[:116, :], color='blue')\n",
    "        ax.plot(df.iloc[115:, :], color='red')\n",
    "    else:\n",
    "        ax.plot(df)\n",
    "    ax.set(xlabel='Quarter', ylabel='Price per sqm', title='Price per sqm vs. quarter')"
   ]
  },
  {
   "cell_type": "code",
   "execution_count": 25,
   "metadata": {},
   "outputs": [
    {
     "data": {
      "image/png": "[encoded data removed]",
      "text/plain": [
       "<Figure size 1152x576 with 1 Axes>"
      ]
     },
     "metadata": {
      "needs_background": "light"
     },
     "output_type": "display_data"
    }
   ],
   "source": [
    "plot_price_against_time(df_east_ts)"
   ]
  },
  {
   "cell_type": "markdown",
   "metadata": {},
   "source": [
    "## Section 5: Model Engineering"
   ]
  },
  {
   "cell_type": "markdown",
   "metadata": {},
   "source": [
    "### Pre-processing for LSTM network\n",
    "\n",
    "Now, the dataset has been converted into a time-series format.\n",
    "\n",
    "Next, we do further pre-processing to prepare the dataset for a LSTM network:\n",
    "1. Transform to supervised learning\n",
    "2. Split into train and test sets\n",
    "3. Scale the data to the range (-1, 1)"
   ]
  },
  {
   "cell_type": "markdown",
   "metadata": {},
   "source": [
    "#### Transform to supervised learning\n",
    "\n",
    "Transform dataset in time-series format to supervised learning format."
   ]
  },
  {
   "cell_type": "code",
   "execution_count": 26,
   "metadata": {},
   "outputs": [],
   "source": [
    "# copy-and-pasted helper function\n",
    "def timeseries_to_supervised(series, window_size):\n",
    "    \"\"\"Transforms a sequence into a supervised\n",
    "    learning dataset\n",
    "    \n",
    "    Inputs:\n",
    "        series - the input sequence\n",
    "        window_size - the window sizes to create\n",
    "    Output:\n",
    "        a supervised learning dataset, of window size as features\n",
    "        and the current value as the target\n",
    "    \"\"\"\n",
    "    result = series.copy()\n",
    "    for i in range(window_size):\n",
    "        # shift the series forward by 1 step each time\n",
    "        # then append the shifted series to the result\n",
    "        result = pd.concat([result, series.shift(-(i+1))], axis=1)\n",
    "\n",
    "    # last window_size rows will have missing values because\n",
    "    # they are shifted into the future\n",
    "    result.dropna(inplace=True)\n",
    "    return result"
   ]
  },
  {
   "cell_type": "code",
   "execution_count": 27,
   "metadata": {},
   "outputs": [
    {
     "data": {
      "text/html": [
       "<div>\n",
       "<style scoped>\n",
       "    .dataframe tbody tr th:only-of-type {\n",
       "        vertical-align: middle;\n",
       "    }\n",
       "\n",
       "    .dataframe tbody tr th {\n",
       "        vertical-align: top;\n",
       "    }\n",
       "\n",
       "    .dataframe thead th {\n",
       "        text-align: right;\n",
       "    }\n",
       "</style>\n",
       "<table border=\"1\" class=\"dataframe\">\n",
       "  <thead>\n",
       "    <tr style=\"text-align: right;\">\n",
       "      <th></th>\n",
       "      <th>0</th>\n",
       "      <th>0</th>\n",
       "      <th>0</th>\n",
       "    </tr>\n",
       "  </thead>\n",
       "  <tbody>\n",
       "    <tr>\n",
       "      <th>1</th>\n",
       "      <td>32.141253</td>\n",
       "      <td>8.970850</td>\n",
       "      <td>-2.436098</td>\n",
       "    </tr>\n",
       "    <tr>\n",
       "      <th>2</th>\n",
       "      <td>8.970850</td>\n",
       "      <td>-2.436098</td>\n",
       "      <td>20.129309</td>\n",
       "    </tr>\n",
       "    <tr>\n",
       "      <th>3</th>\n",
       "      <td>-2.436098</td>\n",
       "      <td>20.129309</td>\n",
       "      <td>-1.167686</td>\n",
       "    </tr>\n",
       "    <tr>\n",
       "      <th>4</th>\n",
       "      <td>20.129309</td>\n",
       "      <td>-1.167686</td>\n",
       "      <td>23.327957</td>\n",
       "    </tr>\n",
       "    <tr>\n",
       "      <th>5</th>\n",
       "      <td>-1.167686</td>\n",
       "      <td>23.327957</td>\n",
       "      <td>-7.898669</td>\n",
       "    </tr>\n",
       "  </tbody>\n",
       "</table>\n",
       "</div>"
      ],
      "text/plain": [
       "           0          0          0\n",
       "1  32.141253   8.970850  -2.436098\n",
       "2   8.970850  -2.436098  20.129309\n",
       "3  -2.436098  20.129309  -1.167686\n",
       "4  20.129309  -1.167686  23.327957\n",
       "5  -1.167686  23.327957  -7.898669"
      ]
     },
     "execution_count": 27,
     "metadata": {},
     "output_type": "execute_result"
    }
   ],
   "source": [
    "window_size = 2\n",
    "\n",
    "# use diff() to transform the data to stationary\n",
    "df_east_sup = timeseries_to_supervised(pd.DataFrame(df_east_ts.diff().values),\n",
    "                                        window_size)\n",
    "df_east_sup.head()"
   ]
  },
  {
   "cell_type": "markdown",
   "metadata": {},
   "source": [
    "#### Train/test split\n",
    "\n",
    "Utilise the first 75% of the dataset for training and the remaining 25% for testing."
   ]
  },
  {
   "cell_type": "code",
   "execution_count": 28,
   "metadata": {},
   "outputs": [],
   "source": [
    "train_size = int(len(df_east_sup) * 0.75)\n",
    "train, test = df_east_sup[0:train_size], df_east_sup[train_size:len(df_east_sup)]"
   ]
  },
  {
   "cell_type": "code",
   "execution_count": 29,
   "metadata": {},
   "outputs": [
    {
     "name": "stdout",
     "output_type": "stream",
     "text": [
      "train: 84\n",
      "test: 29\n"
     ]
    }
   ],
   "source": [
    "print('train:', len(train))\n",
    "print('test:', len(test))"
   ]
  },
  {
   "cell_type": "markdown",
   "metadata": {},
   "source": [
    "#### Scale to range (-1, 1)\n",
    "\n",
    "To fit the default `tanh` activation function in the LSTM model.\n",
    "\n",
    "Test data is scaled using the fit of the scaler on the training data, so as to ensure the min/max values of the test data do not influence the model."
   ]
  },
  {
   "cell_type": "code",
   "execution_count": 30,
   "metadata": {},
   "outputs": [],
   "source": [
    "# scale using MinMaxScaler to restrict the features to be between -1 and 1\n",
    "\n",
    "scaler = MinMaxScaler(feature_range=(-1, 1))\n",
    "scaler.fit(train)\n",
    "train_sc = scaler.transform(train)\n",
    "test_sc = scaler.transform(test)"
   ]
  },
  {
   "cell_type": "markdown",
   "metadata": {},
   "source": [
    "### Train LSTM model"
   ]
  },
  {
   "cell_type": "markdown",
   "metadata": {},
   "source": [
    "The LSTM layer expects input to be in a matrix with the dimensions: [samples, time steps, features].\n",
    "- Samples: These are independent observations from the domain, typically rows of data.\n",
    "- Time steps: These are separate time steps of a given variable for a given observation.\n",
    "- Features: These are separate measures observed at the time of observation."
   ]
  },
  {
   "cell_type": "code",
   "execution_count": 31,
   "metadata": {},
   "outputs": [],
   "source": [
    "# inverts the scaling to get the original value\n",
    "def invert_scale(scaler, X, value):\n",
    "    new_row = [x for x in X] + [value]\n",
    "    array = np.array(new_row)\n",
    "    array = array.reshape(1, len(array))\n",
    "    inverted = scaler.inverse_transform(array)\n",
    "    return inverted[0, -1]\n",
    "\n",
    "# trains the LSTM model with the specified hyperparameters\n",
    "def fit_lstm(train_sc, batch_size, nb_epoch, neurons):\n",
    "    X = train_sc[:, :-1]\n",
    "    y = train_sc[:, -1]\n",
    "    X_rnn = X.reshape(X.shape[0], 1, X.shape[1]) # [samples, time steps, features]\n",
    "    \n",
    "    model = Sequential()\n",
    "    # stateful=True ensures state is maintained; used when treating consecutive batches as consecutive inputs\n",
    "    model.add(LSTM(neurons,\n",
    "                  batch_input_shape=(batch_size, X_rnn.shape[1], X_rnn.shape[2]),\n",
    "                  stateful=True))\n",
    "    model.add(Dense(1))\n",
    "    model.compile(loss='mean_squared_error', optimizer='adam')\n",
    "    \n",
    "    # fit model\n",
    "    # reset_states() is manually called after every epoch as the network is stateful; \n",
    "    # helps to make consecutive model calls independent\n",
    "    for i in range(nb_epoch): \n",
    "        model.fit(X_rnn, y, epochs=1, batch_size=batch_size, verbose=0, shuffle=False)\n",
    "        model.reset_states()\n",
    "\n",
    "    return model\n",
    "\n",
    "# given a trained model and one feature row, output a prediction \n",
    "# reset_states() is not called as the model should build up state following each prediction\n",
    "def predict_lstm(model, batch_size, X_test_sc):\n",
    "    X_test_rnn = X_test_sc.reshape(1, 1, len(X_test_sc))\n",
    "    yhat = model.predict(X_test_rnn, batch_size=batch_size)\n",
    "    return yhat[0,0]"
   ]
  },
  {
   "cell_type": "markdown",
   "metadata": {},
   "source": [
    "Variables for reference:\n",
    "- `df_east_ts` - quarter, avg_price_per_sqm\n",
    "- `df_east_sup` - above time-series data, converted to supervised learning with a window size of 5\n",
    "- `train`, `test` - divided in a 75-25 split\n",
    "- `train_sc`, `test_sc` - scaled versions of the above (`scaler` for scaler)"
   ]
  },
  {
   "cell_type": "markdown",
   "metadata": {},
   "source": [
    "The output results of a LSTM network, or neural networks in general, are greatly affected by the random initial conditions.\n",
    "\n",
    "To control this, run each fit-and-predict sequence multiple times.\n",
    "\n",
    "Evaluate each generated model on the test set using walk-forward model validation and save the root mean squared error (RMSE) score."
   ]
  },
  {
   "cell_type": "code",
   "execution_count": 45,
   "metadata": {},
   "outputs": [
    {
     "name": "stdout",
     "output_type": "stream",
     "text": [
      "1) Test RMSE: 84.751\n",
      "2) Test RMSE: 75.750\n",
      "3) Test RMSE: 76.174\n",
      "4) Test RMSE: 75.101\n",
      "5) Test RMSE: 73.374\n",
      "6) Test RMSE: 78.553\n",
      "7) Test RMSE: 88.740\n",
      "8) Test RMSE: 77.017\n",
      "9) Test RMSE: 80.354\n",
      "10) Test RMSE: 76.996\n"
     ]
    }
   ],
   "source": [
    "# hyperparameters\n",
    "repeats = 10\n",
    "batch_size = 1\n",
    "n_epoch = 500\n",
    "n_neurons = 2\n",
    "\n",
    "error_scores = list()\n",
    "predictions_full = list()\n",
    "models_full = list()\n",
    "\n",
    "for i in range(repeats):\n",
    "    model = fit_lstm(train_sc, batch_size, n_epoch, n_neurons)\n",
    "    predictions = list()\n",
    "    \n",
    "    # walk-forward model validation\n",
    "    # (use model to make a forecast for this time step, but use the actual value from the test set to make the forecast\n",
    "    # for the next time step instead of using the previous forecast)\n",
    "    for j in range(len(test_sc)):\n",
    "        X_test_sc = test_sc[j, :-1]\n",
    "        y_test_sc = test_sc[j, -1]\n",
    "        yhat = predict_lstm(model, batch_size, X_test_sc)\n",
    "        \n",
    "        yhat = invert_scale(scaler, X_test_sc, yhat)\n",
    "        \n",
    "        predictions.append(yhat)\n",
    "\n",
    "    # error on the 1st order diff\n",
    "    rmse = sqrt(mean_squared_error(df_east_sup.iloc[train_size:len(df_east_sup), -1], predictions))\n",
    "    print('%d) Test RMSE: %.3f' % (i+1, rmse))\n",
    "    error_scores.append(rmse)\n",
    "    \n",
    "    models_full.append(model)\n",
    "    predictions_full.append(predictions)"
   ]
  },
  {
   "cell_type": "markdown",
   "metadata": {},
   "source": [
    "The average RMSE across all the repeats are taken as an indication of how well the configuration would be expected to perform on unseen data on average."
   ]
  },
  {
   "cell_type": "code",
   "execution_count": 46,
   "metadata": {},
   "outputs": [
    {
     "name": "stdout",
     "output_type": "stream",
     "text": [
      "            rmse\n",
      "count  10.000000\n",
      "mean   78.680916\n",
      "std     4.741112\n",
      "min    73.374035\n",
      "25%    75.855658\n",
      "50%    77.006365\n",
      "75%    79.903951\n",
      "max    88.739848\n"
     ]
    },
    {
     "data": {
      "image/png": "[encoded data removed]",
      "text/plain": [
       "<Figure size 432x288 with 1 Axes>"
      ]
     },
     "metadata": {
      "needs_background": "light"
     },
     "output_type": "display_data"
    }
   ],
   "source": [
    "# summarise results\n",
    "results = pd.DataFrame()\n",
    "results['rmse'] = error_scores\n",
    "print(results.describe())\n",
    "\n",
    "# visualise results\n",
    "results.boxplot()\n",
    "plt.show()"
   ]
  },
  {
   "cell_type": "markdown",
   "metadata": {},
   "source": [
    "Choose the run that resulted in the lowest RMSE and utilise that model and prediction as the preferred."
   ]
  },
  {
   "cell_type": "code",
   "execution_count": 47,
   "metadata": {},
   "outputs": [
    {
     "name": "stdout",
     "output_type": "stream",
     "text": [
      "Best run index: 4\n"
     ]
    }
   ],
   "source": [
    "best_run_index = np.argmin(error_scores)\n",
    "print('Best run index:', best_run_index)\n",
    "\n",
    "model_best = models_full[best_run_index]\n",
    "prediction_best = predictions_full[best_run_index]"
   ]
  },
  {
   "cell_type": "code",
   "execution_count": 33,
   "metadata": {
    "collapsed": true
   },
   "outputs": [
    {
     "data": {
      "text/plain": [
       "\"\\nimport time\\n\\nes = EarlyStopping(patience=5, monitor='mean_absolute_error')\\ntb = TensorBoard(log_dir='./logs/rnn/{}'.format(int(time.time())))\\nmc = ModelCheckpoint('./model_lstm/rnn_weights.{epoch:02d}.hdf5')\\n\\nmodel.compile(loss='mean_squared_error', optimizer='adam',\\n              metrics=['mae'])\\n\\n# note: validation and training sizes need to be divisible\\n# by batch_size for training RNNs\\nmodel.fit(X_train_rnn, y_train_sc, epochs=100, \\n          batch_size=batch_size,\\n          callbacks=[es, tb, mc],\\n          shuffle=False)\\n\""
      ]
     },
     "execution_count": 33,
     "metadata": {},
     "output_type": "execute_result"
    }
   ],
   "source": [
    "\"\"\"\n",
    "import time\n",
    "\n",
    "es = EarlyStopping(patience=5, monitor='mean_absolute_error')\n",
    "tb = TensorBoard(log_dir='./logs/rnn/{}'.format(int(time.time())))\n",
    "mc = ModelCheckpoint('./model_lstm/rnn_weights.{epoch:02d}.hdf5')\n",
    "\n",
    "model.compile(loss='mean_squared_error', optimizer='adam',\n",
    "              metrics=['mae'])\n",
    "\n",
    "# note: validation and training sizes need to be divisible\n",
    "# by batch_size for training RNNs\n",
    "model.fit(X_train_rnn, y_train_sc, epochs=100, \n",
    "          batch_size=batch_size,\n",
    "          callbacks=[es, tb, mc],\n",
    "          shuffle=False)\n",
    "\"\"\""
   ]
  },
  {
   "cell_type": "markdown",
   "metadata": {},
   "source": [
    "#### Compare against validation set\n",
    "\n",
    "Compare the predicted results with the actual results."
   ]
  },
  {
   "cell_type": "code",
   "execution_count": 48,
   "metadata": {},
   "outputs": [],
   "source": [
    "y_test = test.iloc[:, -1].values\n",
    "y_pred = prediction_best\n",
    "\n",
    "test_start_index = test.index[0] # start of test data\n",
    "test_end_index = test.index[-1] # end of test data\n",
    "train_end_index = test_start_index-1 # end of training data\n",
    "# last value of training data\n",
    "test_start_value = df_east_ts.iloc[train_end_index]['avg_price_per_sqm']\n",
    "\n",
    "# compute the predictions using cumulative sum\n",
    "df_reconstructed = pd.DataFrame({'predictions': [test_start_value] + y_pred}).cumsum()\n",
    "df_reconstructed['truth'] = df_east_ts.iloc[train_end_index:test_end_index+1].values\n",
    "# predictions for 1st order difference\n",
    "df_diff_reconstructed = pd.DataFrame({'predictions': y_pred})\n",
    "df_diff_reconstructed['truth'] = y_test"
   ]
  },
  {
   "cell_type": "code",
   "execution_count": 49,
   "metadata": {},
   "outputs": [
    {
     "data": {
      "text/plain": [
       "<matplotlib.axes._subplots.AxesSubplot at 0x16dea09cba8>"
      ]
     },
     "execution_count": 49,
     "metadata": {},
     "output_type": "execute_result"
    },
    {
     "data": {
      "image/png": "[encoded data removed]",
      "text/plain": [
       "<Figure size 432x288 with 1 Axes>"
      ]
     },
     "metadata": {
      "needs_background": "light"
     },
     "output_type": "display_data"
    }
   ],
   "source": [
    "df_reconstructed.plot()"
   ]
  },
  {
   "cell_type": "markdown",
   "metadata": {},
   "source": [
    "## Predict for future quarters"
   ]
  },
  {
   "cell_type": "markdown",
   "metadata": {},
   "source": [
    "Finally, we utilise the model to predict the subsequent quarters.\n",
    "\n",
    "Define number of quarters to predict as 20."
   ]
  },
  {
   "cell_type": "code",
   "execution_count": 50,
   "metadata": {},
   "outputs": [],
   "source": [
    "# define the next 20 quarters\n",
    "qtr_future = ['2019Q1', '2019Q2', '2019Q3', '2019Q4',\n",
    "              '2020Q1', '2020Q2', '2020Q3', '2020Q4',\n",
    "              '2021Q1', '2021Q2', '2021Q3', '2021Q4',\n",
    "              '2022Q1', '2022Q2', '2022Q3', '2022Q4',\n",
    "              '2023Q1', '2023Q2', '2023Q3', '2023Q4',\n",
    "             ]"
   ]
  },
  {
   "cell_type": "code",
   "execution_count": 55,
   "metadata": {},
   "outputs": [],
   "source": [
    "# use last value of dataset as a base to perform further predictions on\n",
    "last_value = test_sc[len(test_sc)-1, 1:]\n",
    "\n",
    "pred_sc = list() # nx3-array\n",
    "pred_sc.append(last_value)\n",
    "pred_future = list() # nx1-array\n",
    "\n",
    "# predict for next 20 quarters\n",
    "for i in range(20): \n",
    "    yhat = predict_lstm(model, 1, pred_sc[i])\n",
    "    \n",
    "    # invert the scaling of the prediction and store separately\n",
    "    yhat_inv = invert_scale(scaler, pred_sc[i], yhat)\n",
    "    pred_future.append(yhat_inv)\n",
    "    \n",
    "    # populate the scaled table to facilitate further predictions\n",
    "    pred_sc[i] = np.append(pred_sc[i], yhat)\n",
    "    pred_sc.append(pred_sc[i][len(pred_sc[i])-2:len(pred_sc[i])])"
   ]
  },
  {
   "cell_type": "code",
   "execution_count": 56,
   "metadata": {
    "collapsed": true
   },
   "outputs": [
    {
     "data": {
      "text/plain": [
       "[239.09222549863102,\n",
       " 304.36482647541635,\n",
       " 194.71255477784229,\n",
       " 70.18669064776334,\n",
       " 40.496500411522064,\n",
       " 24.816398274830085,\n",
       " 18.726193229643815,\n",
       " 9.769162915754402,\n",
       " -4.374439394135939,\n",
       " -25.63390695479357,\n",
       " -45.84749040933941,\n",
       " -53.996932208419906,\n",
       " -49.344827305709735,\n",
       " -35.757906471210816,\n",
       " -16.89505469328687,\n",
       " 2.616040712243713,\n",
       " 16.69094861619894,\n",
       " 20.33605977598929,\n",
       " 14.217121901423836,\n",
       " 4.869372210976494]"
      ]
     },
     "execution_count": 56,
     "metadata": {},
     "output_type": "execute_result"
    }
   ],
   "source": [
    "pred_future"
   ]
  },
  {
   "cell_type": "markdown",
   "metadata": {},
   "source": [
    "Combine the predictions for the future with the existing dataset to witness the long-term trend."
   ]
  },
  {
   "cell_type": "code",
   "execution_count": 57,
   "metadata": {},
   "outputs": [],
   "source": [
    "df_future = pd.DataFrame({'avg_price_per_sqm': [df_east_ts.tail(1).values[0][0]] + pred_future}).cumsum()\n",
    "\n",
    "# remove the 1st element, which is the last element of the original dataset\n",
    "df_future.drop(0, inplace=True)\n",
    "# set index to be the quarter, in accordance with the original df\n",
    "df_future['quarter'] = qtr_future\n",
    "df_future.set_index('quarter', drop=True, inplace=True)"
   ]
  },
  {
   "cell_type": "code",
   "execution_count": 58,
   "metadata": {
    "collapsed": true
   },
   "outputs": [
    {
     "data": {
      "text/html": [
       "<div>\n",
       "<style scoped>\n",
       "    .dataframe tbody tr th:only-of-type {\n",
       "        vertical-align: middle;\n",
       "    }\n",
       "\n",
       "    .dataframe tbody tr th {\n",
       "        vertical-align: top;\n",
       "    }\n",
       "\n",
       "    .dataframe thead th {\n",
       "        text-align: right;\n",
       "    }\n",
       "</style>\n",
       "<table border=\"1\" class=\"dataframe\">\n",
       "  <thead>\n",
       "    <tr style=\"text-align: right;\">\n",
       "      <th></th>\n",
       "      <th>avg_price_per_sqm</th>\n",
       "    </tr>\n",
       "    <tr>\n",
       "      <th>quarter</th>\n",
       "      <th></th>\n",
       "    </tr>\n",
       "  </thead>\n",
       "  <tbody>\n",
       "    <tr>\n",
       "      <th>1990Q1</th>\n",
       "      <td>788.179873</td>\n",
       "    </tr>\n",
       "    <tr>\n",
       "      <th>1990Q2</th>\n",
       "      <td>820.321126</td>\n",
       "    </tr>\n",
       "    <tr>\n",
       "      <th>1990Q3</th>\n",
       "      <td>829.291975</td>\n",
       "    </tr>\n",
       "    <tr>\n",
       "      <th>1990Q4</th>\n",
       "      <td>826.855877</td>\n",
       "    </tr>\n",
       "    <tr>\n",
       "      <th>1991Q1</th>\n",
       "      <td>846.985186</td>\n",
       "    </tr>\n",
       "    <tr>\n",
       "      <th>1991Q2</th>\n",
       "      <td>845.817500</td>\n",
       "    </tr>\n",
       "    <tr>\n",
       "      <th>1991Q3</th>\n",
       "      <td>869.145457</td>\n",
       "    </tr>\n",
       "    <tr>\n",
       "      <th>1991Q4</th>\n",
       "      <td>861.246788</td>\n",
       "    </tr>\n",
       "    <tr>\n",
       "      <th>1992Q1</th>\n",
       "      <td>874.301058</td>\n",
       "    </tr>\n",
       "    <tr>\n",
       "      <th>1992Q2</th>\n",
       "      <td>904.174861</td>\n",
       "    </tr>\n",
       "    <tr>\n",
       "      <th>1992Q3</th>\n",
       "      <td>948.503364</td>\n",
       "    </tr>\n",
       "    <tr>\n",
       "      <th>1992Q4</th>\n",
       "      <td>951.923487</td>\n",
       "    </tr>\n",
       "    <tr>\n",
       "      <th>1993Q1</th>\n",
       "      <td>989.776569</td>\n",
       "    </tr>\n",
       "    <tr>\n",
       "      <th>1993Q2</th>\n",
       "      <td>1158.481801</td>\n",
       "    </tr>\n",
       "    <tr>\n",
       "      <th>1993Q3</th>\n",
       "      <td>1437.510369</td>\n",
       "    </tr>\n",
       "    <tr>\n",
       "      <th>1993Q4</th>\n",
       "      <td>1674.149017</td>\n",
       "    </tr>\n",
       "    <tr>\n",
       "      <th>1994Q1</th>\n",
       "      <td>1734.871971</td>\n",
       "    </tr>\n",
       "    <tr>\n",
       "      <th>1994Q2</th>\n",
       "      <td>1816.559724</td>\n",
       "    </tr>\n",
       "    <tr>\n",
       "      <th>1994Q3</th>\n",
       "      <td>1900.595306</td>\n",
       "    </tr>\n",
       "    <tr>\n",
       "      <th>1994Q4</th>\n",
       "      <td>1942.466814</td>\n",
       "    </tr>\n",
       "    <tr>\n",
       "      <th>1995Q1</th>\n",
       "      <td>1995.806976</td>\n",
       "    </tr>\n",
       "    <tr>\n",
       "      <th>1995Q2</th>\n",
       "      <td>2155.078445</td>\n",
       "    </tr>\n",
       "    <tr>\n",
       "      <th>1995Q3</th>\n",
       "      <td>2330.470020</td>\n",
       "    </tr>\n",
       "    <tr>\n",
       "      <th>1995Q4</th>\n",
       "      <td>2481.201498</td>\n",
       "    </tr>\n",
       "    <tr>\n",
       "      <th>1996Q1</th>\n",
       "      <td>2681.064783</td>\n",
       "    </tr>\n",
       "    <tr>\n",
       "      <th>1996Q2</th>\n",
       "      <td>3002.525689</td>\n",
       "    </tr>\n",
       "    <tr>\n",
       "      <th>1996Q3</th>\n",
       "      <td>3288.053671</td>\n",
       "    </tr>\n",
       "    <tr>\n",
       "      <th>1996Q4</th>\n",
       "      <td>3378.031503</td>\n",
       "    </tr>\n",
       "    <tr>\n",
       "      <th>1997Q1</th>\n",
       "      <td>3398.487732</td>\n",
       "    </tr>\n",
       "    <tr>\n",
       "      <th>1997Q2</th>\n",
       "      <td>3406.144303</td>\n",
       "    </tr>\n",
       "    <tr>\n",
       "      <th>...</th>\n",
       "      <td>...</td>\n",
       "    </tr>\n",
       "    <tr>\n",
       "      <th>2016Q3</th>\n",
       "      <td>4751.316369</td>\n",
       "    </tr>\n",
       "    <tr>\n",
       "      <th>2016Q4</th>\n",
       "      <td>4731.384558</td>\n",
       "    </tr>\n",
       "    <tr>\n",
       "      <th>2017Q1</th>\n",
       "      <td>4730.122017</td>\n",
       "    </tr>\n",
       "    <tr>\n",
       "      <th>2017Q2</th>\n",
       "      <td>4756.796605</td>\n",
       "    </tr>\n",
       "    <tr>\n",
       "      <th>2017Q3</th>\n",
       "      <td>4736.022829</td>\n",
       "    </tr>\n",
       "    <tr>\n",
       "      <th>2017Q4</th>\n",
       "      <td>4737.925176</td>\n",
       "    </tr>\n",
       "    <tr>\n",
       "      <th>2018Q1</th>\n",
       "      <td>4806.346918</td>\n",
       "    </tr>\n",
       "    <tr>\n",
       "      <th>2018Q2</th>\n",
       "      <td>4698.161881</td>\n",
       "    </tr>\n",
       "    <tr>\n",
       "      <th>2018Q3</th>\n",
       "      <td>4645.669942</td>\n",
       "    </tr>\n",
       "    <tr>\n",
       "      <th>2018Q4</th>\n",
       "      <td>4742.574425</td>\n",
       "    </tr>\n",
       "    <tr>\n",
       "      <th>2019Q1</th>\n",
       "      <td>4981.666650</td>\n",
       "    </tr>\n",
       "    <tr>\n",
       "      <th>2019Q2</th>\n",
       "      <td>5286.031477</td>\n",
       "    </tr>\n",
       "    <tr>\n",
       "      <th>2019Q3</th>\n",
       "      <td>5480.744031</td>\n",
       "    </tr>\n",
       "    <tr>\n",
       "      <th>2019Q4</th>\n",
       "      <td>5550.930722</td>\n",
       "    </tr>\n",
       "    <tr>\n",
       "      <th>2020Q1</th>\n",
       "      <td>5591.427222</td>\n",
       "    </tr>\n",
       "    <tr>\n",
       "      <th>2020Q2</th>\n",
       "      <td>5616.243621</td>\n",
       "    </tr>\n",
       "    <tr>\n",
       "      <th>2020Q3</th>\n",
       "      <td>5634.969814</td>\n",
       "    </tr>\n",
       "    <tr>\n",
       "      <th>2020Q4</th>\n",
       "      <td>5644.738977</td>\n",
       "    </tr>\n",
       "    <tr>\n",
       "      <th>2021Q1</th>\n",
       "      <td>5640.364538</td>\n",
       "    </tr>\n",
       "    <tr>\n",
       "      <th>2021Q2</th>\n",
       "      <td>5614.730631</td>\n",
       "    </tr>\n",
       "    <tr>\n",
       "      <th>2021Q3</th>\n",
       "      <td>5568.883140</td>\n",
       "    </tr>\n",
       "    <tr>\n",
       "      <th>2021Q4</th>\n",
       "      <td>5514.886208</td>\n",
       "    </tr>\n",
       "    <tr>\n",
       "      <th>2022Q1</th>\n",
       "      <td>5465.541381</td>\n",
       "    </tr>\n",
       "    <tr>\n",
       "      <th>2022Q2</th>\n",
       "      <td>5429.783474</td>\n",
       "    </tr>\n",
       "    <tr>\n",
       "      <th>2022Q3</th>\n",
       "      <td>5412.888419</td>\n",
       "    </tr>\n",
       "    <tr>\n",
       "      <th>2022Q4</th>\n",
       "      <td>5415.504460</td>\n",
       "    </tr>\n",
       "    <tr>\n",
       "      <th>2023Q1</th>\n",
       "      <td>5432.195409</td>\n",
       "    </tr>\n",
       "    <tr>\n",
       "      <th>2023Q2</th>\n",
       "      <td>5452.531469</td>\n",
       "    </tr>\n",
       "    <tr>\n",
       "      <th>2023Q3</th>\n",
       "      <td>5466.748590</td>\n",
       "    </tr>\n",
       "    <tr>\n",
       "      <th>2023Q4</th>\n",
       "      <td>5471.617963</td>\n",
       "    </tr>\n",
       "  </tbody>\n",
       "</table>\n",
       "<p>136 rows × 1 columns</p>\n",
       "</div>"
      ],
      "text/plain": [
       "         avg_price_per_sqm\n",
       "quarter                   \n",
       "1990Q1          788.179873\n",
       "1990Q2          820.321126\n",
       "1990Q3          829.291975\n",
       "1990Q4          826.855877\n",
       "1991Q1          846.985186\n",
       "1991Q2          845.817500\n",
       "1991Q3          869.145457\n",
       "1991Q4          861.246788\n",
       "1992Q1          874.301058\n",
       "1992Q2          904.174861\n",
       "1992Q3          948.503364\n",
       "1992Q4          951.923487\n",
       "1993Q1          989.776569\n",
       "1993Q2         1158.481801\n",
       "1993Q3         1437.510369\n",
       "1993Q4         1674.149017\n",
       "1994Q1         1734.871971\n",
       "1994Q2         1816.559724\n",
       "1994Q3         1900.595306\n",
       "1994Q4         1942.466814\n",
       "1995Q1         1995.806976\n",
       "1995Q2         2155.078445\n",
       "1995Q3         2330.470020\n",
       "1995Q4         2481.201498\n",
       "1996Q1         2681.064783\n",
       "1996Q2         3002.525689\n",
       "1996Q3         3288.053671\n",
       "1996Q4         3378.031503\n",
       "1997Q1         3398.487732\n",
       "1997Q2         3406.144303\n",
       "...                    ...\n",
       "2016Q3         4751.316369\n",
       "2016Q4         4731.384558\n",
       "2017Q1         4730.122017\n",
       "2017Q2         4756.796605\n",
       "2017Q3         4736.022829\n",
       "2017Q4         4737.925176\n",
       "2018Q1         4806.346918\n",
       "2018Q2         4698.161881\n",
       "2018Q3         4645.669942\n",
       "2018Q4         4742.574425\n",
       "2019Q1         4981.666650\n",
       "2019Q2         5286.031477\n",
       "2019Q3         5480.744031\n",
       "2019Q4         5550.930722\n",
       "2020Q1         5591.427222\n",
       "2020Q2         5616.243621\n",
       "2020Q3         5634.969814\n",
       "2020Q4         5644.738977\n",
       "2021Q1         5640.364538\n",
       "2021Q2         5614.730631\n",
       "2021Q3         5568.883140\n",
       "2021Q4         5514.886208\n",
       "2022Q1         5465.541381\n",
       "2022Q2         5429.783474\n",
       "2022Q3         5412.888419\n",
       "2022Q4         5415.504460\n",
       "2023Q1         5432.195409\n",
       "2023Q2         5452.531469\n",
       "2023Q3         5466.748590\n",
       "2023Q4         5471.617963\n",
       "\n",
       "[136 rows x 1 columns]"
      ]
     },
     "execution_count": 58,
     "metadata": {},
     "output_type": "execute_result"
    }
   ],
   "source": [
    "df_comb = pd.concat([\n",
    "    df_east_ts,\n",
    "    df_future\n",
    "])\n",
    "\n",
    "df_comb"
   ]
  },
  {
   "cell_type": "code",
   "execution_count": 111,
   "metadata": {},
   "outputs": [
    {
     "data": {
      "image/png": "[encoded data removed]",
      "text/plain": [
       "<Figure size 1152x576 with 1 Axes>"
      ]
     },
     "metadata": {
      "needs_background": "light"
     },
     "output_type": "display_data"
    }
   ],
   "source": [
    "plot_price_against_time(df_comb)"
   ]
  },
  {
   "cell_type": "code",
   "execution_count": 61,
   "metadata": {},
   "outputs": [],
   "source": [
    "pickle.dump(scaler, open('./output/scaler_east.pk', 'wb'))\n",
    "pickle.dump(model_best, open('./output/model_east.pk', 'wb'))\n",
    "pickle.dump(pred_future, open('./output/pred_east.pk', 'wb'))"
   ]
  },
  {
   "cell_type": "markdown",
   "metadata": {},
   "source": [
    "### Repeat train-and-predict sequence for the other datasets\n",
    "\n",
    "Utilise external helper class for brevity."
   ]
  },
  {
   "cell_type": "code",
   "execution_count": 34,
   "metadata": {},
   "outputs": [],
   "source": [
    "# import helper class\n",
    "from scripts import helpers"
   ]
  },
  {
   "cell_type": "code",
   "execution_count": 35,
   "metadata": {},
   "outputs": [
    {
     "data": {
      "text/plain": [
       "<module 'scripts.helpers' from 'C:\\\\Users\\\\Ruibin\\\\Documents\\\\Machine Learning\\\\MLDDS Course\\\\notebooks\\\\project\\\\scripts\\\\helpers.py'>"
      ]
     },
     "execution_count": 35,
     "metadata": {},
     "output_type": "execute_result"
    }
   ],
   "source": [
    "# for refreshing of edited packages\n",
    "import importlib\n",
    "importlib.reload(helpers)"
   ]
  },
  {
   "cell_type": "code",
   "execution_count": 36,
   "metadata": {},
   "outputs": [],
   "source": [
    "scaler_north, model_north, df_north_reconstructed, last_value = helpers.train(df_north_ts)\n",
    "pred_north = helpers.forecast(scaler_north, model_north, last_value)\n",
    "\n",
    "pickle.dump(scaler_north, open('./output/scaler_north.pk', 'wb'))\n",
    "pickle.dump(model_north, open('./output/model_north.pk', 'wb'))\n",
    "pickle.dump(pred_north, open('./output/pred_north.pk', 'wb'))"
   ]
  },
  {
   "cell_type": "code",
   "execution_count": 37,
   "metadata": {},
   "outputs": [],
   "source": [
    "scaler_farnorth, model_farnorth, df_farnorth_reconstructed, last_value = helpers.train(df_farnorth_ts)\n",
    "pred_farnorth = helpers.forecast(scaler_farnorth, model_farnorth, last_value)\n",
    "\n",
    "pickle.dump(scaler_farnorth, open('./output/scaler_farnorth.pk', 'wb'))\n",
    "pickle.dump(model_farnorth, open('./output/model_farnorth.pk', 'wb'))\n",
    "pickle.dump(pred_farnorth, open('./output/pred_farnorth.pk', 'wb'))"
   ]
  },
  {
   "cell_type": "code",
   "execution_count": 38,
   "metadata": {},
   "outputs": [],
   "source": [
    "scaler_northeast, model_northeast, df_northeast_reconstructed, last_value = helpers.train(df_northeast_ts)\n",
    "pred_northeast = helpers.forecast(scaler_northeast, model_northeast, last_value)\n",
    "\n",
    "pickle.dump(scaler_northeast, open('./output/scaler_northeast.pk', 'wb'))\n",
    "pickle.dump(model_northeast, open('./output/model_northeast.pk', 'wb'))\n",
    "pickle.dump(pred_northeast, open('./output/pred_northeast.pk', 'wb'))"
   ]
  },
  {
   "cell_type": "code",
   "execution_count": 39,
   "metadata": {},
   "outputs": [],
   "source": [
    "scaler_west, model_west, df_west_reconstructed, last_value = helpers.train(df_west_ts)\n",
    "pred_west = helpers.forecast(scaler_west, model_west, last_value)\n",
    "\n",
    "pickle.dump(scaler_west, open('./output/scaler_west.pk', 'wb'))\n",
    "pickle.dump(model_west, open('./output/model_west.pk', 'wb'))\n",
    "pickle.dump(pred_west, open('./output/pred_west.pk', 'wb'))"
   ]
  },
  {
   "cell_type": "code",
   "execution_count": 40,
   "metadata": {},
   "outputs": [],
   "source": [
    "scaler_farwest, model_farwest, df_farwest_reconstructed, last_value = helpers.train(df_farwest_ts)\n",
    "pred_farwest = helpers.forecast(scaler_farwest, model_farwest, last_value)\n",
    "\n",
    "pickle.dump(scaler_farwest, open('./output/scaler_farwest.pk', 'wb'))\n",
    "pickle.dump(model_farwest, open('./output/model_farwest.pk', 'wb'))\n",
    "pickle.dump(pred_farwest, open('./output/pred_farwest.pk', 'wb'))"
   ]
  },
  {
   "cell_type": "markdown",
   "metadata": {},
   "source": [
    "## Final Analysis and Conclusion\n",
    "\n",
    "By examining the future predicted trends, we can make a conclusion on the region in Singapore where the largest increase in housing prices will be observed in the next 5 years."
   ]
  },
  {
   "cell_type": "markdown",
   "metadata": {},
   "source": [
    "#### North region"
   ]
  },
  {
   "cell_type": "code",
   "execution_count": 42,
   "metadata": {},
   "outputs": [
    {
     "data": {
      "image/png": "[encoded data removed]",
      "text/plain": [
       "<Figure size 1152x576 with 1 Axes>"
      ]
     },
     "metadata": {
      "needs_background": "light"
     },
     "output_type": "display_data"
    }
   ],
   "source": [
    "pred_north = pickle.load(open('./output/pred_north.pk', 'rb'))\n",
    "avg_pred_price_pct_change_north = helpers.plot_present_with_forecast(df_north_ts, pred_north)"
   ]
  },
  {
   "cell_type": "markdown",
   "metadata": {},
   "source": [
    "#### Far North region"
   ]
  },
  {
   "cell_type": "code",
   "execution_count": 43,
   "metadata": {},
   "outputs": [
    {
     "data": {
      "image/png": "[encoded data removed]",
      "text/plain": [
       "<Figure size 1152x576 with 1 Axes>"
      ]
     },
     "metadata": {
      "needs_background": "light"
     },
     "output_type": "display_data"
    }
   ],
   "source": [
    "pred_farnorth = pickle.load(open('./output/pred_farnorth.pk', 'rb'))\n",
    "avg_pred_price_pct_change_farnorth = helpers.plot_present_with_forecast(df_farnorth_ts, pred_farnorth)"
   ]
  },
  {
   "cell_type": "markdown",
   "metadata": {},
   "source": [
    "#### North East region"
   ]
  },
  {
   "cell_type": "code",
   "execution_count": 83,
   "metadata": {},
   "outputs": [
    {
     "data": {
      "image/png": "[encoded data removed]",
      "text/plain": [
       "<Figure size 1152x576 with 1 Axes>"
      ]
     },
     "metadata": {
      "needs_background": "light"
     },
     "output_type": "display_data"
    }
   ],
   "source": [
    "pred_northeast = pickle.load(open('./output/pred_northeast.pk', 'rb'))\n",
    "avg_pred_price_pct_change_northeast = helpers.plot_present_with_forecast(df_northeast_ts, pred_northeast)"
   ]
  },
  {
   "cell_type": "markdown",
   "metadata": {},
   "source": [
    "#### East region"
   ]
  },
  {
   "cell_type": "code",
   "execution_count": 45,
   "metadata": {},
   "outputs": [
    {
     "data": {
      "image/png": "[encoded data removed]",
      "text/plain": [
       "<Figure size 1152x576 with 1 Axes>"
      ]
     },
     "metadata": {
      "needs_background": "light"
     },
     "output_type": "display_data"
    }
   ],
   "source": [
    "pred_east = pickle.load(open('./output/pred_east.pk', 'rb'))\n",
    "avg_pred_price_pct_change_east = helpers.plot_present_with_forecast(df_east_ts, pred_east)"
   ]
  },
  {
   "cell_type": "markdown",
   "metadata": {},
   "source": [
    "#### West region"
   ]
  },
  {
   "cell_type": "code",
   "execution_count": 47,
   "metadata": {},
   "outputs": [
    {
     "data": {
      "image/png": "[encoded data removed]",
      "text/plain": [
       "<Figure size 1152x576 with 1 Axes>"
      ]
     },
     "metadata": {
      "needs_background": "light"
     },
     "output_type": "display_data"
    }
   ],
   "source": [
    "pred_west = pickle.load(open('./output/pred_west.pk', 'rb'))\n",
    "avg_pred_price_pct_change_west = helpers.plot_present_with_forecast(df_west_ts, pred_west)"
   ]
  },
  {
   "cell_type": "markdown",
   "metadata": {},
   "source": [
    "#### Far West region"
   ]
  },
  {
   "cell_type": "code",
   "execution_count": 48,
   "metadata": {},
   "outputs": [
    {
     "data": {
      "image/png": "[encoded data removed]",
      "text/plain": [
       "<Figure size 1152x576 with 1 Axes>"
      ]
     },
     "metadata": {
      "needs_background": "light"
     },
     "output_type": "display_data"
    }
   ],
   "source": [
    "pred_farwest = pickle.load(open('./output/pred_farwest.pk', 'rb'))\n",
    "avg_pred_price_pct_change_farwest = helpers.plot_present_with_forecast(df_farwest_ts, pred_farwest)"
   ]
  },
  {
   "cell_type": "markdown",
   "metadata": {},
   "source": [
    "#### Summary"
   ]
  },
  {
   "cell_type": "markdown",
   "metadata": {},
   "source": [
    "Examine the average predicted percentage change in price for the different regions and then select the region with the highest value."
   ]
  },
  {
   "cell_type": "code",
   "execution_count": 84,
   "metadata": {},
   "outputs": [],
   "source": [
    "df_summary = pd.DataFrame({\n",
    "    'region': \n",
    "         ['north', 'farnorth', 'northeast', 'east', 'west', 'farwest'],\n",
    "    'avg_price_pct_change': [\n",
    "            avg_pred_price_pct_change_north,\n",
    "            avg_pred_price_pct_change_farnorth,\n",
    "            avg_pred_price_pct_change_northeast,\n",
    "            avg_pred_price_pct_change_east,\n",
    "            avg_pred_price_pct_change_west,\n",
    "            avg_pred_price_pct_change_farwest,\n",
    "        ]\n",
    "    }\n",
    ")"
   ]
  },
  {
   "cell_type": "code",
   "execution_count": 85,
   "metadata": {},
   "outputs": [
    {
     "data": {
      "text/html": [
       "<div>\n",
       "<style scoped>\n",
       "    .dataframe tbody tr th:only-of-type {\n",
       "        vertical-align: middle;\n",
       "    }\n",
       "\n",
       "    .dataframe tbody tr th {\n",
       "        vertical-align: top;\n",
       "    }\n",
       "\n",
       "    .dataframe thead th {\n",
       "        text-align: right;\n",
       "    }\n",
       "</style>\n",
       "<table border=\"1\" class=\"dataframe\">\n",
       "  <thead>\n",
       "    <tr style=\"text-align: right;\">\n",
       "      <th></th>\n",
       "      <th>region</th>\n",
       "      <th>avg_price_pct_change</th>\n",
       "    </tr>\n",
       "  </thead>\n",
       "  <tbody>\n",
       "    <tr>\n",
       "      <th>2</th>\n",
       "      <td>northeast</td>\n",
       "      <td>0.011320</td>\n",
       "    </tr>\n",
       "    <tr>\n",
       "      <th>4</th>\n",
       "      <td>west</td>\n",
       "      <td>0.009916</td>\n",
       "    </tr>\n",
       "    <tr>\n",
       "      <th>3</th>\n",
       "      <td>east</td>\n",
       "      <td>0.005082</td>\n",
       "    </tr>\n",
       "    <tr>\n",
       "      <th>0</th>\n",
       "      <td>north</td>\n",
       "      <td>0.003137</td>\n",
       "    </tr>\n",
       "    <tr>\n",
       "      <th>5</th>\n",
       "      <td>farwest</td>\n",
       "      <td>0.002042</td>\n",
       "    </tr>\n",
       "    <tr>\n",
       "      <th>1</th>\n",
       "      <td>farnorth</td>\n",
       "      <td>0.001878</td>\n",
       "    </tr>\n",
       "  </tbody>\n",
       "</table>\n",
       "</div>"
      ],
      "text/plain": [
       "      region  avg_price_pct_change\n",
       "2  northeast              0.011320\n",
       "4       west              0.009916\n",
       "3       east              0.005082\n",
       "0      north              0.003137\n",
       "5    farwest              0.002042\n",
       "1   farnorth              0.001878"
      ]
     },
     "execution_count": 85,
     "metadata": {},
     "output_type": "execute_result"
    }
   ],
   "source": [
    "df_summary.sort_values(['avg_price_pct_change'], ascending=False, inplace=True)\n",
    "\n",
    "df_summary"
   ]
  },
  {
   "cell_type": "markdown",
   "metadata": {},
   "source": [
    "Seems like the <b>North East region</b> is the most profitable area to purchase a HDB property in (although based on the graph, it seems more like a badly trained neural network...)"
   ]
  },
  {
   "cell_type": "markdown",
   "metadata": {},
   "source": [
    "## Section 7: Observations and Analysis"
   ]
  },
  {
   "cell_type": "markdown",
   "metadata": {},
   "source": [
    "Possible further improvements:\n",
    "- Further tweaking of the neural network\n",
    "    - Utilising callbacks (early stopping)\n",
    "    - Optimising the choice of hyperparameters (batch size, number of neurons, number of epochs)"
   ]
  }
 ],
 "metadata": {
  "kernelspec": {
   "display_name": "Python 3",
   "language": "python",
   "name": "python3"
  },
  "language_info": {
   "codemirror_mode": {
    "name": "ipython",
    "version": 3
   },
   "file_extension": ".py",
   "mimetype": "text/x-python",
   "name": "python",
   "nbconvert_exporter": "python",
   "pygments_lexer": "ipython3",
   "version": "3.6.7"
  }
 },
 "nbformat": 4,
 "nbformat_minor": 2
}
