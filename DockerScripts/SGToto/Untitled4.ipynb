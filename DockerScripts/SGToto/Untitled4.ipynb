{
 "cells": [
  {
   "cell_type": "code",
   "execution_count": 9,
   "metadata": {},
   "outputs": [],
   "source": [
    "#Control X-Axis Ticks\n",
    "\n",
    "#ax.set_xticks(ax.get_xticks()[::freq])\n",
    "import pandas as pd\n",
    "import matplotlib.pyplot as plt\n",
    "import seaborn as sns\n",
    "from sklearn.preprocessing import LabelEncoder\n",
    "\n",
    "%matplotlib inline"
   ]
  },
  {
   "cell_type": "code",
   "execution_count": null,
   "metadata": {},
   "outputs": [],
   "source": []
  },
  {
   "cell_type": "code",
   "execution_count": 47,
   "metadata": {},
   "outputs": [
    {
     "name": "stdout",
     "output_type": "stream",
     "text": [
      "    mpg  cylinders  displacement horsepower  weight  acceleration  model year  \\\n",
      "0  18.0          8         307.0      130.0  3504.0          12.0          70   \n",
      "1  15.0          8         350.0      165.0  3693.0          11.5          70   \n",
      "2  18.0          8         318.0      150.0  3436.0          11.0          70   \n",
      "3  16.0          8         304.0      150.0  3433.0          12.0          70   \n",
      "4  17.0          8         302.0      140.0  3449.0          10.5          70   \n",
      "\n",
      "   origin  \n",
      "0       1  \n",
      "1       1  \n",
      "2       1  \n",
      "3       1  \n",
      "4       1  \n",
      "<class 'pandas.core.frame.DataFrame'>\n",
      "RangeIndex: 398 entries, 0 to 397\n",
      "Data columns (total 8 columns):\n",
      "mpg             398 non-null float64\n",
      "cylinders       398 non-null int64\n",
      "displacement    398 non-null float64\n",
      "horsepower      398 non-null object\n",
      "weight          398 non-null float64\n",
      "acceleration    398 non-null float64\n",
      "model year      398 non-null int64\n",
      "origin          398 non-null int64\n",
      "dtypes: float64(4), int64(3), object(1)\n",
      "memory usage: 25.0+ KB\n"
     ]
    }
   ],
   "source": [
    "colnames = ['mpg', 'cylinders', 'displacement', 'horsepower', 'weight', 'acceleration', 'model year', 'origin', 'car name']\n",
    "df = pd.read_csv('mpg.csv', header=None, sep='\\s+', names=colnames)  #, na_values=['.', '?']\n",
    "\n",
    "df = df.drop('car name', axis=1)\n",
    "print(df.head())\n",
    "\n",
    "#Data Check\n",
    "df.info()\n",
    "\n",
    "\n",
    "#df.columns = ['A','B','C','D','E','F']\n"
   ]
  },
  {
   "cell_type": "code",
   "execution_count": 48,
   "metadata": {},
   "outputs": [
    {
     "data": {
      "text/plain": [
       "array(['130.0', '165.0', '150.0', '140.0', '198.0', '220.0', '215.0',\n",
       "       '225.0', '190.0', '170.0', '160.0', '95.00', '97.00', '85.00',\n",
       "       '88.00', '46.00', '87.00', '90.00', '113.0', '200.0', '210.0',\n",
       "       '193.0', '?', '100.0', '105.0', '175.0', '153.0', '180.0', '110.0',\n",
       "       '72.00', '86.00', '70.00', '76.00', '65.00', '69.00', '60.00',\n",
       "       '80.00', '54.00', '208.0', '155.0', '112.0', '92.00', '145.0',\n",
       "       '137.0', '158.0', '167.0', '94.00', '107.0', '230.0', '49.00',\n",
       "       '75.00', '91.00', '122.0', '67.00', '83.00', '78.00', '52.00',\n",
       "       '61.00', '93.00', '148.0', '129.0', '96.00', '71.00', '98.00',\n",
       "       '115.0', '53.00', '81.00', '79.00', '120.0', '152.0', '102.0',\n",
       "       '108.0', '68.00', '58.00', '149.0', '89.00', '63.00', '48.00',\n",
       "       '66.00', '139.0', '103.0', '125.0', '133.0', '138.0', '135.0',\n",
       "       '142.0', '77.00', '62.00', '132.0', '84.00', '64.00', '74.00',\n",
       "       '116.0', '82.00'], dtype=object)"
      ]
     },
     "execution_count": 48,
     "metadata": {},
     "output_type": "execute_result"
    }
   ],
   "source": [
    "df['horsepower'].unique()"
   ]
  },
  {
   "cell_type": "code",
   "execution_count": 51,
   "metadata": {},
   "outputs": [
    {
     "name": "stdout",
     "output_type": "stream",
     "text": [
      "0      130.0\n",
      "1      165.0\n",
      "2      150.0\n",
      "3      150.0\n",
      "4      140.0\n",
      "5      198.0\n",
      "6      220.0\n",
      "7      215.0\n",
      "8      225.0\n",
      "9      190.0\n",
      "10     170.0\n",
      "11     160.0\n",
      "12     150.0\n",
      "13     225.0\n",
      "14      95.0\n",
      "15      95.0\n",
      "16      97.0\n",
      "17      85.0\n",
      "18      88.0\n",
      "19      46.0\n",
      "20      87.0\n",
      "21      90.0\n",
      "22      95.0\n",
      "23     113.0\n",
      "24      90.0\n",
      "25     215.0\n",
      "26     200.0\n",
      "27     210.0\n",
      "28     193.0\n",
      "29      88.0\n",
      "       ...  \n",
      "368     88.0\n",
      "369     88.0\n",
      "370     85.0\n",
      "371     84.0\n",
      "372     90.0\n",
      "373     92.0\n",
      "374      NaN\n",
      "375     74.0\n",
      "376     68.0\n",
      "377     68.0\n",
      "378     63.0\n",
      "379     70.0\n",
      "380     88.0\n",
      "381     75.0\n",
      "382     70.0\n",
      "383     67.0\n",
      "384     67.0\n",
      "385     67.0\n",
      "386    110.0\n",
      "387     85.0\n",
      "388     92.0\n",
      "389    112.0\n",
      "390     96.0\n",
      "391     84.0\n",
      "392     90.0\n",
      "393     86.0\n",
      "394     52.0\n",
      "395     84.0\n",
      "396     79.0\n",
      "397     82.0\n",
      "Name: horsepower, Length: 398, dtype: float64\n"
     ]
    },
    {
     "data": {
      "text/plain": [
       "mpg               25\n",
       "cylinders          4\n",
       "displacement      98\n",
       "horsepower         ?\n",
       "weight          2046\n",
       "acceleration      19\n",
       "model year        71\n",
       "origin             1\n",
       "Name: 32, dtype: object"
      ]
     },
     "execution_count": 51,
     "metadata": {},
     "output_type": "execute_result"
    }
   ],
   "source": [
    "print(pd.to_numeric(df['horsepower'], errors='coerce'))\n",
    "df[df.isna().any(axis=1)]\n",
    "df.loc[32,]"
   ]
  }
 ],
 "metadata": {
  "kernelspec": {
   "display_name": "Python 3",
   "language": "python",
   "name": "python3"
  },
  "language_info": {
   "codemirror_mode": {
    "name": "ipython",
    "version": 3
   },
   "file_extension": ".py",
   "mimetype": "text/x-python",
   "name": "python",
   "nbconvert_exporter": "python",
   "pygments_lexer": "ipython3",
   "version": "3.6.6"
  }
 },
 "nbformat": 4,
 "nbformat_minor": 2
}
