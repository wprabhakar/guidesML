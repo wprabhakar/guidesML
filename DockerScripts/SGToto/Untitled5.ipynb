{
 "cells": [
  {
   "cell_type": "code",
   "execution_count": null,
   "metadata": {},
   "outputs": [],
   "source": [
    "#Explore PCA with high dimensional dataset\n",
    "#\n",
    "#Label Faces in the Wild"
   ]
  },
  {
   "cell_type": "code",
   "execution_count": null,
   "metadata": {},
   "outputs": [],
   "source": []
  },
  {
   "cell_type": "code",
   "execution_count": 1,
   "metadata": {},
   "outputs": [
    {
     "name": "stderr",
     "output_type": "stream",
     "text": [
      "Downloading LFW metadata: https://ndownloader.figshare.com/files/5976012\n",
      "Downloading LFW metadata: https://ndownloader.figshare.com/files/5976009\n",
      "Downloading LFW metadata: https://ndownloader.figshare.com/files/5976006\n",
      "Downloading LFW data (~200MB): https://ndownloader.figshare.com/files/5976015\n"
     ]
    }
   ],
   "source": [
    "import matplotlib.pyplot as plt\n",
    "%matplotlib inline\n",
    "\n",
    "from sklearn.datasets import fetch_lfw_people\n",
    "lfw = fetch_lfw_people(min_faces_per_person=70, resize=0.4)"
   ]
  },
  {
   "cell_type": "code",
   "execution_count": 2,
   "metadata": {},
   "outputs": [
    {
     "data": {
      "text/plain": [
       "array(['Ariel Sharon', 'Colin Powell', 'Donald Rumsfeld', 'George W Bush',\n",
       "       'Gerhard Schroeder', 'Hugo Chavez', 'Tony Blair'], dtype='<U17')"
      ]
     },
     "execution_count": 2,
     "metadata": {},
     "output_type": "execute_result"
    }
   ],
   "source": [
    "lfw.target_names"
   ]
  },
  {
   "cell_type": "code",
   "execution_count": 6,
   "metadata": {},
   "outputs": [
    {
     "data": {
      "text/plain": [
       "array([[[254.      , 254.      , 251.66667 , ...,  65.333336,\n",
       "          50.666668,  40.333332],\n",
       "        [253.33333 , 251.33333 , 247.33333 , ...,  66.666664,\n",
       "          52.      ,  42.666668],\n",
       "        [240.66667 , 231.66667 , 211.66667 , ...,  62.      ,\n",
       "          49.      ,  42.      ],\n",
       "        ...,\n",
       "        [ 74.333336,  54.      ,  31.666666, ...,  97.666664,\n",
       "          93.      ,  90.      ],\n",
       "        [ 65.333336,  47.      ,  30.333334, ...,  91.666664,\n",
       "          92.      ,  86.333336],\n",
       "        [ 59.333332,  44.333332,  32.333332, ...,  87.333336,\n",
       "          88.666664,  86.666664]],\n",
       "\n",
       "       [[ 39.666668,  50.333332,  47.      , ...,  61.333332,\n",
       "          51.      ,  38.666668],\n",
       "        [ 47.666668,  63.      ,  65.333336, ...,  57.666668,\n",
       "          55.      ,  44.666668],\n",
       "        [ 55.333332,  76.666664,  86.333336, ...,  71.      ,\n",
       "          48.333332,  43.666668],\n",
       "        ...,\n",
       "        [ 73.666664,  75.666664,  75.333336, ..., 125.666664,\n",
       "         119.666664, 115.333336],\n",
       "        [ 75.333336,  76.333336,  77.      , ..., 124.      ,\n",
       "         116.      , 116.333336],\n",
       "        [ 77.333336,  76.333336,  75.666664, ..., 117.666664,\n",
       "         115.      , 133.66667 ]],\n",
       "\n",
       "       [[ 89.333336, 104.      , 126.      , ..., 150.      ,\n",
       "         150.33333 , 149.      ],\n",
       "        [100.      , 128.      , 143.66667 , ..., 159.33333 ,\n",
       "         151.33333 , 147.33333 ],\n",
       "        [123.666664, 142.66667 , 146.66667 , ..., 161.      ,\n",
       "         152.66667 , 147.33333 ],\n",
       "        ...,\n",
       "        [ 75.666664,  73.666664,  74.      , ..., 123.      ,\n",
       "         168.66667 , 179.      ],\n",
       "        [ 73.      ,  68.666664,  69.333336, ..., 150.      ,\n",
       "         182.      , 181.33333 ],\n",
       "        [ 78.666664,  66.      ,  65.666664, ..., 175.33333 ,\n",
       "         183.33333 , 183.      ]],\n",
       "\n",
       "       ...,\n",
       "\n",
       "       [[ 86.      ,  80.333336,  74.666664, ...,  35.      ,\n",
       "          35.      ,  39.333332],\n",
       "        [ 84.666664,  75.      ,  79.666664, ...,  37.      ,\n",
       "          35.      ,  37.      ],\n",
       "        [ 71.666664,  65.666664,  94.666664, ...,  41.333332,\n",
       "          37.      ,  36.666668],\n",
       "        ...,\n",
       "        [ 92.      ,  88.333336,  87.333336, ...,  66.666664,\n",
       "          79.333336,  94.      ],\n",
       "        [ 86.333336,  86.      ,  88.666664, ...,  46.666668,\n",
       "          58.666668,  64.333336],\n",
       "        [ 77.333336,  78.666664,  81.333336, ...,  44.      ,\n",
       "          49.666668,  44.666668]],\n",
       "\n",
       "       [[ 50.333332,  65.666664,  88.      , ..., 159.      ,\n",
       "         158.66667 , 152.      ],\n",
       "        [ 59.666668,  83.      ,  99.333336, ..., 157.66667 ,\n",
       "         150.66667 , 149.66667 ],\n",
       "        [ 62.      ,  90.666664,  94.333336, ..., 157.33333 ,\n",
       "         145.      , 144.      ],\n",
       "        ...,\n",
       "        [ 59.666668,  60.666668,  62.      , ..., 151.66667 ,\n",
       "         166.66667 , 164.66667 ],\n",
       "        [ 60.333332,  61.333332,  63.      , ..., 187.33333 ,\n",
       "         176.33333 , 167.      ],\n",
       "        [ 61.333332,  61.333332,  62.333332, ..., 197.      ,\n",
       "         179.33333 , 166.33333 ]],\n",
       "\n",
       "       [[ 30.      ,  27.      ,  32.666668, ...,  89.666664,\n",
       "          53.333332,  46.666668],\n",
       "        [ 31.333334,  32.      ,  37.333332, ..., 104.      ,\n",
       "          56.333332,  42.666668],\n",
       "        [ 33.666668,  33.666668,  39.      , ..., 122.666664,\n",
       "          71.333336,  52.      ],\n",
       "        ...,\n",
       "        [ 45.666668,  44.      ,  43.333332, ...,  23.333334,\n",
       "          20.      ,  34.333332],\n",
       "        [ 42.333332,  42.      ,  44.333332, ...,  24.333334,\n",
       "          27.      ,  44.      ],\n",
       "        [ 45.666668,  49.333332,  51.333332, ...,  35.      ,\n",
       "          35.333332,  61.      ]]], dtype=float32)"
      ]
     },
     "execution_count": 6,
     "metadata": {},
     "output_type": "execute_result"
    }
   ],
   "source": [
    "lfw.images"
   ]
  },
  {
   "cell_type": "code",
   "execution_count": 11,
   "metadata": {},
   "outputs": [
    {
     "data": {
      "text/plain": [
       "<matplotlib.image.AxesImage at 0x1a16b356d8>"
      ]
     },
     "execution_count": 11,
     "metadata": {},
     "output_type": "execute_result"
    },
    {
     "data": {
      "image/png": "[encoded data removed]",
      "text/plain": [
       "<Figure size 432x288 with 1 Axes>"
      ]
     },
     "metadata": {
      "needs_background": "light"
     },
     "output_type": "display_data"
    }
   ],
   "source": [
    "plt.imshow(lfw.images[0], cmap='gray')"
   ]
  },
  {
   "cell_type": "code",
   "execution_count": null,
   "metadata": {},
   "outputs": [],
   "source": [
    "from sklearn.decomposition import PCA\n",
    "\n",
    "pca = PCA(n_components = 150)\n",
    "\n",
    "pca.fit_transform(lfw)"
   ]
  }
 ],
 "metadata": {
  "kernelspec": {
   "display_name": "Python 3",
   "language": "python",
   "name": "python3"
  },
  "language_info": {
   "codemirror_mode": {
    "name": "ipython",
    "version": 3
   },
   "file_extension": ".py",
   "mimetype": "text/x-python",
   "name": "python",
   "nbconvert_exporter": "python",
   "pygments_lexer": "ipython3",
   "version": "3.6.6"
  }
 },
 "nbformat": 4,
 "nbformat_minor": 2
}
