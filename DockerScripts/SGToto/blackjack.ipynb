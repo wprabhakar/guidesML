{
 "cells": [
  {
   "cell_type": "markdown",
   "metadata": {},
   "source": [
    "# Blackjack"
   ]
  },
  {
   "cell_type": "markdown",
   "metadata": {},
   "source": [
    "<img src='./images/blackjack.jpg' height=\"250\">"
   ]
  },
  {
   "cell_type": "markdown",
   "metadata": {},
   "source": [
    "Blackjack is a card game where the goal is to obtain cards that sum to as\n",
    "near as possible to 21 without going over.  They're playing against a fixed\n",
    "dealer.\n",
    "\n",
    "Face cards (Jack, Queen, King) have point value 10.\n",
    "Aces can either count as 11 or 1, and it's called 'usable' at 11.\n",
    "This game is placed with an infinite deck (or with replacement).\n",
    "The game starts with each (player and dealer) having one face up and one\n",
    "face down card.\n",
    "\n",
    "The player can request additional cards (hit=`1`) until they decide to stop\n",
    "(stick=`0`) or exceed 21 (bust).\n",
    "\n",
    "After the player sticks, the dealer reveals their facedown card, and draws\n",
    "until their sum is 17 or greater.  If the dealer goes bust the player wins.\n",
    "\n",
    "If neither player nor dealer busts, the outcome (win, lose, draw) is\n",
    "decided by whose sum is closer to 21.  The reward for winning is +1,\n",
    "drawing is 0, and losing is -1.\n",
    "\n",
    "The observation of a 3-tuple of: the players current sum,\n",
    "the dealer's one showing card (1-10 where 1 is ace),\n",
    "and whether or not the player holds a usable ace (0 or 1).\n"
   ]
  },
  {
   "cell_type": "markdown",
   "metadata": {},
   "source": [
    "# Import libraries"
   ]
  },
  {
   "cell_type": "code",
   "execution_count": null,
   "metadata": {},
   "outputs": [],
   "source": []
  },
  {
   "cell_type": "markdown",
   "metadata": {},
   "source": [
    "# Environment parameters"
   ]
  },
  {
   "cell_type": "markdown",
   "metadata": {},
   "source": [
    "## Action space"
   ]
  },
  {
   "cell_type": "code",
   "execution_count": null,
   "metadata": {},
   "outputs": [],
   "source": []
  },
  {
   "cell_type": "markdown",
   "metadata": {},
   "source": [
    "# Hyper parameters"
   ]
  },
  {
   "cell_type": "markdown",
   "metadata": {},
   "source": [
    "## Learning rate ($\\large\\alpha$)"
   ]
  },
  {
   "cell_type": "code",
   "execution_count": null,
   "metadata": {},
   "outputs": [],
   "source": []
  },
  {
   "cell_type": "markdown",
   "metadata": {},
   "source": [
    "## Discount ($\\large\\gamma$)"
   ]
  },
  {
   "cell_type": "code",
   "execution_count": null,
   "metadata": {},
   "outputs": [],
   "source": []
  },
  {
   "cell_type": "markdown",
   "metadata": {},
   "source": [
    "## Exploration ($\\large\\epsilon$)"
   ]
  },
  {
   "cell_type": "code",
   "execution_count": null,
   "metadata": {},
   "outputs": [],
   "source": []
  },
  {
   "cell_type": "markdown",
   "metadata": {},
   "source": [
    "# Episodes"
   ]
  },
  {
   "cell_type": "code",
   "execution_count": null,
   "metadata": {},
   "outputs": [],
   "source": []
  },
  {
   "cell_type": "markdown",
   "metadata": {},
   "source": [
    "## Epsilon decay rate\n",
    "Uniformly decay the $\\large\\epsilon$ by a factor of $\\large{\\frac{1}{episodes}}$ after every episode until $0.03$. \n",
    "\n",
    "We want to maintain a 3% exploration policy"
   ]
  },
  {
   "cell_type": "code",
   "execution_count": null,
   "metadata": {},
   "outputs": [],
   "source": []
  },
  {
   "cell_type": "markdown",
   "metadata": {},
   "source": [
    "# Helper functions"
   ]
  },
  {
   "cell_type": "markdown",
   "metadata": {},
   "source": [
    "## State normalizing helper function\n",
    "This function normalizes a state `(player_hand, dealer_card, usable_ace)` using min-max normalization\n",
    "* `player hand` - $\\large{\\frac{x - 2}{25}}$ \n",
    "* `dealer_card` - $\\large{\\frac{x - 1}{9}}$\n",
    "* `usable_ace` - $\\large 0$ if `False`, $\\large 1$ if `True`\n",
    "This function also adds a $\\large 1$ as the fourth feature. This is the intercept.\n",
    "\n",
    "The function returns a `1x4` matrix in the following form \n",
    "\n",
    "`(noramlized_player_hand, normalized_dealer_card, 0|1, 1)`"
   ]
  },
  {
   "cell_type": "code",
   "execution_count": null,
   "metadata": {},
   "outputs": [],
   "source": []
  },
  {
   "cell_type": "markdown",
   "metadata": {},
   "source": [
    "## Q-Value helper function\n",
    "$\\large{Q(s)}$ returns all the Q-values (matrix) for that state which is a `1x2` array\n",
    "\n",
    "$\\large{Q(s,a)}$ returns the Q-value (scalar) for the `(state, action)` pair"
   ]
  },
  {
   "cell_type": "code",
   "execution_count": null,
   "metadata": {},
   "outputs": [],
   "source": []
  },
  {
   "cell_type": "markdown",
   "metadata": {},
   "source": [
    "# Policy ($\\large\\pi$)\n",
    "An $\\large\n",
    "\\epsilon$-greed policy. The policy behaves greediy, viz. pick the best action, with a probability of $\\large{1 - \\epsilon}$.\n",
    "\n",
    "With a probability of $\\large\\epsilon$, the policy will randomly select one of the 2 actions `HIT` or `STICK`"
   ]
  },
  {
   "cell_type": "code",
   "execution_count": null,
   "metadata": {},
   "outputs": [],
   "source": []
  },
  {
   "cell_type": "markdown",
   "metadata": {},
   "source": [
    "# Statistics"
   ]
  },
  {
   "cell_type": "markdown",
   "metadata": {},
   "source": [
    "## Win counter"
   ]
  },
  {
   "cell_type": "code",
   "execution_count": null,
   "metadata": {},
   "outputs": [],
   "source": []
  },
  {
   "cell_type": "markdown",
   "metadata": {},
   "source": [
    "## Lose counter"
   ]
  },
  {
   "cell_type": "code",
   "execution_count": null,
   "metadata": {},
   "outputs": [],
   "source": []
  },
  {
   "cell_type": "markdown",
   "metadata": {},
   "source": [
    "## Number of lose-win per episode (array)"
   ]
  },
  {
   "cell_type": "code",
   "execution_count": null,
   "metadata": {},
   "outputs": [],
   "source": []
  },
  {
   "cell_type": "markdown",
   "metadata": {},
   "source": [
    "# Create Blackjack environment"
   ]
  },
  {
   "cell_type": "code",
   "execution_count": null,
   "metadata": {},
   "outputs": [],
   "source": []
  },
  {
   "cell_type": "markdown",
   "metadata": {},
   "source": [
    "# SARSA(0) - Approximation\n",
    "<img src=\"./images/fa_sarsa.png\">"
   ]
  },
  {
   "cell_type": "code",
   "execution_count": null,
   "metadata": {},
   "outputs": [],
   "source": []
  },
  {
   "cell_type": "markdown",
   "metadata": {},
   "source": [
    "## Print win-lose percentage"
   ]
  },
  {
   "cell_type": "code",
   "execution_count": null,
   "metadata": {},
   "outputs": [],
   "source": []
  }
 ],
 "metadata": {
  "kernelspec": {
   "display_name": "Python 3",
   "language": "python",
   "name": "python3"
  },
  "language_info": {
   "codemirror_mode": {
    "name": "ipython",
    "version": 3
   },
   "file_extension": ".py",
   "mimetype": "text/x-python",
   "name": "python",
   "nbconvert_exporter": "python",
   "pygments_lexer": "ipython3",
   "version": "3.7.1"
  }
 },
 "nbformat": 4,
 "nbformat_minor": 2
}
