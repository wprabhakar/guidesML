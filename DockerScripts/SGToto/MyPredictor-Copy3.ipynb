{
 "cells": [
  {
   "cell_type": "code",
   "execution_count": 1,
   "metadata": {},
   "outputs": [
    {
     "name": "stdout",
     "output_type": "stream",
     "text": [
      "Cores:  6\n"
     ]
    },
    {
     "name": "stderr",
     "output_type": "stream",
     "text": [
      "/opt/conda/lib/python3.6/importlib/_bootstrap.py:219: ImportWarning: can't resolve package from __spec__ or __package__, falling back on __name__ and __path__\n",
      "  return f(*args, **kwds)\n",
      "Using TensorFlow backend.\n",
      "/opt/conda/lib/python3.6/importlib/_bootstrap.py:219: ImportWarning: can't resolve package from __spec__ or __package__, falling back on __name__ and __path__\n",
      "  return f(*args, **kwds)\n",
      "/opt/conda/lib/python3.6/site-packages/tensorflow/python/util/tf_inspect.py:75: DeprecationWarning: inspect.getargspec() is deprecated, use inspect.signature() or inspect.getfullargspec()\n",
      "  return _inspect.getargspec(target)\n",
      "/opt/conda/lib/python3.6/site-packages/tensorflow/python/keras/backend.py:4900: ResourceWarning: unclosed file <_io.TextIOWrapper name='/home/jovyan/.keras/keras.json' mode='r' encoding='UTF-8'>\n",
      "  _config = json.load(open(_config_path))\n",
      "/opt/conda/lib/python3.6/importlib/_bootstrap.py:219: ImportWarning: can't resolve package from __spec__ or __package__, falling back on __name__ and __path__\n",
      "  return f(*args, **kwds)\n",
      "/opt/conda/lib/python3.6/importlib/_bootstrap.py:219: ImportWarning: can't resolve package from __spec__ or __package__, falling back on __name__ and __path__\n",
      "  return f(*args, **kwds)\n",
      "/opt/conda/lib/python3.6/importlib/_bootstrap.py:219: ImportWarning: can't resolve package from __spec__ or __package__, falling back on __name__ and __path__\n",
      "  return f(*args, **kwds)\n"
     ]
    },
    {
     "name": "stdout",
     "output_type": "stream",
     "text": [
      "Done.\n"
     ]
    }
   ],
   "source": [
    "#Predict smallest Number\n",
    "\n",
    "#!conda install -n mldds -c anaconda joblib\n",
    "import os\n",
    "import warnings\n",
    "warnings.filterwarnings('ignore')\n",
    "warnings.filterwarnings(action='once')\n",
    "\n",
    "import multiprocessing\n",
    "num_cores = multiprocessing.cpu_count()\n",
    "\n",
    "print(\"Cores: \", num_cores)\n",
    "\n",
    "import time\n",
    "import keras\n",
    "from sklearn.preprocessing import LabelEncoder, StandardScaler\n",
    "# import tensorflow as tf\n",
    "# config = tf.ConfigProto( device_count = {'GPU': 0 , 'CPU': num_cores} )\n",
    "# sess = tf.Session(config=config) \n",
    "# keras.backend.set_session(sess)\n",
    "\n",
    "os.environ[\"KERAS_BACKEND\"] = \"plaidml.keras.backend\"\n",
    "\n",
    "os.environ['TF_CPP_MIN_LOG_LEVEL'] = '3'\n",
    "\n",
    "from MyTotoResearchv4 import *\n",
    "\n"
   ]
  },
  {
   "cell_type": "code",
   "execution_count": 2,
   "metadata": {},
   "outputs": [],
   "source": [
    "def getAllData(df):\n",
    "    drop_cols = ['T', 'D', 'N1','N2','N3','N4','N5','N6','N7','L','M','S','R','E','A','V' ,'J','U']\n",
    "    drop_cols = ['D', 'N1','N2','N3','N4','N5','N6','N7', 'Ph', 'il', 'age', 'dist', 'adia', 'sundist', 'sunadia' ]\n",
    "\n",
    "#     Ph         1521 non-null float64\n",
    "# il         1521 non-null float64\n",
    "# age        1521 non-null float64\n",
    "# dist       1521 non-null float64\n",
    "# adia       1521 non-null float64\n",
    "# sundist    1521 non-null float64\n",
    "# sunadia    1521 non-null float64\n",
    "\n",
    "#    drop_cols = ['T', 'D', 'M','S','R','E','A','V' ,'J','U']\n",
    "\n",
    "\n",
    "    X = df.drop(drop_cols, axis=1)\n",
    "    \n",
    "    X = df[['T','L','M','S','R','E','A','V']]\n",
    "    X = df[[ 'T','L','M','S','il', 'age', 'dist', 'adia', 'sundist', 'sunadia']]\n",
    "\n",
    "#     df1 = df[['N1','N2','N3','N4','N5','N6','N7']]\n",
    "#     X['smallest'] = df1.min(axis=1)\n",
    "#     X['biggest'] = df1.max(axis=1)\n",
    "\n",
    "    return X\n",
    "\n",
    "\n",
    "def getSmallestN(df):\n",
    "    df1 = df[['N1','N2','N3','N4','N5','N6','N7']]\n",
    "    y = pd.DataFrame(index=df.index)\n",
    "    y['SN'] = df1.min(axis=1)\n",
    "    return y ;\n",
    "\n",
    "def getBiggestN(df):\n",
    "    df1 = df[['N1','N2','N3','N4','N5','N6','N7']]\n",
    "    y = pd.DataFrame(index=df.index)\n",
    "    y['LN'] = df1.max(axis=1)\n",
    "    return y ;\n",
    "\n"
   ]
  },
  {
   "cell_type": "code",
   "execution_count": 3,
   "metadata": {},
   "outputs": [
    {
     "name": "stdout",
     "output_type": "stream",
     "text": [
      "Loaded MyTotoResearch algo_no:  1\n",
      "1521\n",
      "             D  N1  N2  N3  N4  N5  N6  N7\n",
      "0     20040212  42  36  29  21  18  10   3\n",
      "1     20040216  45  41  40  39  22   8   6\n",
      "2     20040219  36  35  21  17  15   8   5\n",
      "3     20040223  39  38  28  23  21  20   6\n",
      "4     20040226  44  40  26  25  16  10   3\n",
      "5     20040301  29  28  27  25  22  20  14\n",
      "6     20040304  43  41  40  25   7   6   2\n",
      "7     20040308  44  42  21  19  18  17   2\n",
      "8     20040311  43  36  34  26  24  18  10\n",
      "9     20040315  45  35  32  16  13   9   1\n",
      "10    20040318  43  42  40  31  21  17   6\n",
      "11    20040322  35  28  27  23  22  21  16\n",
      "12    20040325  43  38  37  20  18  13   6\n",
      "13    20040329  32  24  19   7   6   2   1\n",
      "14    20040401  40  39  31  28  27   9   3\n",
      "15    20040405  33  16  15  13  12   7   4\n",
      "16    20040408  39  36  33  30  25  11   4\n",
      "17    20040412  37  32  29  16  10   8   2\n",
      "18    20040415  34  32  26  19   9   3   2\n",
      "19    20040419  45  39  36  26  18  15  10\n",
      "20    20040422  37  26  23  14   8   6   5\n",
      "21    20040426  41  37  25  24  18  15   7\n",
      "22    20040429  43  32  31  22  18  10   6\n",
      "23    20040503  37  33  20  12   9   4   3\n",
      "24    20040506  34  30  27  23  20  11   5\n",
      "25    20040510  41  21  19  16   8   6   2\n",
      "26    20040513  45  35  24  21  16  13  11\n",
      "27    20040517  28  21  17  13  10   6   2\n",
      "28    20040520  45  36  32  25  23  20  17\n",
      "29    20040524  44  40  33  21  16   7   6\n",
      "...        ...  ..  ..  ..  ..  ..  ..  ..\n",
      "1491  20180827  38  29  26  24  16   6   5\n",
      "1492  20180823  41  39  30  23  19   3   2\n",
      "1493  20180820  42  40  38  25  10   9   2\n",
      "1494  20180816  36  33  32  25  23  22  20\n",
      "1495  20180813  36  22  17  16   6   3   1\n",
      "1496  20180809  42  39  28  23  20  16  13\n",
      "1497  20180806  40  36  27  20  18  15   7\n",
      "1498  20180802  46  41  35  27  15  10   1\n",
      "1499  20180730  43  41  20  19  10   8   7\n",
      "1500  20180726  40  37  28  17  13   9   1\n",
      "1501  20180723  40  39  28  26  23  12   2\n",
      "1502  20180719  46  45  37  35  23  14  13\n",
      "1503  20180716  47  32  24  22  19   8   4\n",
      "1504  20180712  41  40  32  25  15  10   4\n",
      "1505  20180709  43  39  38  33  31  23   6\n",
      "1506  20180705  39  34  32  30  28  11   8\n",
      "1507  20180702  38  35  33  26  23  13  12\n",
      "1508  20180625  48  44  38  25   9   3   2\n",
      "1509  20180621  46  35  30  24  15   6   4\n",
      "1510  20180618  43  26  25  23  22  15  11\n",
      "1511  20180614  48  42  35  31  29   4   1\n",
      "1512  20180611  49  44  37  34  30  25  16\n",
      "1513  20180607  42  39  37  31  29  20  12\n",
      "1514  20180604  45  43  37  31  27  22  20\n",
      "1515  20180531  49  47  33  26  24  13  11\n",
      "1516  20180528  44  30  28  27   9   5   2\n",
      "1517  20180524  42  36  34  26  25  16  11\n",
      "1518  20180521  44  37  30  17  16  10   8\n",
      "1519  20180517  37  35  29  25  21  13   7\n",
      "1520  20180514  49  46  45  29  24  17   5\n",
      "\n",
      "[1521 rows x 8 columns]\n"
     ]
    }
   ],
   "source": [
    "seed = 42\n",
    "\n",
    "mtr = MyTotoResearch(algo_no=1)\n",
    "lresult, df = mtr.load_totodata()\n",
    "\n",
    "X = mtr.modified_dataset(getAllData(df)) #\n",
    "\n",
    "#X\n",
    "\n",
    "#getSmallestN(df)\n",
    "#getBiggestN(df)"
   ]
  },
  {
   "cell_type": "code",
   "execution_count": 46,
   "metadata": {},
   "outputs": [],
   "source": [
    "model_result = {}\n",
    "def store_model_result(sEstimator, N, r):\n",
    "#    print(sEstimator + \" \" + N )\n",
    "    if ( sEstimator not in model_result ):\n",
    "        model_result[sEstimator] = pd.DataFrame(index=df.index) \n",
    "    m_df = model_result[sEstimator] ;\n",
    "    m_df[N] = r\n",
    "    return m_df\n",
    "    \n"
   ]
  },
  {
   "cell_type": "code",
   "execution_count": 40,
   "metadata": {},
   "outputs": [],
   "source": [
    "from itertools import product\n",
    "data = [[1,2,3],[4,5,6],[7,8,9],[10,11,23]]\n",
    "def helperMethod(oldCombination, row, col):\n",
    "    newCombination = oldCombination + str(data[row][col]);\n",
    "    if (row == len(data) - 1):\n",
    "        print(newCombination);\n",
    "    if (row < len(data) - 1):\n",
    "        helperMethod(newCombination, row + 1, 0);\n",
    "    if (col < len(data[row]) - 1):\n",
    "        helperMethod(oldCombination, row, col + 1);\n",
    "#    print(row,col,oldCombination)\n",
    "#     if ( row == 1 and oldCombination == \"\" ):\n",
    "#         return ;\n",
    "\n",
    "#helperMethod(\"\",0, 0);\n",
    "\n"
   ]
  },
  {
   "cell_type": "code",
   "execution_count": 6,
   "metadata": {},
   "outputs": [
    {
     "name": "stdout",
     "output_type": "stream",
     "text": [
      "[['2', '4', '7', '10'], ['2', '4', '7', '11'], ['2', '4', '7', '23'], ['2', '4', '8', '10'], ['2', '4', '8', '11'], ['2', '4', '8', '23'], ['2', '4', '9', '10'], ['2', '4', '9', '11'], ['2', '4', '9', '23'], ['2', '5', '7', '10'], ['2', '5', '7', '11'], ['2', '5', '7', '23'], ['2', '5', '8', '10'], ['2', '5', '8', '11'], ['2', '5', '8', '23'], ['2', '5', '9', '10'], ['2', '5', '9', '11'], ['2', '5', '9', '23'], ['2', '6', '7', '10'], ['2', '6', '7', '11'], ['2', '6', '7', '23'], ['2', '6', '8', '10'], ['2', '6', '8', '11'], ['2', '6', '8', '23'], ['2', '6', '9', '10'], ['2', '6', '9', '11'], ['2', '6', '9', '23'], ['3', '4', '7', '10'], ['3', '4', '7', '11'], ['3', '4', '7', '23'], ['3', '4', '8', '10'], ['3', '4', '8', '11'], ['3', '4', '8', '23'], ['3', '4', '9', '10'], ['3', '4', '9', '11'], ['3', '4', '9', '23'], ['3', '5', '7', '10'], ['3', '5', '7', '11'], ['3', '5', '7', '23'], ['3', '5', '8', '10'], ['3', '5', '8', '11'], ['3', '5', '8', '23'], ['3', '5', '9', '10'], ['3', '5', '9', '11'], ['3', '5', '9', '23'], ['3', '6', '7', '10'], ['3', '6', '7', '11'], ['3', '6', '7', '23'], ['3', '6', '8', '10'], ['3', '6', '8', '11'], ['3', '6', '8', '23'], ['3', '6', '9', '10'], ['3', '6', '9', '11'], ['3', '6', '9', '23']]\n"
     ]
    }
   ],
   "source": [
    "from itertools import product\n",
    "data = [[1,2,3],[4,5,6],[7,8,9],[10,11,23]]\n",
    "\n",
    "data_comb = []\n",
    "def getYColumn(oldCombination, row, col):\n",
    "#     if ( len(oldCombination) > 0 ):\n",
    "#         oldCombination = oldCombination + \",\"\n",
    "    newCombination = oldCombination + str(data[row][col]) + \",\"\n",
    "    if (row == len(data) - 1):\n",
    "#        print(newCombination.split(\",\"));\n",
    "        data_comb.append(newCombination[0:-1].split(\",\")) ;\n",
    "    if (row < len(data) - 1):\n",
    "        getYColumn(newCombination, row + 1, 0);\n",
    "    if (col < len(data[row]) - 1):\n",
    "        getYColumn(oldCombination, row, col + 1);\n",
    "\n",
    "getYColumn(\"\",0, 1);\n",
    "print(data_comb)"
   ]
  },
  {
   "cell_type": "code",
   "execution_count": null,
   "metadata": {},
   "outputs": [],
   "source": [
    "\n",
    "\n"
   ]
  },
  {
   "cell_type": "code",
   "execution_count": 24,
   "metadata": {},
   "outputs": [
    {
     "name": "stdout",
     "output_type": "stream",
     "text": [
      "[['2', '4', '7', '10'], ['2', '4', '7', '11'], ['2', '4', '7', '23'], ['2', '4', '8', '10'], ['2', '4', '8', '11'], ['2', '4', '8', '23'], ['2', '4', '9', '10'], ['2', '4', '9', '11'], ['2', '4', '9', '23'], ['2', '5', '7', '10'], ['2', '5', '7', '11']]\n",
      "[['2', '4', '7', '10'], ['2', '4', '7', '11'], ['2', '4', '7', '23'], ['2', '4', '8', '10'], ['2', '4', '8', '11']]\n",
      "[['2', '4', '8', '23'], ['2', '4', '9', '10'], ['2', '4', '9', '11'], ['2', '4', '9', '23'], ['2', '5', '7', '10']]\n",
      "[['2', '5', '7', '11'], ['2', '5', '7', '23'], ['2', '5', '8', '10']]\n"
     ]
    }
   ],
   "source": [
    "from itertools import product\n",
    "data = [[1,2,3],[4,5,6],[7,8,9],[10,11,23]]\n",
    "getYLimited_start_pos = 0\n",
    "data_comb = []\n",
    "def getYLimited(oldCombination, row, col, howmany):\n",
    "    global getYLimited_start_pos\n",
    "    newCombination = oldCombination + str(data[row][col]) + \",\"\n",
    "    if (row == len(data) - 1):\n",
    "        if ( getYLimited_start_pos <= 0 ):\n",
    "            data_comb.append(newCombination[0:-1].split(\",\"))\n",
    "        getYLimited_start_pos = getYLimited_start_pos - 1\n",
    "    if ( len(data_comb) == howmany ):\n",
    "        return ;\n",
    "    if (row < len(data) - 1):\n",
    "        getYLimited(newCombination, row + 1, 0, howmany);\n",
    "    if (col < len(data[row]) - 1):\n",
    "        getYLimited(oldCombination, row, col + 1, howmany);\n",
    "\n",
    "data_comb = []\n",
    "getYLimited_start_pos = 0\n",
    "getYLimited(\"\",0, 1, 11);\n",
    "print(data_comb)\n",
    "getYLimited_start_pos = 0\n",
    "data_comb = []\n",
    "max_comb = 5\n",
    "getYLimited(\"\",0, 1, 5);\n",
    "print(data_comb)\n",
    "getYLimited_start_pos = 5\n",
    "data_comb = []\n",
    "getYLimited(\"\",0, 1, 5);\n",
    "print(data_comb)\n",
    "getYLimited_start_pos = 10\n",
    "data_comb = []\n",
    "getYLimited(\"\",0, 1, 3);\n",
    "print(data_comb)"
   ]
  },
  {
   "cell_type": "code",
   "execution_count": 60,
   "metadata": {},
   "outputs": [
    {
     "name": "stdout",
     "output_type": "stream",
     "text": [
      "[[ 42.  36.  29. ...,  18.  10.   3.]\n",
      " [ 45.  41.  40. ...,  22.   8.   6.]\n",
      " [ 36.  35.  21. ...,  15.   8.   5.]\n",
      " ..., \n",
      " [ 44.  37.  30. ...,  16.  10.   8.]\n",
      " [ 37.  35.  29. ...,  21.  13.   7.]\n",
      " [ 49.  46.  45. ...,  24.  17.   5.]]\n",
      "1 DT0 Accuracy:  15.09433962264151\n"
     ]
    },
    {
     "data": {
      "image/png": "[encoded data removed]",
      "text/plain": [
       "<Figure size 432x288 with 1 Axes>"
      ]
     },
     "metadata": {
      "needs_background": "light"
     },
     "output_type": "display_data"
    },
    {
     "name": "stdout",
     "output_type": "stream",
     "text": [
      "1 DT1 Accuracy:  20.754716981132077\n"
     ]
    },
    {
     "data": {
      "image/png": "[encoded data removed]",
      "text/plain": [
       "<Figure size 432x288 with 1 Axes>"
      ]
     },
     "metadata": {
      "needs_background": "light"
     },
     "output_type": "display_data"
    },
    {
     "name": "stdout",
     "output_type": "stream",
     "text": [
      "1 DT3 Accuracy:  22.641509433962266\n"
     ]
    },
    {
     "data": {
      "image/png": "[encoded data removed]",
      "text/plain": [
       "<Figure size 432x288 with 1 Axes>"
      ]
     },
     "metadata": {
      "needs_background": "light"
     },
     "output_type": "display_data"
    },
    {
     "name": "stdout",
     "output_type": "stream",
     "text": [
      "1 DT4 Accuracy:  24.528301886792452\n"
     ]
    },
    {
     "data": {
      "image/png": "[encoded data removed]",
      "text/plain": [
       "<Figure size 432x288 with 1 Axes>"
      ]
     },
     "metadata": {
      "needs_background": "light"
     },
     "output_type": "display_data"
    },
    {
     "name": "stdout",
     "output_type": "stream",
     "text": [
      "1 DT78 Accuracy:  26.41509433962264\n"
     ]
    },
    {
     "data": {
      "image/png": "[encoded data removed]",
      "text/plain": [
       "<Figure size 432x288 with 1 Axes>"
      ]
     },
     "metadata": {
      "needs_background": "light"
     },
     "output_type": "display_data"
    },
    {
     "name": "stdout",
     "output_type": "stream",
     "text": [
      "1 DT306 Accuracy:  28.30188679245283\n"
     ]
    },
    {
     "data": {
      "image/png": "[encoded data removed]",
      "text/plain": [
       "<Figure size 432x288 with 1 Axes>"
      ]
     },
     "metadata": {
      "needs_background": "light"
     },
     "output_type": "display_data"
    },
    {
     "name": "stdout",
     "output_type": "stream",
     "text": [
      "4 DT82 Accuracy:  32.075471698113205\n"
     ]
    },
    {
     "data": {
      "image/png": "[encoded data removed]",
      "text/plain": [
       "<Figure size 432x288 with 1 Axes>"
      ]
     },
     "metadata": {
      "needs_background": "light"
     },
     "output_type": "display_data"
    },
    {
     "name": "stdout",
     "output_type": "stream",
     "text": [
      "390 DT345 Accuracy:  33.9622641509434\n"
     ]
    },
    {
     "data": {
      "image/png": "[encoded data removed]",
      "text/plain": [
       "<Figure size 432x288 with 1 Axes>"
      ]
     },
     "metadata": {
      "needs_background": "light"
     },
     "output_type": "display_data"
    },
    {
     "ename": "KeyboardInterrupt",
     "evalue": "",
     "output_type": "error",
     "traceback": [
      "\u001b[0;31m---------------------------------------------------------------------------\u001b[0m",
      "\u001b[0;31mKeyboardInterrupt\u001b[0m                         Traceback (most recent call last)",
      "\u001b[0;32m<ipython-input-60-0def3c77edb2>\u001b[0m in \u001b[0;36m<module>\u001b[0;34m\u001b[0m\n\u001b[1;32m     51\u001b[0m \u001b[0;31m#     dt = DecisionTreeRegressor()\u001b[0m\u001b[0;34m\u001b[0m\u001b[0;34m\u001b[0m\u001b[0;34m\u001b[0m\u001b[0m\n\u001b[1;32m     52\u001b[0m \u001b[0;31m#     dt = DecisionTreeRegressor(max_features='sqrt', splitter='random', min_samples_split=4, max_depth=3) ;\u001b[0m\u001b[0;34m\u001b[0m\u001b[0;34m\u001b[0m\u001b[0;34m\u001b[0m\u001b[0m\n\u001b[0;32m---> 53\u001b[0;31m         \u001b[0mbAccuracy\u001b[0m \u001b[0;34m=\u001b[0m \u001b[0mmtr\u001b[0m\u001b[0;34m.\u001b[0m\u001b[0mgetAccuracyCount\u001b[0m\u001b[0;34m(\u001b[0m\u001b[0mnp\u001b[0m\u001b[0;34m.\u001b[0m\u001b[0marray\u001b[0m\u001b[0;34m(\u001b[0m\u001b[0mp\u001b[0m\u001b[0;34m)\u001b[0m\u001b[0;34m)\u001b[0m \u001b[0;34m;\u001b[0m\u001b[0;34m\u001b[0m\u001b[0;34m\u001b[0m\u001b[0m\n\u001b[0m\u001b[1;32m     54\u001b[0m         \u001b[0;32mif\u001b[0m \u001b[0;34m(\u001b[0m \u001b[0mbBest\u001b[0m \u001b[0;34m<\u001b[0m \u001b[0mbAccuracy\u001b[0m \u001b[0;34m)\u001b[0m\u001b[0;34m:\u001b[0m\u001b[0;34m\u001b[0m\u001b[0;34m\u001b[0m\u001b[0m\n\u001b[1;32m     55\u001b[0m             \u001b[0mprint\u001b[0m \u001b[0;34m(\u001b[0m \u001b[0mstr\u001b[0m\u001b[0;34m(\u001b[0m\u001b[0midx\u001b[0m\u001b[0;34m)\u001b[0m \u001b[0;34m+\u001b[0m \u001b[0;34m\" \"\u001b[0m \u001b[0;34m+\u001b[0m \u001b[0msEstimator\u001b[0m \u001b[0;34m+\u001b[0m \u001b[0;34m\" Accuracy: \"\u001b[0m\u001b[0;34m,\u001b[0m  \u001b[0mbAccuracy\u001b[0m\u001b[0;34m)\u001b[0m\u001b[0;34m\u001b[0m\u001b[0;34m\u001b[0m\u001b[0m\n",
      "\u001b[0;32m~/work/SGToto/MyTotoResearchv4.py\u001b[0m in \u001b[0;36mgetAccuracyCount\u001b[0;34m(self, prediction)\u001b[0m\n\u001b[1;32m    224\u001b[0m     \u001b[0;34m@\u001b[0m\u001b[0mclassmethod\u001b[0m\u001b[0;34m\u001b[0m\u001b[0;34m\u001b[0m\u001b[0m\n\u001b[1;32m    225\u001b[0m     \u001b[0;32mdef\u001b[0m \u001b[0mgetAccuracyCount\u001b[0m\u001b[0;34m(\u001b[0m\u001b[0mself\u001b[0m\u001b[0;34m,\u001b[0m \u001b[0mprediction\u001b[0m\u001b[0;34m)\u001b[0m\u001b[0;34m:\u001b[0m\u001b[0;34m\u001b[0m\u001b[0;34m\u001b[0m\u001b[0m\n\u001b[0;32m--> 226\u001b[0;31m         \u001b[0mactual\u001b[0m \u001b[0;34m=\u001b[0m \u001b[0mself\u001b[0m\u001b[0;34m.\u001b[0m\u001b[0mget_test_result\u001b[0m\u001b[0;34m(\u001b[0m\u001b[0;34m)\u001b[0m\u001b[0;34m\u001b[0m\u001b[0;34m\u001b[0m\u001b[0m\n\u001b[0m\u001b[1;32m    227\u001b[0m         \u001b[0mmatched\u001b[0m \u001b[0;34m=\u001b[0m \u001b[0;34m[\u001b[0m\u001b[0;34m]\u001b[0m\u001b[0;34m\u001b[0m\u001b[0;34m\u001b[0m\u001b[0m\n\u001b[1;32m    228\u001b[0m         \u001b[0;32mif\u001b[0m \u001b[0mlen\u001b[0m\u001b[0;34m(\u001b[0m\u001b[0mprediction\u001b[0m\u001b[0;34m)\u001b[0m \u001b[0;34m==\u001b[0m \u001b[0;36m0\u001b[0m\u001b[0;34m:\u001b[0m \u001b[0;32mreturn\u001b[0m \u001b[0;36m0\u001b[0m\u001b[0;34m\u001b[0m\u001b[0;34m\u001b[0m\u001b[0m\n",
      "\u001b[0;32m~/work/SGToto/MyTotoResearchv4.py\u001b[0m in \u001b[0;36mget_test_result\u001b[0;34m(self, result)\u001b[0m\n\u001b[1;32m    208\u001b[0m \u001b[0;34m\u001b[0m\u001b[0m\n\u001b[1;32m    209\u001b[0m         \u001b[0;31m#Merge the Planet Position File with the Toto Results file\u001b[0m\u001b[0;34m\u001b[0m\u001b[0;34m\u001b[0m\u001b[0;34m\u001b[0m\u001b[0m\n\u001b[0;32m--> 210\u001b[0;31m         \u001b[0mtest_df\u001b[0m \u001b[0;34m=\u001b[0m \u001b[0mself\u001b[0m\u001b[0;34m.\u001b[0m\u001b[0mdata2Predict\u001b[0m\u001b[0;34m.\u001b[0m\u001b[0mmerge\u001b[0m\u001b[0;34m(\u001b[0m\u001b[0mtest_df\u001b[0m\u001b[0;34m,\u001b[0m \u001b[0mleft_on\u001b[0m\u001b[0;34m=\u001b[0m\u001b[0;34m'T'\u001b[0m\u001b[0;34m,\u001b[0m \u001b[0mright_on\u001b[0m\u001b[0;34m=\u001b[0m\u001b[0;34m'D'\u001b[0m\u001b[0;34m,\u001b[0m \u001b[0mhow\u001b[0m\u001b[0;34m=\u001b[0m\u001b[0;34m'inner'\u001b[0m\u001b[0;34m)\u001b[0m\u001b[0;34m\u001b[0m\u001b[0;34m\u001b[0m\u001b[0m\n\u001b[0m\u001b[1;32m    211\u001b[0m \u001b[0;34m\u001b[0m\u001b[0m\n\u001b[1;32m    212\u001b[0m         \u001b[0;31m#Extract only the Results for all dates\u001b[0m\u001b[0;34m\u001b[0m\u001b[0;34m\u001b[0m\u001b[0;34m\u001b[0m\u001b[0m\n",
      "\u001b[0;32m/opt/conda/lib/python3.6/site-packages/pandas/core/frame.py\u001b[0m in \u001b[0;36mmerge\u001b[0;34m(self, right, how, on, left_on, right_on, left_index, right_index, sort, suffixes, copy, indicator, validate)\u001b[0m\n\u001b[1;32m   6387\u001b[0m                      \u001b[0mright_on\u001b[0m\u001b[0;34m=\u001b[0m\u001b[0mright_on\u001b[0m\u001b[0;34m,\u001b[0m \u001b[0mleft_index\u001b[0m\u001b[0;34m=\u001b[0m\u001b[0mleft_index\u001b[0m\u001b[0;34m,\u001b[0m\u001b[0;34m\u001b[0m\u001b[0;34m\u001b[0m\u001b[0m\n\u001b[1;32m   6388\u001b[0m                      \u001b[0mright_index\u001b[0m\u001b[0;34m=\u001b[0m\u001b[0mright_index\u001b[0m\u001b[0;34m,\u001b[0m \u001b[0msort\u001b[0m\u001b[0;34m=\u001b[0m\u001b[0msort\u001b[0m\u001b[0;34m,\u001b[0m \u001b[0msuffixes\u001b[0m\u001b[0;34m=\u001b[0m\u001b[0msuffixes\u001b[0m\u001b[0;34m,\u001b[0m\u001b[0;34m\u001b[0m\u001b[0;34m\u001b[0m\u001b[0m\n\u001b[0;32m-> 6389\u001b[0;31m                      copy=copy, indicator=indicator, validate=validate)\n\u001b[0m\u001b[1;32m   6390\u001b[0m \u001b[0;34m\u001b[0m\u001b[0m\n\u001b[1;32m   6391\u001b[0m     \u001b[0;32mdef\u001b[0m \u001b[0mround\u001b[0m\u001b[0;34m(\u001b[0m\u001b[0mself\u001b[0m\u001b[0;34m,\u001b[0m \u001b[0mdecimals\u001b[0m\u001b[0;34m=\u001b[0m\u001b[0;36m0\u001b[0m\u001b[0;34m,\u001b[0m \u001b[0;34m*\u001b[0m\u001b[0margs\u001b[0m\u001b[0;34m,\u001b[0m \u001b[0;34m**\u001b[0m\u001b[0mkwargs\u001b[0m\u001b[0;34m)\u001b[0m\u001b[0;34m:\u001b[0m\u001b[0;34m\u001b[0m\u001b[0;34m\u001b[0m\u001b[0m\n",
      "\u001b[0;32m/opt/conda/lib/python3.6/site-packages/pandas/core/reshape/merge.py\u001b[0m in \u001b[0;36mmerge\u001b[0;34m(left, right, how, on, left_on, right_on, left_index, right_index, sort, suffixes, copy, indicator, validate)\u001b[0m\n\u001b[1;32m     60\u001b[0m                          \u001b[0mcopy\u001b[0m\u001b[0;34m=\u001b[0m\u001b[0mcopy\u001b[0m\u001b[0;34m,\u001b[0m \u001b[0mindicator\u001b[0m\u001b[0;34m=\u001b[0m\u001b[0mindicator\u001b[0m\u001b[0;34m,\u001b[0m\u001b[0;34m\u001b[0m\u001b[0;34m\u001b[0m\u001b[0m\n\u001b[1;32m     61\u001b[0m                          validate=validate)\n\u001b[0;32m---> 62\u001b[0;31m     \u001b[0;32mreturn\u001b[0m \u001b[0mop\u001b[0m\u001b[0;34m.\u001b[0m\u001b[0mget_result\u001b[0m\u001b[0;34m(\u001b[0m\u001b[0;34m)\u001b[0m\u001b[0;34m\u001b[0m\u001b[0;34m\u001b[0m\u001b[0m\n\u001b[0m\u001b[1;32m     63\u001b[0m \u001b[0;34m\u001b[0m\u001b[0m\n\u001b[1;32m     64\u001b[0m \u001b[0;34m\u001b[0m\u001b[0m\n",
      "\u001b[0;32m/opt/conda/lib/python3.6/site-packages/pandas/core/reshape/merge.py\u001b[0m in \u001b[0;36mget_result\u001b[0;34m(self)\u001b[0m\n\u001b[1;32m    580\u001b[0m             \u001b[0;34m[\u001b[0m\u001b[0;34m(\u001b[0m\u001b[0mldata\u001b[0m\u001b[0;34m,\u001b[0m \u001b[0mlindexers\u001b[0m\u001b[0;34m)\u001b[0m\u001b[0;34m,\u001b[0m \u001b[0;34m(\u001b[0m\u001b[0mrdata\u001b[0m\u001b[0;34m,\u001b[0m \u001b[0mrindexers\u001b[0m\u001b[0;34m)\u001b[0m\u001b[0;34m]\u001b[0m\u001b[0;34m,\u001b[0m\u001b[0;34m\u001b[0m\u001b[0;34m\u001b[0m\u001b[0m\n\u001b[1;32m    581\u001b[0m             \u001b[0maxes\u001b[0m\u001b[0;34m=\u001b[0m\u001b[0;34m[\u001b[0m\u001b[0mllabels\u001b[0m\u001b[0;34m.\u001b[0m\u001b[0mappend\u001b[0m\u001b[0;34m(\u001b[0m\u001b[0mrlabels\u001b[0m\u001b[0;34m)\u001b[0m\u001b[0;34m,\u001b[0m \u001b[0mjoin_index\u001b[0m\u001b[0;34m]\u001b[0m\u001b[0;34m,\u001b[0m\u001b[0;34m\u001b[0m\u001b[0;34m\u001b[0m\u001b[0m\n\u001b[0;32m--> 582\u001b[0;31m             concat_axis=0, copy=self.copy)\n\u001b[0m\u001b[1;32m    583\u001b[0m \u001b[0;34m\u001b[0m\u001b[0m\n\u001b[1;32m    584\u001b[0m         \u001b[0mtyp\u001b[0m \u001b[0;34m=\u001b[0m \u001b[0mself\u001b[0m\u001b[0;34m.\u001b[0m\u001b[0mleft\u001b[0m\u001b[0;34m.\u001b[0m\u001b[0m_constructor\u001b[0m\u001b[0;34m\u001b[0m\u001b[0;34m\u001b[0m\u001b[0m\n",
      "\u001b[0;32m/opt/conda/lib/python3.6/site-packages/pandas/core/internals.py\u001b[0m in \u001b[0;36mconcatenate_block_managers\u001b[0;34m(mgrs_indexers, axes, concat_axis, copy)\u001b[0m\n\u001b[1;32m   5419\u001b[0m         \u001b[0;32melse\u001b[0m\u001b[0;34m:\u001b[0m\u001b[0;34m\u001b[0m\u001b[0;34m\u001b[0m\u001b[0m\n\u001b[1;32m   5420\u001b[0m             b = make_block(\n\u001b[0;32m-> 5421\u001b[0;31m                 \u001b[0mconcatenate_join_units\u001b[0m\u001b[0;34m(\u001b[0m\u001b[0mjoin_units\u001b[0m\u001b[0;34m,\u001b[0m \u001b[0mconcat_axis\u001b[0m\u001b[0;34m,\u001b[0m \u001b[0mcopy\u001b[0m\u001b[0;34m=\u001b[0m\u001b[0mcopy\u001b[0m\u001b[0;34m)\u001b[0m\u001b[0;34m,\u001b[0m\u001b[0;34m\u001b[0m\u001b[0;34m\u001b[0m\u001b[0m\n\u001b[0m\u001b[1;32m   5422\u001b[0m                 placement=placement)\n\u001b[1;32m   5423\u001b[0m         \u001b[0mblocks\u001b[0m\u001b[0;34m.\u001b[0m\u001b[0mappend\u001b[0m\u001b[0;34m(\u001b[0m\u001b[0mb\u001b[0m\u001b[0;34m)\u001b[0m\u001b[0;34m\u001b[0m\u001b[0;34m\u001b[0m\u001b[0m\n",
      "\u001b[0;32m/opt/conda/lib/python3.6/site-packages/pandas/core/internals.py\u001b[0m in \u001b[0;36mconcatenate_join_units\u001b[0;34m(join_units, concat_axis, copy)\u001b[0m\n\u001b[1;32m   5563\u001b[0m     to_concat = [ju.get_reindexed_values(empty_dtype=empty_dtype,\n\u001b[1;32m   5564\u001b[0m                                          upcasted_na=upcasted_na)\n\u001b[0;32m-> 5565\u001b[0;31m                  for ju in join_units]\n\u001b[0m\u001b[1;32m   5566\u001b[0m \u001b[0;34m\u001b[0m\u001b[0m\n\u001b[1;32m   5567\u001b[0m     \u001b[0;32mif\u001b[0m \u001b[0mlen\u001b[0m\u001b[0;34m(\u001b[0m\u001b[0mto_concat\u001b[0m\u001b[0;34m)\u001b[0m \u001b[0;34m==\u001b[0m \u001b[0;36m1\u001b[0m\u001b[0;34m:\u001b[0m\u001b[0;34m\u001b[0m\u001b[0;34m\u001b[0m\u001b[0m\n",
      "\u001b[0;32m/opt/conda/lib/python3.6/site-packages/pandas/core/internals.py\u001b[0m in \u001b[0;36m<listcomp>\u001b[0;34m(.0)\u001b[0m\n\u001b[1;32m   5563\u001b[0m     to_concat = [ju.get_reindexed_values(empty_dtype=empty_dtype,\n\u001b[1;32m   5564\u001b[0m                                          upcasted_na=upcasted_na)\n\u001b[0;32m-> 5565\u001b[0;31m                  for ju in join_units]\n\u001b[0m\u001b[1;32m   5566\u001b[0m \u001b[0;34m\u001b[0m\u001b[0m\n\u001b[1;32m   5567\u001b[0m     \u001b[0;32mif\u001b[0m \u001b[0mlen\u001b[0m\u001b[0;34m(\u001b[0m\u001b[0mto_concat\u001b[0m\u001b[0;34m)\u001b[0m \u001b[0;34m==\u001b[0m \u001b[0;36m1\u001b[0m\u001b[0;34m:\u001b[0m\u001b[0;34m\u001b[0m\u001b[0;34m\u001b[0m\u001b[0m\n",
      "\u001b[0;32m/opt/conda/lib/python3.6/site-packages/pandas/core/internals.py\u001b[0m in \u001b[0;36mget_reindexed_values\u001b[0;34m(self, empty_dtype, upcasted_na)\u001b[0m\n\u001b[1;32m   5873\u001b[0m             \u001b[0;32mfor\u001b[0m \u001b[0max\u001b[0m\u001b[0;34m,\u001b[0m \u001b[0mindexer\u001b[0m \u001b[0;32min\u001b[0m \u001b[0mself\u001b[0m\u001b[0;34m.\u001b[0m\u001b[0mindexers\u001b[0m\u001b[0;34m.\u001b[0m\u001b[0mitems\u001b[0m\u001b[0;34m(\u001b[0m\u001b[0;34m)\u001b[0m\u001b[0;34m:\u001b[0m\u001b[0;34m\u001b[0m\u001b[0;34m\u001b[0m\u001b[0m\n\u001b[1;32m   5874\u001b[0m                 values = algos.take_nd(values, indexer, axis=ax,\n\u001b[0;32m-> 5875\u001b[0;31m                                        fill_value=fill_value)\n\u001b[0m\u001b[1;32m   5876\u001b[0m \u001b[0;34m\u001b[0m\u001b[0m\n\u001b[1;32m   5877\u001b[0m         \u001b[0;32mreturn\u001b[0m \u001b[0mvalues\u001b[0m\u001b[0;34m\u001b[0m\u001b[0;34m\u001b[0m\u001b[0m\n",
      "\u001b[0;32m/opt/conda/lib/python3.6/site-packages/pandas/core/algorithms.py\u001b[0m in \u001b[0;36mtake_nd\u001b[0;34m(arr, indexer, axis, out, fill_value, mask_info, allow_fill)\u001b[0m\n\u001b[1;32m   1604\u001b[0m         \u001b[0mdtype\u001b[0m\u001b[0;34m,\u001b[0m \u001b[0mfill_value\u001b[0m \u001b[0;34m=\u001b[0m \u001b[0marr\u001b[0m\u001b[0;34m.\u001b[0m\u001b[0mdtype\u001b[0m\u001b[0;34m,\u001b[0m \u001b[0marr\u001b[0m\u001b[0;34m.\u001b[0m\u001b[0mdtype\u001b[0m\u001b[0;34m.\u001b[0m\u001b[0mtype\u001b[0m\u001b[0;34m(\u001b[0m\u001b[0;34m)\u001b[0m\u001b[0;34m\u001b[0m\u001b[0;34m\u001b[0m\u001b[0m\n\u001b[1;32m   1605\u001b[0m     \u001b[0;32melse\u001b[0m\u001b[0;34m:\u001b[0m\u001b[0;34m\u001b[0m\u001b[0;34m\u001b[0m\u001b[0m\n\u001b[0;32m-> 1606\u001b[0;31m         \u001b[0mindexer\u001b[0m \u001b[0;34m=\u001b[0m \u001b[0m_ensure_int64\u001b[0m\u001b[0;34m(\u001b[0m\u001b[0mindexer\u001b[0m\u001b[0;34m,\u001b[0m \u001b[0mcopy\u001b[0m\u001b[0;34m=\u001b[0m\u001b[0;32mFalse\u001b[0m\u001b[0;34m)\u001b[0m\u001b[0;34m\u001b[0m\u001b[0;34m\u001b[0m\u001b[0m\n\u001b[0m\u001b[1;32m   1607\u001b[0m         \u001b[0;32mif\u001b[0m \u001b[0;32mnot\u001b[0m \u001b[0mallow_fill\u001b[0m\u001b[0;34m:\u001b[0m\u001b[0;34m\u001b[0m\u001b[0;34m\u001b[0m\u001b[0m\n\u001b[1;32m   1608\u001b[0m             \u001b[0mdtype\u001b[0m\u001b[0;34m,\u001b[0m \u001b[0mfill_value\u001b[0m \u001b[0;34m=\u001b[0m \u001b[0marr\u001b[0m\u001b[0;34m.\u001b[0m\u001b[0mdtype\u001b[0m\u001b[0;34m,\u001b[0m \u001b[0marr\u001b[0m\u001b[0;34m.\u001b[0m\u001b[0mdtype\u001b[0m\u001b[0;34m.\u001b[0m\u001b[0mtype\u001b[0m\u001b[0;34m(\u001b[0m\u001b[0;34m)\u001b[0m\u001b[0;34m\u001b[0m\u001b[0;34m\u001b[0m\u001b[0m\n",
      "\u001b[0;31mKeyboardInterrupt\u001b[0m: "
     ]
    }
   ],
   "source": [
    "\n",
    "from sklearn.preprocessing import PolynomialFeatures\n",
    "from sklearn.linear_model import LinearRegression, Lasso, SGDRegressor, SGDClassifier, LogisticRegression\n",
    "from sklearn.pipeline import Pipeline\n",
    "import numpy as np\n",
    "from sklearn.tree import DecisionTreeRegressor  \n",
    "from sklearn.ensemble import AdaBoostRegressor, GradientBoostingRegressor\n",
    "\n",
    "\n",
    "# scaler = StandardScaler()\n",
    "# scaler.fit(X.drop('T',axis=1))\n",
    "\n",
    "# X_scaled = scaler.transform(X.drop('T',axis=1))\n",
    "X_scaled = X\n",
    "\n",
    "l_encoder = LabelEncoder()\n",
    "result = pd.DataFrame(index=df.index)\n",
    "result['T'] = df['T']\n",
    "\n",
    "test_data = mtr.get_test_data()\n",
    "\n",
    "y_combination = pd.DataFrame(index=df.index)\n",
    "for i in range(1,8):\n",
    "     y_combination['N'+str(i)] = df['N'+str(i)]\n",
    "#y_combination.reset_index()\n",
    "data = y_combination.values\n",
    "\n",
    "print(data)\n",
    "\n",
    "dt = LinearRegression(fit_intercept=False) # 22.65% intersection\n",
    "dt = DecisionTreeRegressor(max_features='sqrt', splitter='random', min_samples_split=4, max_depth=3) ;\n",
    "max_comb = 500\n",
    "model_result = {}\n",
    "bBest = 0.0\n",
    "for idx in range(1,100000):\n",
    "    data_comb = []\n",
    "    getYLimited_start_pos = (idx-1) + max_comb\n",
    "    getYLimited(\"\",0, 0, max_comb);\n",
    "#    print(data_comb)\n",
    "    getYLimited_start_pos = idx * max_comb\n",
    "#    for deg in range(2,4):\n",
    "    for y_c in range(0,len(data_comb)):\n",
    "        sEstimator = \"DT\" + str(y_c)\n",
    "        #     model = Pipeline([('poly', PolynomialFeatures(degree=deg)),\n",
    "        #                       ('linear', AdaBoostRegressor(random_state=seed,base_estimator=dt,learning_rate=1))])\n",
    "        model = dt ;\n",
    "        model.fit(X_scaled, data_comb[y_c])\n",
    "        p = store_model_result(sEstimator, \"N\", model.predict(X_scaled).round())\n",
    "\n",
    "#    print(p)\n",
    "#     dt = DecisionTreeRegressor()\n",
    "#     dt = DecisionTreeRegressor(max_features='sqrt', splitter='random', min_samples_split=4, max_depth=3) ;\n",
    "        bAccuracy = mtr.getAccuracyCount(np.array(p)) ;\n",
    "        if ( bBest < bAccuracy ):\n",
    "            print ( str(idx) + \" \" + sEstimator + \" Accuracy: \",  bAccuracy)\n",
    "            bBest = bAccuracy\n",
    "            mtr.plot_matched_counts(p.values)\n",
    "    #        mtr.print_predictions(result)\n",
    "\n",
    "print(\"Done.\")"
   ]
  },
  {
   "cell_type": "code",
   "execution_count": 9,
   "metadata": {},
   "outputs": [
    {
     "name": "stdout",
     "output_type": "stream",
     "text": [
      "GBR N1\n",
      "ABR2 N1\n",
      "ABR3 N1\n",
      "GBR N2\n",
      "ABR2 N2\n",
      "ABR3 N2\n",
      "GBR N3\n",
      "ABR2 N3\n",
      "ABR3 N3\n",
      "GBR N4\n",
      "ABR2 N4\n",
      "ABR3 N4\n",
      "GBR N5\n",
      "ABR2 N5\n",
      "ABR3 N5\n",
      "GBR N6\n",
      "ABR2 N6\n",
      "ABR3 N6\n",
      "GBR N7\n",
      "ABR2 N7\n",
      "ABR3 N7\n",
      "GBR N8\n",
      "ABR2 N8\n",
      "ABR3 N8\n",
      "GBR N9\n",
      "ABR2 N9\n",
      "ABR3 N9\n",
      "Done.\n"
     ]
    }
   ],
   "source": [
    "from sklearn.preprocessing import PolynomialFeatures\n",
    "from sklearn.linear_model import LinearRegression, Lasso, SGDRegressor, SGDClassifier, LogisticRegression\n",
    "from sklearn.pipeline import Pipeline\n",
    "import numpy as np\n",
    "from sklearn.tree import DecisionTreeRegressor  \n",
    "from sklearn.ensemble import AdaBoostRegressor, GradientBoostingRegressor\n",
    "\n",
    "\n",
    "scaler = StandardScaler()\n",
    "scaler.fit(X.drop('T',axis=1))\n",
    "\n",
    "X_scaled = scaler.transform(X.drop('T',axis=1))\n",
    "X_scaled = X\n",
    "\n",
    "l_encoder = LabelEncoder()\n",
    "result = pd.DataFrame(index=df.index)\n",
    "result['T'] = df['T']\n",
    "\n",
    "test_data = mtr.get_test_data()\n",
    "\n",
    "import array as arr\n",
    "\n",
    "model_store = []\n",
    "model_2nd = []\n",
    "\n",
    "model_result = {}\n",
    "\n",
    "\n",
    "for i in range(1,10):\n",
    "    y = pd.DataFrame(index=df.index)\n",
    "    \n",
    "#    y['N'+str(i)] = l_encoder.fit_transform(df['N'+str(i)])\n",
    "\n",
    "    if (i == 8):\n",
    "        y = getSmallestN(df)\n",
    "    else:\n",
    "        if (i == 9):\n",
    "            y = getBiggestN(df)\n",
    "        else:\n",
    "            y['N'+str(i)] = df['N'+str(i)]\n",
    "\n",
    "    y = y.values.ravel()\n",
    "\n",
    "    sEstimator = \"GBR\"\n",
    "    model = GradientBoostingRegressor(random_state=seed, learning_rate=1, n_estimators=350, max_depth=3)\n",
    "    model.fit(X_scaled, y)\n",
    "    result['N'+str(i)+'_GBR1'] = model.predict(X_scaled).round()\n",
    "    store_model_result(sEstimator, \"N\" + str(i), model.predict(X_scaled).round())            \n",
    "    dt = LinearRegression(fit_intercept=False) # 22.65% intersection\n",
    "    dt = DecisionTreeRegressor()\n",
    "    dt = DecisionTreeRegressor(max_features='sqrt', splitter='random', min_samples_split=4, max_depth=3) ;\n",
    "#     dt = LinearRegression(fit_intercept=True) #  37% intersection\n",
    "\n",
    "#     dt = Lasso(alpha=1, copy_X=True, fit_intercept=True, max_iter=3000,\n",
    "#        normalize=False, positive=False, precompute=False, random_state=seed,\n",
    "#        selection='cyclic', tol=0.01, warm_start=False) #22%\n",
    "    \n",
    "\n",
    "    for deg in range(2,4):\n",
    "        sEstimator = \"ABR\" + str(deg)\n",
    "        model = Pipeline([('poly', PolynomialFeatures(degree=deg)),\n",
    "                          ('linear', AdaBoostRegressor(random_state=seed,base_estimator=dt,learning_rate=1))])\n",
    "        model.fit(X_scaled, y)\n",
    "        model_store.append(model)\n",
    "        result['N'+str(i)+'_PR1'] = model.predict(X_scaled).round()\n",
    "        store_model_result(sEstimator, \"N\" + str(i), model.predict(X_scaled).round())\n",
    "\n",
    "#     result['N'+str(i)+'_P0'] = result['N'+str(i)+'_P'].apply(np.ceil)\n",
    "#     result['N'+str(i)+'_P1'] = result['N'+str(i)+'_P'].apply(np.floor)\n",
    "\n",
    "\n",
    "\n",
    "#print(result)\n",
    "\n",
    "#df['Predicted'] = model.predict(X_scaled)\n",
    "#df['Y'] = y\n",
    "#df['Y'] = l_encoder.inverse_transform(y)\n",
    "\n",
    "#print(df.loc[:,['Predicted', 'Y']])\n",
    "\n",
    "# print ( \"Accuracy: \",  mtr.getAccuracyCount(np.array(result)))\n",
    "# mtr.plot_matched_counts(result.values)\n",
    "# mtr.print_predictions(result)\n",
    "\n",
    "print(\"Done.\")"
   ]
  },
  {
   "cell_type": "code",
   "execution_count": null,
   "metadata": {},
   "outputs": [],
   "source": []
  },
  {
   "cell_type": "code",
   "execution_count": 34,
   "metadata": {},
   "outputs": [
    {
     "name": "stdout",
     "output_type": "stream",
     "text": [
      "BEST INTERSECTION\n"
     ]
    }
   ],
   "source": [
    "already_printed = {}\n",
    "bBest = 0.0\n",
    "print ( \"BEST INTERSECTION\")\n",
    "for key1, value1 in model_result.items():\n",
    "    for key2, value2 in model_result.items():\n",
    "        if ( key1 != key2 ):\n",
    "            if ( (key1 + key2) not in already_printed ):\n",
    "                if ( (key2 + key1) not in already_printed ) :\n",
    "                    already_printed[key1+key2] = 'Y'\n",
    "                    p = mtr.getIntersection(value1.values, value2.values)\n",
    "                    bAccuracy = mtr.getAccuracyCount(np.array(p)) ;\n",
    "                    if ( bBest < bAccuracy ):\n",
    "                        print ( key1, key2, \" Accuracy: \",  bAccuracy)\n",
    "                        bBest = bAccuracy\n",
    "                        mtr.plot_matched_counts(p)\n",
    "#                        mtr.print_predictionsV2(np.array(p))\n",
    "\n"
   ]
  },
  {
   "cell_type": "code",
   "execution_count": 30,
   "metadata": {},
   "outputs": [
    {
     "name": "stdout",
     "output_type": "stream",
     "text": [
      "BEST UNION\n",
      "ABR2 ABR3  Accuracy:  35.84905660377358\n"
     ]
    },
    {
     "data": {
      "image/png": "[encoded data removed]",
      "text/plain": [
       "<Figure size 432x288 with 1 Axes>"
      ]
     },
     "metadata": {
      "needs_background": "light"
     },
     "output_type": "display_data"
    },
    {
     "name": "stdout",
     "output_type": "stream",
     "text": [
      "20180514   [17 24 29 45 46 49  5]   [ 39.]   []\n",
      "20180517   [ 7 21 25 29 35 37 13]   [ 38.  41.]   []\n",
      "20180521   [ 8 10 16 30 37 44 17]   [ 39.  40.]   []\n",
      "20180524   [11 25 26 34 36 42 16]   [ 40.  43.]   []\n",
      "20180528   [ 5  9 27 28 30 44  2]   [ 37.  42.]   []\n",
      "20180531   [11 13 24 26 47 49 33]   [ 38.  39.]   []\n",
      "20180604   [20 22 31 37 43 45 27]   [ 39.  40.]   []\n",
      "20180607   [12 20 29 31 37 39 42]   [ 34.  41.]   []\n",
      "20180611   [16 25 30 37 44 49 34]   [ 32.  38.]   []\n",
      "20180614   [ 4 29 31 35 42 48  1]   [ 34.  36.]   []\n",
      "20180618   [11 15 22 23 26 43 25]   [ 35.  37.]   []\n",
      "20180621   [ 4  6 15 24 30 35 46]   [ 34.  35.]   [35]\n",
      "20180625   [ 2  5 25 38 44 48  9]   [ 35.  40.]   []\n",
      "20180628   [ 2  7 22 27 40 47 48]   [ 37.  40.]   [40]\n",
      "20180702   [12 13 26 33 35 38 23]   [ 40.  42.]   []\n",
      "20180705   [ 8 11 28 30 32 34 39]   [ 37.]   []\n",
      "20180709   [ 6 23 31 38 39 43 33]   [ 36.  39.]   [39]\n",
      "20180712   [ 4 15 25 32 40 41 10]   [ 35.  36.]   []\n",
      "20180716   [ 4  8 19 24 32 47 22]   [ 38.  42.]   []\n",
      "20180719   [13 14 23 35 37 46 45]   [ 34.  43.]   []\n",
      "20180723   [ 2 23 26 28 39 40 12]   [ 40.  45.]   [40]\n",
      "20180726   [ 1  9 13 17 28 40 37]   [ 40.  45.]   [40]\n",
      "20180730   [ 8 10 19 20 41 43  7]   [ 40.  43.]   [43]\n",
      "20180802   [ 1 10 15 27 41 46 35]   [ 39.  43.]   []\n",
      "20180806   [ 7 18 20 27 36 40 15]   [ 39.  48.]   []\n",
      "20180809   [13 16 20 23 39 42 28]   [ 39.  42.]   [39 42]\n",
      "20180813   [ 1  3  6 16 22 36 17]   [ 39.  40.]   []\n",
      "20180816   [22 23 25 32 33 36 20]   [ 36.  42.]   [36]\n",
      "20180820   [ 9 10 25 38 40 42  2]   [ 40.  44.]   [40]\n",
      "20180823   [ 2  3 23 30 39 41 19]   [ 41.  44.]   [41]\n",
      "20180827   [ 5  6 16 24 26 29 38]   [ 42.  43.]   []\n",
      "20180830   [ 3  9 27 29 31 40 46]   [ 39.  47.]   []\n",
      "20180903   [ 4  5 13 18 39 40  3]   [ 42.  48.]   []\n",
      "20180906   [ 2 15 17 20 23 30 45]   [ 40.  41.]   []\n",
      "20180910   [ 2  6  9 15 40 43 18]   [ 40.]   [40]\n",
      "20180913   [ 6 16 17 40 44 48 34]   [ 37.  40.]   [40]\n",
      "20180917   [16 21 22 24 25 27  1]   [ 34.  38.]   []\n",
      "20180920   [ 5 12 18 30 32 38 22]   [ 40.  43.]   []\n",
      "20180924   [ 6  8 17 24 29 47 34]   [ 39.  42.]   []\n",
      "20180927   [ 2 25 29 33 42 45 20]   [ 40.  45.]   [45]\n",
      "20181001   [11 15 23 24 32 40 43]   [ 42.  47.]   []\n",
      "20181004   [ 5 12 23 32 37 42 43]   [ 39.  42.]   [42]\n",
      "20181008   [17 18 23 39 43 49  2]   [ 39.  41.]   [39]\n",
      "20181011   [ 1 16 18 24 29 46 35]   [ 38.  40.]   []\n",
      "20181015   [ 1  4 24 32 35 48 20]   [ 35.  46.]   [35]\n",
      "20181018   [ 5 14 17 31 46 48 47]   [ 39.  44.]   []\n",
      "20181022   [ 5 22 24 40 43 48  2]   [ 39.  43.]   [43]\n",
      "20181025   [ 7  8 13 15 35 48 30]   [ 40.  45.]   []\n",
      "20181029   [ 2  6 10 20 28 31 30]   [ 42.  49.]   []\n",
      "20181101   [ 6 27 28 41 44 48 15]   [ 40.  44.]   [44]\n",
      "20181105   [ 3  8 14 28 43 49 26]   [ 39.  41.]   []\n",
      "20181108   [ 8 13 16 26 28 38 46]   [ 40.  43.]   []\n",
      "20181112   [ 4 12 21 34 41 47 33]   [ 36.  41.]   [41]\n"
     ]
    }
   ],
   "source": [
    "already_printed = {}\n",
    "bBest = 0.0\n",
    "print ( \"BEST UNION\")\n",
    "for key1, value1 in model_result.items():\n",
    "    for key2, value2 in model_result.items():\n",
    "        if ( key1 != key2 ):\n",
    "            if ( (key1 + key2) not in already_printed ):\n",
    "                if ( (key2 + key1) not in already_printed ) :\n",
    "                    already_printed[key1+key2] = 'Y'\n",
    "                    p = [np.union1d(a,b) for a,b in zip(value1.values, value2.values)] #mtr.getIntersection(value1.values, value2.values)\n",
    "                    bAccuracy = mtr.getAccuracyCount(np.array(p)) ;\n",
    "                    if ( bBest < bAccuracy ):\n",
    "                        print ( key1, key2, \" Accuracy: \",  bAccuracy)\n",
    "                        bBest = bAccuracy\n",
    "                        mtr.plot_matched_counts(p)\n",
    "mtr.print_predictionsV2(np.array(p))\n",
    "\n"
   ]
  },
  {
   "cell_type": "code",
   "execution_count": 33,
   "metadata": {},
   "outputs": [
    {
     "name": "stdout",
     "output_type": "stream",
     "text": [
      "Index(['T'], dtype='object')\n",
      "             T\n",
      "0     20040212\n",
      "1     20040216\n",
      "2     20040219\n",
      "3     20040223\n",
      "4     20040226\n",
      "5     20040301\n",
      "6     20040304\n",
      "7     20040308\n",
      "8     20040311\n",
      "9     20040315\n",
      "10    20040318\n",
      "11    20040322\n",
      "12    20040325\n",
      "13    20040329\n",
      "14    20040401\n",
      "15    20040405\n",
      "16    20040408\n",
      "17    20040412\n",
      "18    20040415\n",
      "19    20040419\n",
      "20    20040422\n",
      "21    20040426\n",
      "22    20040429\n",
      "23    20040503\n",
      "24    20040506\n",
      "25    20040510\n",
      "26    20040513\n",
      "27    20040517\n",
      "28    20040520\n",
      "29    20040524\n",
      "...        ...\n",
      "1491  20180604\n",
      "1492  20180607\n",
      "1493  20180611\n",
      "1494  20180614\n",
      "1495  20180618\n",
      "1496  20180621\n",
      "1497  20180625\n",
      "1498  20180628\n",
      "1499  20180702\n",
      "1500  20180705\n",
      "1501  20180709\n",
      "1502  20180712\n",
      "1503  20180716\n",
      "1504  20180719\n",
      "1505  20180723\n",
      "1506  20180726\n",
      "1507  20180730\n",
      "1508  20180802\n",
      "1509  20180806\n",
      "1510  20180809\n",
      "1511  20180813\n",
      "1512  20180816\n",
      "1513  20180820\n",
      "1514  20180823\n",
      "1515  20180827\n",
      "1516  20180830\n",
      "1517  20180903\n",
      "1518  20180906\n",
      "1519  20180910\n",
      "1520  20180913\n",
      "\n",
      "[1521 rows x 1 columns]\n",
      "Accuracy:  0.0\n"
     ]
    },
    {
     "data": {
      "image/png": "[encoded data removed]",
      "text/plain": [
       "<Figure size 432x288 with 1 Axes>"
      ]
     },
     "metadata": {
      "needs_background": "light"
     },
     "output_type": "display_data"
    },
    {
     "name": "stdout",
     "output_type": "stream",
     "text": [
      "20180514   [17 24 29 45 46 49  5]   []   []\n",
      "20180517   [ 7 21 25 29 35 37 13]   []   []\n",
      "20180521   [ 8 10 16 30 37 44 17]   []   []\n",
      "20180524   [11 25 26 34 36 42 16]   []   []\n",
      "20180528   [ 5  9 27 28 30 44  2]   []   []\n",
      "20180531   [11 13 24 26 47 49 33]   []   []\n",
      "20180604   [20 22 31 37 43 45 27]   []   []\n",
      "20180607   [12 20 29 31 37 39 42]   []   []\n",
      "20180611   [16 25 30 37 44 49 34]   []   []\n",
      "20180614   [ 4 29 31 35 42 48  1]   []   []\n",
      "20180618   [11 15 22 23 26 43 25]   []   []\n",
      "20180621   [ 4  6 15 24 30 35 46]   []   []\n",
      "20180625   [ 2  5 25 38 44 48  9]   []   []\n",
      "20180628   [ 2  7 22 27 40 47 48]   []   []\n",
      "20180702   [12 13 26 33 35 38 23]   []   []\n",
      "20180705   [ 8 11 28 30 32 34 39]   []   []\n",
      "20180709   [ 6 23 31 38 39 43 33]   []   []\n",
      "20180712   [ 4 15 25 32 40 41 10]   []   []\n",
      "20180716   [ 4  8 19 24 32 47 22]   []   []\n",
      "20180719   [13 14 23 35 37 46 45]   []   []\n",
      "20180723   [ 2 23 26 28 39 40 12]   []   []\n",
      "20180726   [ 1  9 13 17 28 40 37]   []   []\n",
      "20180730   [ 8 10 19 20 41 43  7]   []   []\n",
      "20180802   [ 1 10 15 27 41 46 35]   []   []\n",
      "20180806   [ 7 18 20 27 36 40 15]   []   []\n",
      "20180809   [13 16 20 23 39 42 28]   []   []\n",
      "20180813   [ 1  3  6 16 22 36 17]   []   []\n",
      "20180816   [22 23 25 32 33 36 20]   []   []\n",
      "20180820   [ 9 10 25 38 40 42  2]   []   []\n",
      "20180823   [ 2  3 23 30 39 41 19]   []   []\n",
      "20180827   [ 5  6 16 24 26 29 38]   []   []\n",
      "20180830   [ 3  9 27 29 31 40 46]   []   []\n",
      "20180903   [ 4  5 13 18 39 40  3]   []   []\n",
      "20180906   [ 2 15 17 20 23 30 45]   []   []\n",
      "20180910   [ 2  6  9 15 40 43 18]   []   []\n",
      "20180913   [ 6 16 17 40 44 48 34]   []   []\n",
      "20180917   [16 21 22 24 25 27  1]   []   []\n",
      "20180920   [ 5 12 18 30 32 38 22]   []   []\n",
      "20180924   [ 6  8 17 24 29 47 34]   []   []\n",
      "20180927   [ 2 25 29 33 42 45 20]   []   []\n",
      "20181001   [11 15 23 24 32 40 43]   []   []\n",
      "20181004   [ 5 12 23 32 37 42 43]   []   []\n",
      "20181008   [17 18 23 39 43 49  2]   []   []\n",
      "20181011   [ 1 16 18 24 29 46 35]   []   []\n",
      "20181015   [ 1  4 24 32 35 48 20]   []   []\n",
      "20181018   [ 5 14 17 31 46 48 47]   []   []\n",
      "20181022   [ 5 22 24 40 43 48  2]   []   []\n",
      "20181025   [ 7  8 13 15 35 48 30]   []   []\n",
      "20181029   [ 2  6 10 20 28 31 30]   []   []\n",
      "20181101   [ 6 27 28 41 44 48 15]   []   []\n",
      "20181105   [ 3  8 14 28 43 49 26]   []   []\n",
      "20181108   [ 8 13 16 26 28 38 46]   []   []\n",
      "20181112   [ 4 12 21 34 41 47 33]   []   []\n"
     ]
    }
   ],
   "source": [
    "columns = result.columns #['N'+str(i)+'_P' for i in range(1,8)]\n",
    "print(result.columns)\n",
    "my_prediction = pd.DataFrame(result, columns=columns)\n",
    "\n",
    "print(my_prediction)\n",
    "for col in columns:\n",
    "    my_prediction[col] = my_prediction[col].apply(lambda x: int(x) if x == x else \"\")\n",
    "    \n",
    "#print(my_prediction)\n",
    "print ( \"Accuracy: \",  mtr.getAccuracyCount(np.array(my_prediction)))\n",
    "mtr.plot_matched_counts(my_prediction.values)\n",
    "#mtr.print_result(my_prediction)\n",
    "mtr.print_predictions(my_prediction)\n"
   ]
  },
  {
   "cell_type": "code",
   "execution_count": 13,
   "metadata": {},
   "outputs": [
    {
     "data": {
      "text/plain": [
       "[]"
      ]
     },
     "execution_count": 13,
     "metadata": {},
     "output_type": "execute_result"
    }
   ],
   "source": [
    "[np.unique1d(a,b) for a,b in zip()]"
   ]
  },
  {
   "cell_type": "code",
   "execution_count": 14,
   "metadata": {},
   "outputs": [
    {
     "name": "stdout",
     "output_type": "stream",
     "text": [
      "20180514   [17 24 29 45 46 49  5]   [39 38 34 36 29 30 23]   [29]\n",
      "20180517   [ 7 21 25 29 35 37 13]   [40 41 34 36 29 30 24]   [29]\n",
      "20180521   [ 8 10 16 30 37 44 17]   [40 41 34 34 28 30 24]   [30]\n",
      "20180524   [11 25 26 34 36 42 16]   [39 39 35 34 28 30 24]   [34]\n",
      "20180528   [ 5  9 27 28 30 44  2]   [41 40 34 34 29 28 24]   [28]\n",
      "20180531   [11 13 24 26 47 49 33]   [40 40 35 34 29 28 24]   [24]\n",
      "20180604   [20 22 31 37 43 45 27]   [40 40 35 34 29 29 24]   []\n",
      "20180607   [12 20 29 31 37 39 42]   [39 41 34 34 29 29 23]   [29 39]\n",
      "20180611   [16 25 30 37 44 49 34]   [39 39 34 36 29 30 23]   [30 34]\n",
      "20180614   [ 4 29 31 35 42 48  1]   [40 41 34 33 29 29 24]   [29]\n",
      "20180618   [11 15 22 23 26 43 25]   [40 41 34 34 28 30 24]   []\n",
      "20180621   [ 4  6 15 24 30 35 46]   [39 40 35 34 28 30 24]   [24 30 35]\n",
      "20180625   [ 2  5 25 38 44 48  9]   [41 40 34 34 29 29 24]   []\n",
      "20180628   [ 2  7 22 27 40 47 48]   [41 40 35 35 29 29 24]   [40]\n",
      "20180702   [12 13 26 33 35 38 23]   [41 42 35 35 29 29 24]   [35]\n",
      "20180705   [ 8 11 28 30 32 34 39]   [41 42 35 34 29 31 24]   [34]\n",
      "20180709   [ 6 23 31 38 39 43 33]   [39 39 34 36 29 30 23]   [23 39]\n",
      "20180712   [ 4 15 25 32 40 41 10]   [39 41 34 35 30 29 24]   [41]\n",
      "20180716   [ 4  8 19 24 32 47 22]   [40 41 34 36 29 30 24]   [24]\n",
      "20180719   [13 14 23 35 37 46 45]   [40 41 35 35 29 30 24]   [35]\n",
      "20180723   [ 2 23 26 28 39 40 12]   [41 40 34 34 29 31 24]   [40]\n",
      "20180726   [ 1  9 13 17 28 40 37]   [41 40 35 34 29 29 24]   [40]\n",
      "20180730   [ 8 10 19 20 41 43  7]   [41 42 35 34 29 31 24]   [41]\n",
      "20180802   [ 1 10 15 27 41 46 35]   [41 42 35 34 30 31 24]   [35 41]\n",
      "20180806   [ 7 18 20 27 36 40 15]   [39 39 34 36 29 30 24]   [36]\n",
      "20180809   [13 16 20 23 39 42 28]   [39 41 34 35 30 29 24]   [39]\n",
      "20180813   [ 1  3  6 16 22 36 17]   [40 41 34 35 29 29 25]   []\n",
      "20180816   [22 23 25 32 33 36 20]   [40 41 35 35 29 30 24]   []\n",
      "20180820   [ 9 10 25 38 40 42  2]   [41 41 35 35 29 31 24]   []\n",
      "20180823   [ 2  3 23 30 39 41 19]   [41 42 35 34 29 31 25]   [41]\n",
      "20180827   [ 5  6 16 24 26 29 38]   [41 42 35 35 29 31 24]   [24 29]\n",
      "20180830   [ 3  9 27 29 31 40 46]   [41 41 34 36 29 31 25]   [29 31]\n",
      "20180903   [ 4  5 13 18 39 40  3]   [40 39 35 36 29 31 24]   [39 40]\n",
      "20180906   [ 2 15 17 20 23 30 45]   [40 38 35 34 29 31 24]   []\n",
      "20180910   [ 2  6  9 15 40 43 18]   [41 41 35 36 29 29 25]   []\n",
      "20180913   [ 6 16 17 40 44 48 34]   [41 41 34 36 29 31 24]   [34]\n",
      "20180917   [16 21 22 24 25 27  1]   [41 41 35 35 29 29 24]   [24]\n",
      "20180920   [ 5 12 18 30 32 38 22]   [41 42 35 34 29 31 25]   []\n",
      "20180924   [ 6  8 17 24 29 47 34]   [41 42 35 35 30 31 24]   [24]\n",
      "20180927   [ 2 25 29 33 42 45 20]   [41 41 34 36 29 31 25]   [25 29]\n",
      "20181001   [11 15 23 24 32 40 43]   [39 41 35 36 29 31 25]   []\n",
      "20181004   [ 5 12 23 32 37 42 43]   [40 41 35 34 29 31 24]   []\n",
      "20181008   [17 18 23 39 43 49  2]   [40 41 35 34 29 30 24]   []\n",
      "20181011   [ 1 16 18 24 29 46 35]   [41 41 35 37 29 31 25]   [29 35]\n",
      "20181015   [ 1  4 24 32 35 48 20]   [41 41 35 36 29 31 25]   [35]\n",
      "20181018   [ 5 14 17 31 46 48 47]   [41 42 35 36 29 31 25]   [31]\n",
      "20181022   [ 5 22 24 40 43 48  2]   [41 42 35 36 30 31 24]   [24]\n",
      "20181025   [ 7  8 13 15 35 48 30]   [41 41 34 36 29 31 25]   []\n",
      "20181029   [ 2  6 10 20 28 31 30]   [40 41 35 36 29 31 25]   [31]\n",
      "20181101   [ 6 27 28 41 44 48 15]   [40 41 35 36 29 31 25]   [41]\n",
      "20181105   [ 3  8 14 28 43 49 26]   [40 41 35 36 30 31 24]   []\n",
      "20181108   [ 8 13 16 26 28 38 46]   [41 41 35 37 29 30 24]   []\n",
      "20181112   [ 4 12 21 34 41 47 33]   [41 42 34 36 29 31 25]   [34 41]\n"
     ]
    }
   ],
   "source": [
    "test_data = mtr.get_test_data()\n",
    "#X_test = mtr.modified_dataset(getAllData(test_data)) #\n",
    "X_test = test_data[X.columns]\n",
    "#scaler.fit(X_test)\n",
    "X_test_scaled = scaler.transform(X_test.drop('T',axis=1))\n",
    "#[X.columns])\n",
    "X_test_scaled = X_test\n",
    "#[X.columns]\n",
    "test_result = pd.DataFrame(index=X_test.index)\n",
    "test_result['T'] = test_data['T']\n",
    "\n",
    "for i in range(1,8):\n",
    "    test_result['N'+str(i)+'_P'] = model_store[i-1].predict(X_test_scaled).round()\n",
    "#     test_result['N'+str(i)+'_P0'] = test_result['N'+str(i)+'_P']-1\n",
    "#     test_result['N'+str(i)+'_P1'] = test_result['N'+str(i)+'_P']+1\n",
    "\n",
    "\n",
    "#mtr.print_result(test_result)\n",
    "mtr.print_predictions(test_result.astype(int))\n",
    "\n"
   ]
  },
  {
   "cell_type": "code",
   "execution_count": 15,
   "metadata": {},
   "outputs": [
    {
     "name": "stdout",
     "output_type": "stream",
     "text": [
      "[[20040212       42       38 ...,        8       42       38]\n",
      " [20040216       45       38 ...,        6       45       38]\n",
      " [20040219       36       38 ...,        6       36       38]\n",
      " ..., \n",
      " [20180906       44       38 ...,        7       44       38]\n",
      " [20180910       37       41 ...,        9       37       41]\n",
      " [20180913       49       41 ...,        9       49       41]]\n"
     ]
    },
    {
     "data": {
      "text/plain": [
       "1521"
      ]
     },
     "execution_count": 15,
     "metadata": {},
     "output_type": "execute_result"
    }
   ],
   "source": [
    "predicted_result = np.unique(result.values)\n",
    "print(result.values)\n",
    "predicted_result = [np.unique(a) for a in result.values]\n",
    "len(predicted_result)"
   ]
  },
  {
   "cell_type": "code",
   "execution_count": null,
   "metadata": {},
   "outputs": [],
   "source": []
  }
 ],
 "metadata": {
  "kernelspec": {
   "display_name": "Python 3",
   "language": "python",
   "name": "python3"
  },
  "language_info": {
   "codemirror_mode": {
    "name": "ipython",
    "version": 3
   },
   "file_extension": ".py",
   "mimetype": "text/x-python",
   "name": "python",
   "nbconvert_exporter": "python",
   "pygments_lexer": "ipython3",
   "version": "3.6.7"
  }
 },
 "nbformat": 4,
 "nbformat_minor": 2
}
