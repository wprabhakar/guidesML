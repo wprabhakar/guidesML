{
 "cells": [
  {
   "cell_type": "code",
   "execution_count": 4,
   "metadata": {},
   "outputs": [],
   "source": [
    "import numpy as np\n",
    "from scipy import stats\n",
    "\n",
    "import pandas as pd\n",
    "import matplotlib.pyplot as plt\n",
    "import seaborn as sns\n",
    "from sklearn.preprocessing import LabelEncoder, StandardScaler\n",
    "from sklearn.decomposition import PCA\n",
    "from sklearn.model_selection import train_test_split\n",
    "from sklearn.linear_model import SGDClassifier\n",
    "from sklearn.svm import SVC\n",
    "from sklearn.metrics import classification_report, confusion_matrix, roc_curve, auc, accuracy_score\n",
    "import pickle\n",
    "import numpy as np\n",
    "\n",
    "%matplotlib inline"
   ]
  },
  {
   "cell_type": "code",
   "execution_count": 12,
   "metadata": {},
   "outputs": [
    {
     "name": "stdout",
     "output_type": "stream",
     "text": [
      "            X           Y\n",
      "0    6.292929   33.029204\n",
      "1   20.434343   94.117665\n",
      "2   20.939394   94.286240\n",
      "3    5.282828   30.425881\n",
      "4    3.010101   21.471686\n",
      "5   23.464646  114.641490\n",
      "6   10.080808   50.327894\n",
      "7    8.313131   42.967290\n",
      "8    6.797980   41.549861\n",
      "9   13.616162   70.141396\n",
      "10  18.161616   90.402407\n",
      "11  18.414141   79.081124\n",
      "12  11.090909   61.964632\n",
      "13   2.757576   17.779069\n",
      "14  22.202020   92.061211\n",
      "15  11.595960   81.618944\n",
      "16   8.565657   33.251843\n",
      "17   4.525253   28.360255\n",
      "18  21.949495   91.376273\n",
      "19  26.242424  110.364875\n",
      "20   3.515152   15.555455\n",
      "21   2.000000   11.399703\n",
      "22   6.040404   61.459143\n",
      "23  18.919192   89.809026\n",
      "24   4.777778   33.061025\n",
      "25  16.646465   80.520091\n",
      "26  26.747475  108.851132\n",
      "27  16.898990  102.622734\n",
      "28  13.868687   60.228597\n",
      "29  10.585859   62.427540\n",
      "..        ...         ...\n",
      "70   6.545455   22.837147\n",
      "71  23.717172   98.510170\n",
      "72   7.050505   17.831074\n",
      "73  25.737374  115.957357\n",
      "74  14.121212   72.385407\n",
      "75  21.696970  113.959291\n",
      "76  17.151515   86.747102\n",
      "77  25.232323  133.348666\n",
      "78   4.272727   33.041558\n",
      "79  13.363636   54.612202\n",
      "80   7.808081   36.198957\n",
      "81   2.252525   26.964502\n",
      "82  17.404040   79.006900\n",
      "83  20.181818  104.346668\n",
      "84   4.020202   20.852305\n",
      "85  18.666667   93.125419\n",
      "86  19.424242   90.082806\n",
      "87  17.909091   95.203307\n",
      "88   8.060606   50.256996\n",
      "89  10.333333   46.214974\n",
      "90  15.131313   56.033220\n",
      "91  14.878788   75.401679\n",
      "92  12.606061   53.703215\n",
      "93  12.101010   68.615176\n",
      "94  23.969697  105.523011\n",
      "95   3.262626   23.485911\n",
      "96  26.494949  128.020235\n",
      "97   8.818182   35.866577\n",
      "98  19.929293   96.974965\n",
      "99  22.707071  114.154363\n",
      "\n",
      "[100 rows x 2 columns]\n"
     ]
    },
    {
     "data": {
      "text/plain": [
       "LinregressResult(slope=4.111788301092692, intercept=10.51278940382467, rvalue=0.9501304531879755, pvalue=2.1578660496112348e-51, stderr=0.13632767041656144)"
      ]
     },
     "execution_count": 12,
     "metadata": {},
     "output_type": "execute_result"
    }
   ],
   "source": [
    "#Find slope\n",
    "df = pd.read_csv('pivigo/regression_data.csv', header=None, names=['X','Y'])\n",
    "\n",
    "print(df)\n",
    "\n",
    "from scipy.stats import linregress\n",
    "linregress(df['X'], df['Y'])"
   ]
  }
 ],
 "metadata": {
  "kernelspec": {
   "display_name": "Python 3",
   "language": "python",
   "name": "python3"
  },
  "language_info": {
   "codemirror_mode": {
    "name": "ipython",
    "version": 3
   },
   "file_extension": ".py",
   "mimetype": "text/x-python",
   "name": "python",
   "nbconvert_exporter": "python",
   "pygments_lexer": "ipython3",
   "version": "3.6.6"
  }
 },
 "nbformat": 4,
 "nbformat_minor": 2
}
