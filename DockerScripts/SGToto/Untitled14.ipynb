{
 "cells": [
  {
   "cell_type": "code",
   "execution_count": 1,
   "metadata": {
    "scrolled": true
   },
   "outputs": [
    {
     "name": "stdout",
     "output_type": "stream",
     "text": [
      "Cores:  12\n"
     ]
    },
    {
     "name": "stderr",
     "output_type": "stream",
     "text": [
      "/Users/uqapp/anaconda3/envs/mldss/lib/python3.6/importlib/_bootstrap.py:219: ImportWarning: can't resolve package from __spec__ or __package__, falling back on __name__ and __path__\n",
      "  return f(*args, **kwds)\n",
      "Using TensorFlow backend.\n",
      "/Users/uqapp/anaconda3/envs/mldss/lib/python3.6/importlib/_bootstrap.py:219: ImportWarning: can't resolve package from __spec__ or __package__, falling back on __name__ and __path__\n",
      "  return f(*args, **kwds)\n",
      "/Users/uqapp/anaconda3/envs/mldss/lib/python3.6/site-packages/tensorflow/python/util/tf_inspect.py:75: DeprecationWarning: inspect.getargspec() is deprecated, use inspect.signature() or inspect.getfullargspec()\n",
      "  return _inspect.getargspec(target)\n",
      "/Users/uqapp/anaconda3/envs/mldss/lib/python3.6/site-packages/tensorflow/python/keras/backend.py:4900: ResourceWarning: unclosed file <_io.TextIOWrapper name='/Users/uqapp/.keras/keras.json' mode='r' encoding='UTF-8'>\n",
      "  _config = json.load(open(_config_path))\n"
     ]
    },
    {
     "name": "stdout",
     "output_type": "stream",
     "text": [
      "Done.\n"
     ]
    },
    {
     "name": "stderr",
     "output_type": "stream",
     "text": [
      "/Users/uqapp/anaconda3/envs/mldss/lib/python3.6/site-packages/nltk/corpus/reader/wordlist.py:28: ResourceWarning: unclosed file <_io.BufferedReader name='/Users/uqapp/nltk_data/corpora/stopwords/english'>\n",
      "  return concat([self.open(f).read() for f in fileids])\n"
     ]
    },
    {
     "data": {
      "text/html": [
       "<div>\n",
       "<style scoped>\n",
       "    .dataframe tbody tr th:only-of-type {\n",
       "        vertical-align: middle;\n",
       "    }\n",
       "\n",
       "    .dataframe tbody tr th {\n",
       "        vertical-align: top;\n",
       "    }\n",
       "\n",
       "    .dataframe thead th {\n",
       "        text-align: right;\n",
       "    }\n",
       "</style>\n",
       "<table border=\"1\" class=\"dataframe\">\n",
       "  <thead>\n",
       "    <tr style=\"text-align: right;\">\n",
       "      <th></th>\n",
       "      <th>MsgSize</th>\n",
       "      <th>engag</th>\n",
       "      <th>Noun</th>\n",
       "      <th>Adj</th>\n",
       "      <th>Verb</th>\n",
       "    </tr>\n",
       "  </thead>\n",
       "  <tbody>\n",
       "    <tr>\n",
       "      <th>0</th>\n",
       "      <td>383</td>\n",
       "      <td>740</td>\n",
       "      <td>202</td>\n",
       "      <td>30</td>\n",
       "      <td>41</td>\n",
       "    </tr>\n",
       "    <tr>\n",
       "      <th>1</th>\n",
       "      <td>279</td>\n",
       "      <td>308</td>\n",
       "      <td>131</td>\n",
       "      <td>10</td>\n",
       "      <td>27</td>\n",
       "    </tr>\n",
       "    <tr>\n",
       "      <th>2</th>\n",
       "      <td>259</td>\n",
       "      <td>362</td>\n",
       "      <td>144</td>\n",
       "      <td>13</td>\n",
       "      <td>21</td>\n",
       "    </tr>\n",
       "    <tr>\n",
       "      <th>3</th>\n",
       "      <td>310</td>\n",
       "      <td>53</td>\n",
       "      <td>172</td>\n",
       "      <td>12</td>\n",
       "      <td>21</td>\n",
       "    </tr>\n",
       "    <tr>\n",
       "      <th>4</th>\n",
       "      <td>270</td>\n",
       "      <td>346</td>\n",
       "      <td>136</td>\n",
       "      <td>8</td>\n",
       "      <td>23</td>\n",
       "    </tr>\n",
       "  </tbody>\n",
       "</table>\n",
       "</div>"
      ],
      "text/plain": [
       "   MsgSize  engag  Noun  Adj  Verb\n",
       "0      383    740   202   30    41\n",
       "1      279    308   131   10    27\n",
       "2      259    362   144   13    21\n",
       "3      310     53   172   12    21\n",
       "4      270    346   136    8    23"
      ]
     },
     "execution_count": 1,
     "metadata": {},
     "output_type": "execute_result"
    }
   ],
   "source": [
    "import pandas as pd\n",
    "import matplotlib.pyplot as plt\n",
    "import seaborn as sns\n",
    "from sklearn.preprocessing import LabelEncoder, StandardScaler\n",
    "from sklearn.decomposition import PCA\n",
    "from sklearn.model_selection import train_test_split\n",
    "from sklearn.linear_model import SGDClassifier\n",
    "from sklearn.svm import SVC\n",
    "from sklearn.metrics import classification_report, confusion_matrix, roc_curve, auc, accuracy_score\n",
    "import pickle\n",
    "import numpy as np\n",
    "\n",
    "\n",
    "#!conda install -n mldds -c anaconda joblib\n",
    "import os\n",
    "import warnings\n",
    "warnings.filterwarnings('ignore')\n",
    "warnings.filterwarnings(action='once')\n",
    "\n",
    "import multiprocessing\n",
    "num_cores = multiprocessing.cpu_count()\n",
    "\n",
    "print(\"Cores: \", num_cores)\n",
    "\n",
    "import time\n",
    "import keras\n",
    "import tensorflow as tf\n",
    "config = tf.ConfigProto( device_count = {'GPU': 0 , 'CPU': num_cores} )\n",
    "sess = tf.Session(config=config) \n",
    "keras.backend.set_session(sess)\n",
    "\n",
    "#os.environ[\"KERAS_BACKEND\"] = \"plaidml.keras.backend\"\n",
    "\n",
    "os.environ['TF_CPP_MIN_LOG_LEVEL'] = '3'\n",
    "\n",
    "from MyTotoResearchv4 import *\n",
    "\n",
    "%matplotlib inline\n",
    "#Install nltk\n",
    "#!conda install -c anaconda nltk\n",
    "import nltk\n",
    "#nltk.download ()\n",
    "\n",
    "#https://pythonspot-9329.kxcdn.com/wp-content/uploads/2016/08/nltk-speech-codes.png\n",
    "import pandas as pd\n",
    "from nltk.tokenize import sent_tokenize, word_tokenize\n",
    "from nltk.tokenize import RegexpTokenizer\n",
    "from nltk.corpus import stopwords\n",
    "import string\n",
    "\n",
    "class TextAnalysis:\n",
    "    def __init__(self, json_file):\n",
    "        url = 'posts.json'\n",
    "        self.df = pd.read_json(url, orient='columns')\n",
    "        self.messages = self.df.message.fillna(' ')\n",
    "    \n",
    "    def preprocess (self):\n",
    "        self.m = []\n",
    "        self.noun = []\n",
    "        self.adjective = []\n",
    "        self.verb = []\n",
    "\n",
    "        #Remove puncuations\n",
    "        for m in self.messages:\n",
    "            tokenizer = RegexpTokenizer(r'\\w+')\n",
    "            words = tokenizer.tokenize(m)\n",
    "\n",
    "            stop_words = set(stopwords.words('english'))\n",
    "            words = [w for w in words if not w in stop_words]\n",
    "\n",
    "            msg = \"\".join([\" \"+i if not i.startswith(\"'\") and i not in string.punctuation else i for i in words]).strip()\n",
    "\n",
    "            self.m.append(msg)\n",
    "            data = nltk.pos_tag(msg)\n",
    "            noun = 0\n",
    "            adjective = 0\n",
    "            verb = 0 \n",
    "            for word in data: \n",
    "                if 'NN' in word[1]: \n",
    "                    noun += 1\n",
    "                else:\n",
    "                    if 'JJ' in word[1]: \n",
    "                        adjective += 1\n",
    "                    else:\n",
    "                        if 'VB' in word[1]:\n",
    "                            verb += 1\n",
    "            self.noun.append(noun)\n",
    "            self.adjective.append(adjective)\n",
    "            self.verb.append(verb)\n",
    "        df_features = pd.DataFrame()\n",
    "        df_features['MsgSize'] = [len(i) for i in self.messages]\n",
    "        df_features['engag'] = self.df.engagements #/df_features['MsgSize']\n",
    "        df_features['Noun'] = self.noun #/df_features['MsgSize']\n",
    "        df_features['Adj'] = self.adjective #/df_features['MsgSize']\n",
    "        df_features['Verb'] = self.verb #/df_features['MsgSize']\n",
    "\n",
    "\n",
    "        self.df_features = df_features\n",
    "        self.df = []\n",
    "        self.messages = []\n",
    "#        print(self.m, ' ', self.noun, ' ', self.adjective, ' ', verb)\n",
    "\n",
    "\n",
    "\n",
    "ta = TextAnalysis('posts.json')\n",
    "ta.preprocess()\n",
    "ta.df_features.head()\n",
    "#ta.df.info()"
   ]
  },
  {
   "cell_type": "code",
   "execution_count": 2,
   "metadata": {
    "scrolled": true
   },
   "outputs": [
    {
     "name": "stdout",
     "output_type": "stream",
     "text": [
      "<class 'pandas.core.frame.DataFrame'>\n",
      "RangeIndex: 708 entries, 0 to 707\n",
      "Data columns (total 5 columns):\n",
      "engag      708 non-null int64\n",
      "MsgSize    708 non-null int64\n",
      "Noun       708 non-null int64\n",
      "Adj        708 non-null int64\n",
      "Verb       708 non-null int64\n",
      "dtypes: int64(5)\n",
      "memory usage: 27.7 KB\n"
     ]
    }
   ],
   "source": [
    "df = ta.df_features[['engag','MsgSize','Noun','Adj','Verb']]\n",
    "df.info()"
   ]
  },
  {
   "cell_type": "code",
   "execution_count": 3,
   "metadata": {
    "scrolled": true
   },
   "outputs": [
    {
     "data": {
      "text/plain": [
       "<matplotlib.axes._subplots.AxesSubplot at 0x10f1e7978>"
      ]
     },
     "execution_count": 3,
     "metadata": {},
     "output_type": "execute_result"
    },
    {
     "data": {
      "image/png": "[encoded data removed]",
      "text/plain": [
       "<Figure size 720x576 with 2 Axes>"
      ]
     },
     "metadata": {
      "needs_background": "light"
     },
     "output_type": "display_data"
    }
   ],
   "source": [
    "import seaborn as sns\n",
    "%matplotlib inline\n",
    "\n",
    "fig, axes = plt.subplots(figsize=(10, 8))\n",
    "sns.heatmap(df.corr(), ax=axes, annot=True, fmt='.1f')"
   ]
  },
  {
   "cell_type": "code",
   "execution_count": 4,
   "metadata": {},
   "outputs": [
    {
     "name": "stdout",
     "output_type": "stream",
     "text": [
      "<class 'pandas.core.frame.DataFrame'>\n",
      "RangeIndex: 682 entries, 0 to 681\n",
      "Data columns (total 4 columns):\n",
      "MsgSize    682 non-null int64\n",
      "Noun       682 non-null int64\n",
      "Adj        682 non-null int64\n",
      "Verb       682 non-null int64\n",
      "dtypes: int64(4)\n",
      "memory usage: 21.4 KB\n",
      "<class 'pandas.core.frame.DataFrame'>\n",
      "RangeIndex: 682 entries, 0 to 681\n",
      "Data columns (total 1 columns):\n",
      "engag    682 non-null int64\n",
      "dtypes: int64(1)\n",
      "memory usage: 5.4 KB\n"
     ]
    },
    {
     "data": {
      "text/plain": [
       "1"
      ]
     },
     "execution_count": 4,
     "metadata": {},
     "output_type": "execute_result"
    }
   ],
   "source": [
    "X = ta.df_features[['MsgSize','Noun','Adj','Verb']]\n",
    "X.info()\n",
    "y = ta.df_features[['engag']]\n",
    "y.info()\n",
    "y.shape[1]"
   ]
  },
  {
   "cell_type": "code",
   "execution_count": 4,
   "metadata": {},
   "outputs": [
    {
     "ename": "NameError",
     "evalue": "name 'X' is not defined",
     "output_type": "error",
     "traceback": [
      "\u001b[0;31m---------------------------------------------------------------------------\u001b[0m",
      "\u001b[0;31mNameError\u001b[0m                                 Traceback (most recent call last)",
      "\u001b[0;32m<ipython-input-4-d3b3ca4eaf90>\u001b[0m in \u001b[0;36m<module>\u001b[0;34m\u001b[0m\n\u001b[1;32m      9\u001b[0m \u001b[0;34m\u001b[0m\u001b[0m\n\u001b[1;32m     10\u001b[0m \u001b[0;31m# Add an input layer\u001b[0m\u001b[0;34m\u001b[0m\u001b[0;34m\u001b[0m\u001b[0;34m\u001b[0m\u001b[0m\n\u001b[0;32m---> 11\u001b[0;31m \u001b[0mmodel\u001b[0m\u001b[0;34m.\u001b[0m\u001b[0madd\u001b[0m\u001b[0;34m(\u001b[0m\u001b[0mDense\u001b[0m\u001b[0;34m(\u001b[0m\u001b[0;36m512\u001b[0m\u001b[0;34m,\u001b[0m \u001b[0mactivation\u001b[0m\u001b[0;34m=\u001b[0m\u001b[0;34m'tanh'\u001b[0m\u001b[0;34m,\u001b[0m \u001b[0minput_shape\u001b[0m\u001b[0;34m=\u001b[0m\u001b[0;34m(\u001b[0m\u001b[0mX\u001b[0m\u001b[0;34m.\u001b[0m\u001b[0mshape\u001b[0m\u001b[0;34m[\u001b[0m\u001b[0;36m1\u001b[0m\u001b[0;34m]\u001b[0m\u001b[0;34m,\u001b[0m\u001b[0;34m)\u001b[0m\u001b[0;34m)\u001b[0m\u001b[0;34m)\u001b[0m\u001b[0;34m\u001b[0m\u001b[0;34m\u001b[0m\u001b[0m\n\u001b[0m\u001b[1;32m     12\u001b[0m \u001b[0;34m\u001b[0m\u001b[0m\n\u001b[1;32m     13\u001b[0m \u001b[0;31m# Add one hidden layer\u001b[0m\u001b[0;34m\u001b[0m\u001b[0;34m\u001b[0m\u001b[0;34m\u001b[0m\u001b[0m\n",
      "\u001b[0;31mNameError\u001b[0m: name 'X' is not defined"
     ]
    }
   ],
   "source": [
    "# Import `Sequential` from `keras.models`\n",
    "from keras.models import Sequential\n",
    "\n",
    "# Import `Dense` from `keras.layers`\n",
    "from keras.layers import Dense\n",
    "\n",
    "# Initialize the constructor\n",
    "model = Sequential()\n",
    "\n",
    "# Add an input layer \n",
    "model.add(Dense(512, activation='tanh', input_shape=(X.shape[1],)))\n",
    "\n",
    "# Add one hidden layer \n",
    "model.add(Dense(8, activation='relu'))\n",
    "\n",
    "# Add an output layer \n",
    "model.add(Dense(y.shape[1], activation='sigmoid'))"
   ]
  },
  {
   "cell_type": "code",
   "execution_count": 6,
   "metadata": {},
   "outputs": [],
   "source": [
    "Dense??"
   ]
  },
  {
   "cell_type": "code",
   "execution_count": 7,
   "metadata": {},
   "outputs": [
    {
     "name": "stderr",
     "output_type": "stream",
     "text": [
      "/Users/uqapp/anaconda3/envs/mldss/lib/python3.6/site-packages/sklearn/preprocessing/data.py:625: DataConversionWarning: Data with input dtype int64 were all converted to float64 by StandardScaler.\n",
      "  return self.partial_fit(X, y)\n",
      "/Users/uqapp/anaconda3/envs/mldss/lib/python3.6/site-packages/ipykernel_launcher.py:15: DataConversionWarning: Data with input dtype int64 were all converted to float64 by StandardScaler.\n",
      "  from ipykernel import kernelapp as app\n",
      "/Users/uqapp/anaconda3/envs/mldss/lib/python3.6/site-packages/ipykernel_launcher.py:18: DataConversionWarning: Data with input dtype int64 were all converted to float64 by StandardScaler.\n"
     ]
    },
    {
     "name": "stdout",
     "output_type": "stream",
     "text": [
      "Epoch 1/20\n",
      "456/456 [==============================] - 1s 3ms/step - loss: -615.9827 - acc: 0.0000e+00\n",
      "Epoch 2/20\n",
      "456/456 [==============================] - 0s 294us/step - loss: -3165.6107 - acc: 0.0000e+00\n",
      "Epoch 3/20\n",
      "456/456 [==============================] - 0s 296us/step - loss: -4463.7816 - acc: 0.0000e+00\n",
      "Epoch 4/20\n",
      "456/456 [==============================] - 0s 583us/step - loss: -5773.5784 - acc: 0.0000e+00\n",
      "Epoch 5/20\n",
      "456/456 [==============================] - 0s 340us/step - loss: -5871.3776 - acc: 0.0000e+00\n",
      "Epoch 6/20\n",
      "456/456 [==============================] - 0s 395us/step - loss: -5871.3775 - acc: 0.0000e+00\n",
      "Epoch 7/20\n",
      "456/456 [==============================] - 0s 339us/step - loss: -5871.3775 - acc: 0.0000e+00\n",
      "Epoch 8/20\n",
      "456/456 [==============================] - 0s 503us/step - loss: -5871.3775 - acc: 0.0000e+00\n",
      "Epoch 9/20\n",
      "456/456 [==============================] - 0s 540us/step - loss: -5871.3775 - acc: 0.0000e+00\n",
      "Epoch 10/20\n",
      "456/456 [==============================] - 0s 531us/step - loss: -5871.3775 - acc: 0.0000e+00\n",
      "Epoch 11/20\n",
      "456/456 [==============================] - 0s 524us/step - loss: -5871.3775 - acc: 0.0000e+00\n",
      "Epoch 12/20\n",
      "456/456 [==============================] - 0s 498us/step - loss: -5871.3775 - acc: 0.0000e+00\n",
      "Epoch 13/20\n",
      "456/456 [==============================] - 0s 325us/step - loss: -5871.3775 - acc: 0.0000e+00\n",
      "Epoch 14/20\n",
      "456/456 [==============================] - 0s 520us/step - loss: -5871.3775 - acc: 0.0000e+00\n",
      "Epoch 15/20\n",
      "456/456 [==============================] - 0s 583us/step - loss: -5871.3776 - acc: 0.0000e+00\n",
      "Epoch 16/20\n",
      "456/456 [==============================] - 0s 547us/step - loss: -5871.3776 - acc: 0.0000e+00\n",
      "Epoch 17/20\n",
      "456/456 [==============================] - 0s 412us/step - loss: -5871.3776 - acc: 0.0000e+00\n",
      "Epoch 18/20\n",
      "456/456 [==============================] - 0s 510us/step - loss: -5871.3776 - acc: 0.0000e+00\n",
      "Epoch 19/20\n",
      "456/456 [==============================] - 0s 570us/step - loss: -5871.3775 - acc: 0.0000e+00\n",
      "Epoch 20/20\n",
      "456/456 [==============================] - 0s 562us/step - loss: -5871.3776 - acc: 0.0000e+00\n"
     ]
    },
    {
     "data": {
      "text/plain": [
       "<keras.callbacks.History at 0x1a3af217b8>"
      ]
     },
     "execution_count": 7,
     "metadata": {},
     "output_type": "execute_result"
    }
   ],
   "source": [
    "model.compile(loss='binary_crossentropy',\n",
    "              optimizer='adam',\n",
    "              metrics=['accuracy'])\n",
    "\n",
    "# Import `train_test_split` from `sklearn.model_selection`\n",
    "from sklearn.model_selection import train_test_split\n",
    "\n",
    "# Split the data up in train and test sets\n",
    "X_train, X_test, y_train, y_test = train_test_split(X, y, test_size=0.33, random_state=42)\n",
    "\n",
    "# Define the scaler \n",
    "scaler = StandardScaler().fit(X_train)\n",
    "\n",
    "# Scale the train set\n",
    "X_train = scaler.transform(X_train)\n",
    "\n",
    "# Scale the test set\n",
    "X_test = scaler.transform(X_test)\n",
    "\n",
    "model.fit(X_train, y_train,epochs=20, batch_size=5, verbose=1)"
   ]
  },
  {
   "cell_type": "code",
   "execution_count": 8,
   "metadata": {},
   "outputs": [],
   "source": [
    "y_pred = model.predict(X_test)"
   ]
  },
  {
   "cell_type": "code",
   "execution_count": 9,
   "metadata": {},
   "outputs": [
    {
     "name": "stdout",
     "output_type": "stream",
     "text": [
      "226/226 [==============================] - 0s 809us/step\n",
      "[-5843.448233545354, 0.0]\n"
     ]
    }
   ],
   "source": [
    "score = model.evaluate(X_test, y_test,verbose=1)\n",
    "\n",
    "print(score)"
   ]
  },
  {
   "cell_type": "code",
   "execution_count": null,
   "metadata": {},
   "outputs": [],
   "source": []
  },
  {
   "cell_type": "code",
   "execution_count": null,
   "metadata": {},
   "outputs": [],
   "source": []
  },
  {
   "cell_type": "code",
   "execution_count": null,
   "metadata": {},
   "outputs": [],
   "source": []
  },
  {
   "cell_type": "code",
   "execution_count": null,
   "metadata": {},
   "outputs": [],
   "source": []
  }
 ],
 "metadata": {
  "kernelspec": {
   "display_name": "Python 3",
   "language": "python",
   "name": "python3"
  },
  "language_info": {
   "codemirror_mode": {
    "name": "ipython",
    "version": 3
   },
   "file_extension": ".py",
   "mimetype": "text/x-python",
   "name": "python",
   "nbconvert_exporter": "python",
   "pygments_lexer": "ipython3",
   "version": "3.6.7"
  }
 },
 "nbformat": 4,
 "nbformat_minor": 2
}
